{
 "cells": [
  {
   "cell_type": "markdown",
   "id": "d014dba6",
   "metadata": {
    "id": "d014dba6"
   },
   "source": [
    "# Exploratory Data Analysis [ EDA ]"
   ]
  },
  {
   "cell_type": "code",
   "execution_count": 1,
   "id": "e7216d65",
   "metadata": {
    "id": "e7216d65"
   },
   "outputs": [],
   "source": [
    "# Import the libraries\n",
    "\n",
    "import pandas as pd\n",
    "import numpy as np\n",
    "import matplotlib.pyplot as plt\n",
    "import matplotlib\n",
    "import seaborn as sns\n",
    "\n",
    "import warnings\n",
    "warnings.filterwarnings('ignore')"
   ]
  },
  {
   "cell_type": "markdown",
   "id": "c2127970",
   "metadata": {
    "id": "c2127970"
   },
   "source": [
    "## Business Objective:\n",
    "\n",
    " - **This is a classification project, since the variable to predict is binary (bankruptcy or non-bankruptcy). The goal here is to model the probability that a business goes bankrupt from different features.**\n",
    " \n",
    "**The data file contains 7 features about 250 companies**\n",
    "\n",
    "**The data set includes the following variables:**\n",
    "\n",
    "***1.\tindustrial_risk: 0=low risk, 0.5=medium risk, 1=high risk.***\n",
    "\n",
    "***2.\tmanagement_risk: 0=low risk, 0.5=medium risk, 1=high risk.***\n",
    "\n",
    "***3.\tfinancial flexibility: 0=low flexibility, 0.5=medium flexibility, 1=high flexibility.***\n",
    "\n",
    "***4.\tcredibility: 0=low credibility, 0.5=medium credibility, 1=high credibility.***\n",
    "\n",
    "***5.\tcompetitiveness: 0=low competitiveness, 0.5=medium competitiveness, 1=high competitiveness.***\n",
    "\n",
    "***6.\toperating_risk: 0=low risk, 0.5=medium risk, 1=high risk.***\n",
    "\n",
    "***7.\tclass: bankruptcy, non-bankruptcy (target variable).***\n",
    "\n"
   ]
  },
  {
   "cell_type": "code",
   "execution_count": 2,
   "id": "e55c092e",
   "metadata": {
    "id": "e55c092e",
    "outputId": "9d870445-d5a1-474e-e75f-15c433f6e110"
   },
   "outputs": [
    {
     "data": {
      "text/html": [
       "<div>\n",
       "<style scoped>\n",
       "    .dataframe tbody tr th:only-of-type {\n",
       "        vertical-align: middle;\n",
       "    }\n",
       "\n",
       "    .dataframe tbody tr th {\n",
       "        vertical-align: top;\n",
       "    }\n",
       "\n",
       "    .dataframe thead th {\n",
       "        text-align: right;\n",
       "    }\n",
       "</style>\n",
       "<table border=\"1\" class=\"dataframe\">\n",
       "  <thead>\n",
       "    <tr style=\"text-align: right;\">\n",
       "      <th></th>\n",
       "      <th>industrial_risk</th>\n",
       "      <th>management_risk</th>\n",
       "      <th>financial_flexibility</th>\n",
       "      <th>credibility</th>\n",
       "      <th>competitiveness</th>\n",
       "      <th>operating_risk</th>\n",
       "      <th>class</th>\n",
       "    </tr>\n",
       "  </thead>\n",
       "  <tbody>\n",
       "    <tr>\n",
       "      <th>0</th>\n",
       "      <td>0.5</td>\n",
       "      <td>1.0</td>\n",
       "      <td>0.0</td>\n",
       "      <td>0.0</td>\n",
       "      <td>0.0</td>\n",
       "      <td>0.5</td>\n",
       "      <td>bankruptcy</td>\n",
       "    </tr>\n",
       "    <tr>\n",
       "      <th>1</th>\n",
       "      <td>0.0</td>\n",
       "      <td>1.0</td>\n",
       "      <td>0.0</td>\n",
       "      <td>0.0</td>\n",
       "      <td>0.0</td>\n",
       "      <td>1.0</td>\n",
       "      <td>bankruptcy</td>\n",
       "    </tr>\n",
       "    <tr>\n",
       "      <th>2</th>\n",
       "      <td>1.0</td>\n",
       "      <td>0.0</td>\n",
       "      <td>0.0</td>\n",
       "      <td>0.0</td>\n",
       "      <td>0.0</td>\n",
       "      <td>1.0</td>\n",
       "      <td>bankruptcy</td>\n",
       "    </tr>\n",
       "    <tr>\n",
       "      <th>3</th>\n",
       "      <td>0.5</td>\n",
       "      <td>0.0</td>\n",
       "      <td>0.0</td>\n",
       "      <td>0.5</td>\n",
       "      <td>0.0</td>\n",
       "      <td>1.0</td>\n",
       "      <td>bankruptcy</td>\n",
       "    </tr>\n",
       "    <tr>\n",
       "      <th>4</th>\n",
       "      <td>1.0</td>\n",
       "      <td>1.0</td>\n",
       "      <td>0.0</td>\n",
       "      <td>0.0</td>\n",
       "      <td>0.0</td>\n",
       "      <td>1.0</td>\n",
       "      <td>bankruptcy</td>\n",
       "    </tr>\n",
       "    <tr>\n",
       "      <th>...</th>\n",
       "      <td>...</td>\n",
       "      <td>...</td>\n",
       "      <td>...</td>\n",
       "      <td>...</td>\n",
       "      <td>...</td>\n",
       "      <td>...</td>\n",
       "      <td>...</td>\n",
       "    </tr>\n",
       "    <tr>\n",
       "      <th>245</th>\n",
       "      <td>0.0</td>\n",
       "      <td>1.0</td>\n",
       "      <td>1.0</td>\n",
       "      <td>1.0</td>\n",
       "      <td>1.0</td>\n",
       "      <td>1.0</td>\n",
       "      <td>non-bankruptcy</td>\n",
       "    </tr>\n",
       "    <tr>\n",
       "      <th>246</th>\n",
       "      <td>1.0</td>\n",
       "      <td>1.0</td>\n",
       "      <td>0.5</td>\n",
       "      <td>1.0</td>\n",
       "      <td>1.0</td>\n",
       "      <td>0.0</td>\n",
       "      <td>non-bankruptcy</td>\n",
       "    </tr>\n",
       "    <tr>\n",
       "      <th>247</th>\n",
       "      <td>0.0</td>\n",
       "      <td>1.0</td>\n",
       "      <td>1.0</td>\n",
       "      <td>0.5</td>\n",
       "      <td>0.5</td>\n",
       "      <td>0.0</td>\n",
       "      <td>non-bankruptcy</td>\n",
       "    </tr>\n",
       "    <tr>\n",
       "      <th>248</th>\n",
       "      <td>1.0</td>\n",
       "      <td>0.0</td>\n",
       "      <td>0.5</td>\n",
       "      <td>1.0</td>\n",
       "      <td>0.5</td>\n",
       "      <td>0.0</td>\n",
       "      <td>non-bankruptcy</td>\n",
       "    </tr>\n",
       "    <tr>\n",
       "      <th>249</th>\n",
       "      <td>1.0</td>\n",
       "      <td>0.0</td>\n",
       "      <td>0.5</td>\n",
       "      <td>0.5</td>\n",
       "      <td>1.0</td>\n",
       "      <td>1.0</td>\n",
       "      <td>non-bankruptcy</td>\n",
       "    </tr>\n",
       "  </tbody>\n",
       "</table>\n",
       "<p>250 rows × 7 columns</p>\n",
       "</div>"
      ],
      "text/plain": [
       "     industrial_risk  management_risk  financial_flexibility  credibility  \\\n",
       "0                0.5              1.0                    0.0          0.0   \n",
       "1                0.0              1.0                    0.0          0.0   \n",
       "2                1.0              0.0                    0.0          0.0   \n",
       "3                0.5              0.0                    0.0          0.5   \n",
       "4                1.0              1.0                    0.0          0.0   \n",
       "..               ...              ...                    ...          ...   \n",
       "245              0.0              1.0                    1.0          1.0   \n",
       "246              1.0              1.0                    0.5          1.0   \n",
       "247              0.0              1.0                    1.0          0.5   \n",
       "248              1.0              0.0                    0.5          1.0   \n",
       "249              1.0              0.0                    0.5          0.5   \n",
       "\n",
       "     competitiveness  operating_risk           class  \n",
       "0                0.0             0.5      bankruptcy  \n",
       "1                0.0             1.0      bankruptcy  \n",
       "2                0.0             1.0      bankruptcy  \n",
       "3                0.0             1.0      bankruptcy  \n",
       "4                0.0             1.0      bankruptcy  \n",
       "..               ...             ...             ...  \n",
       "245              1.0             1.0  non-bankruptcy  \n",
       "246              1.0             0.0  non-bankruptcy  \n",
       "247              0.5             0.0  non-bankruptcy  \n",
       "248              0.5             0.0  non-bankruptcy  \n",
       "249              1.0             1.0  non-bankruptcy  \n",
       "\n",
       "[250 rows x 7 columns]"
      ]
     },
     "execution_count": 2,
     "metadata": {},
     "output_type": "execute_result"
    }
   ],
   "source": [
    "# Load the dataset\n",
    "\n",
    "bank = pd.read_excel(\"bankruptcy-prevention.xlsx\")\n",
    "bank"
   ]
  },
  {
   "cell_type": "code",
   "execution_count": 3,
   "id": "c7a4cd28",
   "metadata": {
    "id": "c7a4cd28",
    "outputId": "8a9b858a-d8b1-4577-c4d9-2ce765f40918"
   },
   "outputs": [
    {
     "data": {
      "text/html": [
       "<div>\n",
       "<style scoped>\n",
       "    .dataframe tbody tr th:only-of-type {\n",
       "        vertical-align: middle;\n",
       "    }\n",
       "\n",
       "    .dataframe tbody tr th {\n",
       "        vertical-align: top;\n",
       "    }\n",
       "\n",
       "    .dataframe thead th {\n",
       "        text-align: right;\n",
       "    }\n",
       "</style>\n",
       "<table border=\"1\" class=\"dataframe\">\n",
       "  <thead>\n",
       "    <tr style=\"text-align: right;\">\n",
       "      <th></th>\n",
       "      <th>industrial_risk</th>\n",
       "      <th>management_risk</th>\n",
       "      <th>financial_flexibility</th>\n",
       "      <th>credibility</th>\n",
       "      <th>competitiveness</th>\n",
       "      <th>operating_risk</th>\n",
       "      <th>class</th>\n",
       "    </tr>\n",
       "  </thead>\n",
       "  <tbody>\n",
       "    <tr>\n",
       "      <th>0</th>\n",
       "      <td>0.5</td>\n",
       "      <td>1.0</td>\n",
       "      <td>0.0</td>\n",
       "      <td>0.0</td>\n",
       "      <td>0.0</td>\n",
       "      <td>0.5</td>\n",
       "      <td>bankruptcy</td>\n",
       "    </tr>\n",
       "    <tr>\n",
       "      <th>1</th>\n",
       "      <td>0.0</td>\n",
       "      <td>1.0</td>\n",
       "      <td>0.0</td>\n",
       "      <td>0.0</td>\n",
       "      <td>0.0</td>\n",
       "      <td>1.0</td>\n",
       "      <td>bankruptcy</td>\n",
       "    </tr>\n",
       "    <tr>\n",
       "      <th>2</th>\n",
       "      <td>1.0</td>\n",
       "      <td>0.0</td>\n",
       "      <td>0.0</td>\n",
       "      <td>0.0</td>\n",
       "      <td>0.0</td>\n",
       "      <td>1.0</td>\n",
       "      <td>bankruptcy</td>\n",
       "    </tr>\n",
       "    <tr>\n",
       "      <th>3</th>\n",
       "      <td>0.5</td>\n",
       "      <td>0.0</td>\n",
       "      <td>0.0</td>\n",
       "      <td>0.5</td>\n",
       "      <td>0.0</td>\n",
       "      <td>1.0</td>\n",
       "      <td>bankruptcy</td>\n",
       "    </tr>\n",
       "    <tr>\n",
       "      <th>4</th>\n",
       "      <td>1.0</td>\n",
       "      <td>1.0</td>\n",
       "      <td>0.0</td>\n",
       "      <td>0.0</td>\n",
       "      <td>0.0</td>\n",
       "      <td>1.0</td>\n",
       "      <td>bankruptcy</td>\n",
       "    </tr>\n",
       "    <tr>\n",
       "      <th>5</th>\n",
       "      <td>1.0</td>\n",
       "      <td>1.0</td>\n",
       "      <td>0.0</td>\n",
       "      <td>0.5</td>\n",
       "      <td>0.0</td>\n",
       "      <td>0.5</td>\n",
       "      <td>bankruptcy</td>\n",
       "    </tr>\n",
       "    <tr>\n",
       "      <th>6</th>\n",
       "      <td>1.0</td>\n",
       "      <td>1.0</td>\n",
       "      <td>0.0</td>\n",
       "      <td>0.0</td>\n",
       "      <td>0.0</td>\n",
       "      <td>0.0</td>\n",
       "      <td>bankruptcy</td>\n",
       "    </tr>\n",
       "    <tr>\n",
       "      <th>7</th>\n",
       "      <td>1.0</td>\n",
       "      <td>1.0</td>\n",
       "      <td>0.0</td>\n",
       "      <td>0.0</td>\n",
       "      <td>0.0</td>\n",
       "      <td>0.5</td>\n",
       "      <td>bankruptcy</td>\n",
       "    </tr>\n",
       "    <tr>\n",
       "      <th>8</th>\n",
       "      <td>1.0</td>\n",
       "      <td>1.0</td>\n",
       "      <td>0.0</td>\n",
       "      <td>0.5</td>\n",
       "      <td>0.0</td>\n",
       "      <td>0.0</td>\n",
       "      <td>bankruptcy</td>\n",
       "    </tr>\n",
       "    <tr>\n",
       "      <th>9</th>\n",
       "      <td>1.0</td>\n",
       "      <td>1.0</td>\n",
       "      <td>0.0</td>\n",
       "      <td>0.5</td>\n",
       "      <td>0.0</td>\n",
       "      <td>1.0</td>\n",
       "      <td>bankruptcy</td>\n",
       "    </tr>\n",
       "  </tbody>\n",
       "</table>\n",
       "</div>"
      ],
      "text/plain": [
       "   industrial_risk  management_risk  financial_flexibility  credibility  \\\n",
       "0              0.5              1.0                    0.0          0.0   \n",
       "1              0.0              1.0                    0.0          0.0   \n",
       "2              1.0              0.0                    0.0          0.0   \n",
       "3              0.5              0.0                    0.0          0.5   \n",
       "4              1.0              1.0                    0.0          0.0   \n",
       "5              1.0              1.0                    0.0          0.5   \n",
       "6              1.0              1.0                    0.0          0.0   \n",
       "7              1.0              1.0                    0.0          0.0   \n",
       "8              1.0              1.0                    0.0          0.5   \n",
       "9              1.0              1.0                    0.0          0.5   \n",
       "\n",
       "   competitiveness  operating_risk       class  \n",
       "0              0.0             0.5  bankruptcy  \n",
       "1              0.0             1.0  bankruptcy  \n",
       "2              0.0             1.0  bankruptcy  \n",
       "3              0.0             1.0  bankruptcy  \n",
       "4              0.0             1.0  bankruptcy  \n",
       "5              0.0             0.5  bankruptcy  \n",
       "6              0.0             0.0  bankruptcy  \n",
       "7              0.0             0.5  bankruptcy  \n",
       "8              0.0             0.0  bankruptcy  \n",
       "9              0.0             1.0  bankruptcy  "
      ]
     },
     "execution_count": 3,
     "metadata": {},
     "output_type": "execute_result"
    }
   ],
   "source": [
    "bank.head(10)"
   ]
  },
  {
   "cell_type": "code",
   "execution_count": 4,
   "id": "e3721cac",
   "metadata": {
    "id": "e3721cac",
    "outputId": "782fdd82-ffdc-4091-c858-0c0817d27733"
   },
   "outputs": [
    {
     "data": {
      "text/html": [
       "<div>\n",
       "<style scoped>\n",
       "    .dataframe tbody tr th:only-of-type {\n",
       "        vertical-align: middle;\n",
       "    }\n",
       "\n",
       "    .dataframe tbody tr th {\n",
       "        vertical-align: top;\n",
       "    }\n",
       "\n",
       "    .dataframe thead th {\n",
       "        text-align: right;\n",
       "    }\n",
       "</style>\n",
       "<table border=\"1\" class=\"dataframe\">\n",
       "  <thead>\n",
       "    <tr style=\"text-align: right;\">\n",
       "      <th></th>\n",
       "      <th>industrial_risk</th>\n",
       "      <th>management_risk</th>\n",
       "      <th>financial_flexibility</th>\n",
       "      <th>credibility</th>\n",
       "      <th>competitiveness</th>\n",
       "      <th>operating_risk</th>\n",
       "      <th>class</th>\n",
       "    </tr>\n",
       "  </thead>\n",
       "  <tbody>\n",
       "    <tr>\n",
       "      <th>240</th>\n",
       "      <td>0.0</td>\n",
       "      <td>1.0</td>\n",
       "      <td>0.5</td>\n",
       "      <td>0.5</td>\n",
       "      <td>0.5</td>\n",
       "      <td>0.0</td>\n",
       "      <td>non-bankruptcy</td>\n",
       "    </tr>\n",
       "    <tr>\n",
       "      <th>241</th>\n",
       "      <td>1.0</td>\n",
       "      <td>0.0</td>\n",
       "      <td>0.5</td>\n",
       "      <td>0.5</td>\n",
       "      <td>0.5</td>\n",
       "      <td>1.0</td>\n",
       "      <td>non-bankruptcy</td>\n",
       "    </tr>\n",
       "    <tr>\n",
       "      <th>242</th>\n",
       "      <td>0.0</td>\n",
       "      <td>1.0</td>\n",
       "      <td>0.5</td>\n",
       "      <td>0.5</td>\n",
       "      <td>0.5</td>\n",
       "      <td>1.0</td>\n",
       "      <td>non-bankruptcy</td>\n",
       "    </tr>\n",
       "    <tr>\n",
       "      <th>243</th>\n",
       "      <td>0.0</td>\n",
       "      <td>1.0</td>\n",
       "      <td>1.0</td>\n",
       "      <td>1.0</td>\n",
       "      <td>1.0</td>\n",
       "      <td>0.0</td>\n",
       "      <td>non-bankruptcy</td>\n",
       "    </tr>\n",
       "    <tr>\n",
       "      <th>244</th>\n",
       "      <td>1.0</td>\n",
       "      <td>0.0</td>\n",
       "      <td>1.0</td>\n",
       "      <td>1.0</td>\n",
       "      <td>1.0</td>\n",
       "      <td>1.0</td>\n",
       "      <td>non-bankruptcy</td>\n",
       "    </tr>\n",
       "    <tr>\n",
       "      <th>245</th>\n",
       "      <td>0.0</td>\n",
       "      <td>1.0</td>\n",
       "      <td>1.0</td>\n",
       "      <td>1.0</td>\n",
       "      <td>1.0</td>\n",
       "      <td>1.0</td>\n",
       "      <td>non-bankruptcy</td>\n",
       "    </tr>\n",
       "    <tr>\n",
       "      <th>246</th>\n",
       "      <td>1.0</td>\n",
       "      <td>1.0</td>\n",
       "      <td>0.5</td>\n",
       "      <td>1.0</td>\n",
       "      <td>1.0</td>\n",
       "      <td>0.0</td>\n",
       "      <td>non-bankruptcy</td>\n",
       "    </tr>\n",
       "    <tr>\n",
       "      <th>247</th>\n",
       "      <td>0.0</td>\n",
       "      <td>1.0</td>\n",
       "      <td>1.0</td>\n",
       "      <td>0.5</td>\n",
       "      <td>0.5</td>\n",
       "      <td>0.0</td>\n",
       "      <td>non-bankruptcy</td>\n",
       "    </tr>\n",
       "    <tr>\n",
       "      <th>248</th>\n",
       "      <td>1.0</td>\n",
       "      <td>0.0</td>\n",
       "      <td>0.5</td>\n",
       "      <td>1.0</td>\n",
       "      <td>0.5</td>\n",
       "      <td>0.0</td>\n",
       "      <td>non-bankruptcy</td>\n",
       "    </tr>\n",
       "    <tr>\n",
       "      <th>249</th>\n",
       "      <td>1.0</td>\n",
       "      <td>0.0</td>\n",
       "      <td>0.5</td>\n",
       "      <td>0.5</td>\n",
       "      <td>1.0</td>\n",
       "      <td>1.0</td>\n",
       "      <td>non-bankruptcy</td>\n",
       "    </tr>\n",
       "  </tbody>\n",
       "</table>\n",
       "</div>"
      ],
      "text/plain": [
       "     industrial_risk  management_risk  financial_flexibility  credibility  \\\n",
       "240              0.0              1.0                    0.5          0.5   \n",
       "241              1.0              0.0                    0.5          0.5   \n",
       "242              0.0              1.0                    0.5          0.5   \n",
       "243              0.0              1.0                    1.0          1.0   \n",
       "244              1.0              0.0                    1.0          1.0   \n",
       "245              0.0              1.0                    1.0          1.0   \n",
       "246              1.0              1.0                    0.5          1.0   \n",
       "247              0.0              1.0                    1.0          0.5   \n",
       "248              1.0              0.0                    0.5          1.0   \n",
       "249              1.0              0.0                    0.5          0.5   \n",
       "\n",
       "     competitiveness  operating_risk           class  \n",
       "240              0.5             0.0  non-bankruptcy  \n",
       "241              0.5             1.0  non-bankruptcy  \n",
       "242              0.5             1.0  non-bankruptcy  \n",
       "243              1.0             0.0  non-bankruptcy  \n",
       "244              1.0             1.0  non-bankruptcy  \n",
       "245              1.0             1.0  non-bankruptcy  \n",
       "246              1.0             0.0  non-bankruptcy  \n",
       "247              0.5             0.0  non-bankruptcy  \n",
       "248              0.5             0.0  non-bankruptcy  \n",
       "249              1.0             1.0  non-bankruptcy  "
      ]
     },
     "execution_count": 4,
     "metadata": {},
     "output_type": "execute_result"
    }
   ],
   "source": [
    "bank.tail(10)"
   ]
  },
  {
   "cell_type": "code",
   "execution_count": 5,
   "id": "50337b2c",
   "metadata": {
    "id": "50337b2c",
    "outputId": "84dc6cb7-7b71-40e0-cc08-e1a2d135e584"
   },
   "outputs": [
    {
     "data": {
      "text/plain": [
       "(250, 7)"
      ]
     },
     "execution_count": 5,
     "metadata": {},
     "output_type": "execute_result"
    }
   ],
   "source": [
    "# Data Structure \n",
    "\n",
    "type(bank)\n",
    "bank.shape"
   ]
  },
  {
   "cell_type": "code",
   "execution_count": 6,
   "id": "c38810fe",
   "metadata": {
    "id": "c38810fe",
    "outputId": "a173587e-7cbe-49a8-c65b-546233235e14"
   },
   "outputs": [
    {
     "data": {
      "text/plain": [
       "industrial_risk          float64\n",
       "management_risk          float64\n",
       "financial_flexibility    float64\n",
       "credibility              float64\n",
       "competitiveness          float64\n",
       "operating_risk           float64\n",
       "class                     object\n",
       "dtype: object"
      ]
     },
     "execution_count": 6,
     "metadata": {},
     "output_type": "execute_result"
    }
   ],
   "source": [
    "# Data types\n",
    "\n",
    "bank.dtypes"
   ]
  },
  {
   "cell_type": "code",
   "execution_count": 7,
   "id": "20e49c37",
   "metadata": {
    "id": "20e49c37",
    "outputId": "ee0c7228-cdf4-433c-efd9-043370585d3b"
   },
   "outputs": [
    {
     "name": "stdout",
     "output_type": "stream",
     "text": [
      "<class 'pandas.core.frame.DataFrame'>\n",
      "RangeIndex: 250 entries, 0 to 249\n",
      "Data columns (total 7 columns):\n",
      " #   Column                 Non-Null Count  Dtype  \n",
      "---  ------                 --------------  -----  \n",
      " 0   industrial_risk        250 non-null    float64\n",
      " 1   management_risk        250 non-null    float64\n",
      " 2   financial_flexibility  250 non-null    float64\n",
      " 3   credibility            250 non-null    float64\n",
      " 4   competitiveness        250 non-null    float64\n",
      " 5   operating_risk         250 non-null    float64\n",
      " 6   class                  250 non-null    object \n",
      "dtypes: float64(6), object(1)\n",
      "memory usage: 13.8+ KB\n"
     ]
    }
   ],
   "source": [
    "bank.info()"
   ]
  },
  {
   "cell_type": "markdown",
   "id": "6ee09554",
   "metadata": {
    "id": "6ee09554"
   },
   "source": [
    "### Applying Label Encoder\n",
    "\n",
    "#### [ Bankruptcy = 0 , Non-Bankruptcy = 1 ]"
   ]
  },
  {
   "cell_type": "code",
   "execution_count": 8,
   "id": "afa0680d",
   "metadata": {
    "id": "afa0680d",
    "outputId": "b43d2997-bbad-44be-beba-968a105f030d"
   },
   "outputs": [
    {
     "data": {
      "text/html": [
       "<div>\n",
       "<style scoped>\n",
       "    .dataframe tbody tr th:only-of-type {\n",
       "        vertical-align: middle;\n",
       "    }\n",
       "\n",
       "    .dataframe tbody tr th {\n",
       "        vertical-align: top;\n",
       "    }\n",
       "\n",
       "    .dataframe thead th {\n",
       "        text-align: right;\n",
       "    }\n",
       "</style>\n",
       "<table border=\"1\" class=\"dataframe\">\n",
       "  <thead>\n",
       "    <tr style=\"text-align: right;\">\n",
       "      <th></th>\n",
       "      <th>industrial_risk</th>\n",
       "      <th>management_risk</th>\n",
       "      <th>financial_flexibility</th>\n",
       "      <th>credibility</th>\n",
       "      <th>competitiveness</th>\n",
       "      <th>operating_risk</th>\n",
       "      <th>class</th>\n",
       "    </tr>\n",
       "  </thead>\n",
       "  <tbody>\n",
       "    <tr>\n",
       "      <th>0</th>\n",
       "      <td>0.5</td>\n",
       "      <td>1.0</td>\n",
       "      <td>0.0</td>\n",
       "      <td>0.0</td>\n",
       "      <td>0.0</td>\n",
       "      <td>0.5</td>\n",
       "      <td>0</td>\n",
       "    </tr>\n",
       "    <tr>\n",
       "      <th>1</th>\n",
       "      <td>0.0</td>\n",
       "      <td>1.0</td>\n",
       "      <td>0.0</td>\n",
       "      <td>0.0</td>\n",
       "      <td>0.0</td>\n",
       "      <td>1.0</td>\n",
       "      <td>0</td>\n",
       "    </tr>\n",
       "    <tr>\n",
       "      <th>2</th>\n",
       "      <td>1.0</td>\n",
       "      <td>0.0</td>\n",
       "      <td>0.0</td>\n",
       "      <td>0.0</td>\n",
       "      <td>0.0</td>\n",
       "      <td>1.0</td>\n",
       "      <td>0</td>\n",
       "    </tr>\n",
       "    <tr>\n",
       "      <th>3</th>\n",
       "      <td>0.5</td>\n",
       "      <td>0.0</td>\n",
       "      <td>0.0</td>\n",
       "      <td>0.5</td>\n",
       "      <td>0.0</td>\n",
       "      <td>1.0</td>\n",
       "      <td>0</td>\n",
       "    </tr>\n",
       "    <tr>\n",
       "      <th>4</th>\n",
       "      <td>1.0</td>\n",
       "      <td>1.0</td>\n",
       "      <td>0.0</td>\n",
       "      <td>0.0</td>\n",
       "      <td>0.0</td>\n",
       "      <td>1.0</td>\n",
       "      <td>0</td>\n",
       "    </tr>\n",
       "    <tr>\n",
       "      <th>...</th>\n",
       "      <td>...</td>\n",
       "      <td>...</td>\n",
       "      <td>...</td>\n",
       "      <td>...</td>\n",
       "      <td>...</td>\n",
       "      <td>...</td>\n",
       "      <td>...</td>\n",
       "    </tr>\n",
       "    <tr>\n",
       "      <th>245</th>\n",
       "      <td>0.0</td>\n",
       "      <td>1.0</td>\n",
       "      <td>1.0</td>\n",
       "      <td>1.0</td>\n",
       "      <td>1.0</td>\n",
       "      <td>1.0</td>\n",
       "      <td>1</td>\n",
       "    </tr>\n",
       "    <tr>\n",
       "      <th>246</th>\n",
       "      <td>1.0</td>\n",
       "      <td>1.0</td>\n",
       "      <td>0.5</td>\n",
       "      <td>1.0</td>\n",
       "      <td>1.0</td>\n",
       "      <td>0.0</td>\n",
       "      <td>1</td>\n",
       "    </tr>\n",
       "    <tr>\n",
       "      <th>247</th>\n",
       "      <td>0.0</td>\n",
       "      <td>1.0</td>\n",
       "      <td>1.0</td>\n",
       "      <td>0.5</td>\n",
       "      <td>0.5</td>\n",
       "      <td>0.0</td>\n",
       "      <td>1</td>\n",
       "    </tr>\n",
       "    <tr>\n",
       "      <th>248</th>\n",
       "      <td>1.0</td>\n",
       "      <td>0.0</td>\n",
       "      <td>0.5</td>\n",
       "      <td>1.0</td>\n",
       "      <td>0.5</td>\n",
       "      <td>0.0</td>\n",
       "      <td>1</td>\n",
       "    </tr>\n",
       "    <tr>\n",
       "      <th>249</th>\n",
       "      <td>1.0</td>\n",
       "      <td>0.0</td>\n",
       "      <td>0.5</td>\n",
       "      <td>0.5</td>\n",
       "      <td>1.0</td>\n",
       "      <td>1.0</td>\n",
       "      <td>1</td>\n",
       "    </tr>\n",
       "  </tbody>\n",
       "</table>\n",
       "<p>250 rows × 7 columns</p>\n",
       "</div>"
      ],
      "text/plain": [
       "     industrial_risk  management_risk  financial_flexibility  credibility  \\\n",
       "0                0.5              1.0                    0.0          0.0   \n",
       "1                0.0              1.0                    0.0          0.0   \n",
       "2                1.0              0.0                    0.0          0.0   \n",
       "3                0.5              0.0                    0.0          0.5   \n",
       "4                1.0              1.0                    0.0          0.0   \n",
       "..               ...              ...                    ...          ...   \n",
       "245              0.0              1.0                    1.0          1.0   \n",
       "246              1.0              1.0                    0.5          1.0   \n",
       "247              0.0              1.0                    1.0          0.5   \n",
       "248              1.0              0.0                    0.5          1.0   \n",
       "249              1.0              0.0                    0.5          0.5   \n",
       "\n",
       "     competitiveness  operating_risk  class  \n",
       "0                0.0             0.5      0  \n",
       "1                0.0             1.0      0  \n",
       "2                0.0             1.0      0  \n",
       "3                0.0             1.0      0  \n",
       "4                0.0             1.0      0  \n",
       "..               ...             ...    ...  \n",
       "245              1.0             1.0      1  \n",
       "246              1.0             0.0      1  \n",
       "247              0.5             0.0      1  \n",
       "248              0.5             0.0      1  \n",
       "249              1.0             1.0      1  \n",
       "\n",
       "[250 rows x 7 columns]"
      ]
     },
     "execution_count": 8,
     "metadata": {},
     "output_type": "execute_result"
    }
   ],
   "source": [
    "from sklearn.preprocessing import LabelEncoder\n",
    "\n",
    "le = LabelEncoder()\n",
    "bank['class'] = le.fit_transform(bank['class'])\n",
    "bank"
   ]
  },
  {
   "cell_type": "code",
   "execution_count": 9,
   "id": "83f66bac",
   "metadata": {
    "id": "83f66bac",
    "outputId": "1e02c04a-b42e-4e5d-f294-58c0d7b4a779"
   },
   "outputs": [
    {
     "data": {
      "text/html": [
       "<div>\n",
       "<style scoped>\n",
       "    .dataframe tbody tr th:only-of-type {\n",
       "        vertical-align: middle;\n",
       "    }\n",
       "\n",
       "    .dataframe tbody tr th {\n",
       "        vertical-align: top;\n",
       "    }\n",
       "\n",
       "    .dataframe thead th {\n",
       "        text-align: right;\n",
       "    }\n",
       "</style>\n",
       "<table border=\"1\" class=\"dataframe\">\n",
       "  <thead>\n",
       "    <tr style=\"text-align: right;\">\n",
       "      <th></th>\n",
       "      <th>industrial_risk</th>\n",
       "      <th>management_risk</th>\n",
       "      <th>financial_flexibility</th>\n",
       "      <th>credibility</th>\n",
       "      <th>competitiveness</th>\n",
       "      <th>operating_risk</th>\n",
       "      <th>class</th>\n",
       "    </tr>\n",
       "  </thead>\n",
       "  <tbody>\n",
       "    <tr>\n",
       "      <th>count</th>\n",
       "      <td>250.000000</td>\n",
       "      <td>250.000000</td>\n",
       "      <td>250.000000</td>\n",
       "      <td>250.000000</td>\n",
       "      <td>250.000000</td>\n",
       "      <td>250.000000</td>\n",
       "      <td>250.000000</td>\n",
       "    </tr>\n",
       "    <tr>\n",
       "      <th>mean</th>\n",
       "      <td>0.518000</td>\n",
       "      <td>0.614000</td>\n",
       "      <td>0.376000</td>\n",
       "      <td>0.470000</td>\n",
       "      <td>0.476000</td>\n",
       "      <td>0.570000</td>\n",
       "      <td>0.572000</td>\n",
       "    </tr>\n",
       "    <tr>\n",
       "      <th>std</th>\n",
       "      <td>0.411526</td>\n",
       "      <td>0.410705</td>\n",
       "      <td>0.401583</td>\n",
       "      <td>0.415682</td>\n",
       "      <td>0.440682</td>\n",
       "      <td>0.434575</td>\n",
       "      <td>0.495781</td>\n",
       "    </tr>\n",
       "    <tr>\n",
       "      <th>min</th>\n",
       "      <td>0.000000</td>\n",
       "      <td>0.000000</td>\n",
       "      <td>0.000000</td>\n",
       "      <td>0.000000</td>\n",
       "      <td>0.000000</td>\n",
       "      <td>0.000000</td>\n",
       "      <td>0.000000</td>\n",
       "    </tr>\n",
       "    <tr>\n",
       "      <th>25%</th>\n",
       "      <td>0.000000</td>\n",
       "      <td>0.500000</td>\n",
       "      <td>0.000000</td>\n",
       "      <td>0.000000</td>\n",
       "      <td>0.000000</td>\n",
       "      <td>0.000000</td>\n",
       "      <td>0.000000</td>\n",
       "    </tr>\n",
       "    <tr>\n",
       "      <th>50%</th>\n",
       "      <td>0.500000</td>\n",
       "      <td>0.500000</td>\n",
       "      <td>0.500000</td>\n",
       "      <td>0.500000</td>\n",
       "      <td>0.500000</td>\n",
       "      <td>0.500000</td>\n",
       "      <td>1.000000</td>\n",
       "    </tr>\n",
       "    <tr>\n",
       "      <th>75%</th>\n",
       "      <td>1.000000</td>\n",
       "      <td>1.000000</td>\n",
       "      <td>0.500000</td>\n",
       "      <td>1.000000</td>\n",
       "      <td>1.000000</td>\n",
       "      <td>1.000000</td>\n",
       "      <td>1.000000</td>\n",
       "    </tr>\n",
       "    <tr>\n",
       "      <th>max</th>\n",
       "      <td>1.000000</td>\n",
       "      <td>1.000000</td>\n",
       "      <td>1.000000</td>\n",
       "      <td>1.000000</td>\n",
       "      <td>1.000000</td>\n",
       "      <td>1.000000</td>\n",
       "      <td>1.000000</td>\n",
       "    </tr>\n",
       "  </tbody>\n",
       "</table>\n",
       "</div>"
      ],
      "text/plain": [
       "       industrial_risk  management_risk  financial_flexibility  credibility  \\\n",
       "count       250.000000       250.000000             250.000000   250.000000   \n",
       "mean          0.518000         0.614000               0.376000     0.470000   \n",
       "std           0.411526         0.410705               0.401583     0.415682   \n",
       "min           0.000000         0.000000               0.000000     0.000000   \n",
       "25%           0.000000         0.500000               0.000000     0.000000   \n",
       "50%           0.500000         0.500000               0.500000     0.500000   \n",
       "75%           1.000000         1.000000               0.500000     1.000000   \n",
       "max           1.000000         1.000000               1.000000     1.000000   \n",
       "\n",
       "       competitiveness  operating_risk       class  \n",
       "count       250.000000      250.000000  250.000000  \n",
       "mean          0.476000        0.570000    0.572000  \n",
       "std           0.440682        0.434575    0.495781  \n",
       "min           0.000000        0.000000    0.000000  \n",
       "25%           0.000000        0.000000    0.000000  \n",
       "50%           0.500000        0.500000    1.000000  \n",
       "75%           1.000000        1.000000    1.000000  \n",
       "max           1.000000        1.000000    1.000000  "
      ]
     },
     "execution_count": 9,
     "metadata": {},
     "output_type": "execute_result"
    }
   ],
   "source": [
    "bank.describe()"
   ]
  },
  {
   "cell_type": "markdown",
   "id": "ea429f66",
   "metadata": {
    "id": "ea429f66"
   },
   "source": [
    "## Outlier Detections"
   ]
  },
  {
   "cell_type": "code",
   "execution_count": 10,
   "id": "9b33ca7f",
   "metadata": {
    "id": "9b33ca7f",
    "outputId": "891962d8-2b9d-43a4-ab6e-b81d80d82743"
   },
   "outputs": [
    {
     "data": {
      "text/plain": [
       "{'whiskers': [<matplotlib.lines.Line2D at 0x2b356d25d90>,\n",
       "  <matplotlib.lines.Line2D at 0x2b356d410a0>],\n",
       " 'caps': [<matplotlib.lines.Line2D at 0x2b356d41430>,\n",
       "  <matplotlib.lines.Line2D at 0x2b356d41640>],\n",
       " 'boxes': [<matplotlib.lines.Line2D at 0x2b356d25ac0>],\n",
       " 'medians': [<matplotlib.lines.Line2D at 0x2b356d41910>],\n",
       " 'fliers': [<matplotlib.lines.Line2D at 0x2b356d41be0>],\n",
       " 'means': []}"
      ]
     },
     "execution_count": 10,
     "metadata": {},
     "output_type": "execute_result"
    },
    {
     "data": {
      "image/png": "[encoded data removed]",
      "text/plain": [
       "<Figure size 432x288 with 1 Axes>"
      ]
     },
     "metadata": {
      "needs_background": "light"
     },
     "output_type": "display_data"
    }
   ],
   "source": [
    "plt.boxplot(bank.industrial_risk)"
   ]
  },
  {
   "cell_type": "code",
   "execution_count": 11,
   "id": "828720e0",
   "metadata": {
    "id": "828720e0",
    "outputId": "8a9bcbcb-efab-4e46-9b6a-208e2740ad3f"
   },
   "outputs": [
    {
     "data": {
      "text/plain": [
       "{'whiskers': [<matplotlib.lines.Line2D at 0x2b35bf0b3a0>,\n",
       "  <matplotlib.lines.Line2D at 0x2b35bf0b670>],\n",
       " 'caps': [<matplotlib.lines.Line2D at 0x2b35bf0b970>,\n",
       "  <matplotlib.lines.Line2D at 0x2b35bf0bc40>],\n",
       " 'boxes': [<matplotlib.lines.Line2D at 0x2b35bf0b0d0>],\n",
       " 'medians': [<matplotlib.lines.Line2D at 0x2b35bf0bf10>],\n",
       " 'fliers': [<matplotlib.lines.Line2D at 0x2b35bf19220>],\n",
       " 'means': []}"
      ]
     },
     "execution_count": 11,
     "metadata": {},
     "output_type": "execute_result"
    },
    {
     "data": {
      "image/png": "[encoded data removed]",
      "text/plain": [
       "<Figure size 432x288 with 1 Axes>"
      ]
     },
     "metadata": {
      "needs_background": "light"
     },
     "output_type": "display_data"
    }
   ],
   "source": [
    "plt.boxplot(bank['management_risk'])"
   ]
  },
  {
   "cell_type": "code",
   "execution_count": 12,
   "id": "afbe1349",
   "metadata": {
    "id": "afbe1349",
    "outputId": "035a6711-60fb-4035-87eb-9dbf7c8dc1d2"
   },
   "outputs": [
    {
     "data": {
      "text/plain": [
       "{'whiskers': [<matplotlib.lines.Line2D at 0x2b35bf709a0>,\n",
       "  <matplotlib.lines.Line2D at 0x2b35bf70c70>],\n",
       " 'caps': [<matplotlib.lines.Line2D at 0x2b35bf70f40>,\n",
       "  <matplotlib.lines.Line2D at 0x2b35bf7e250>],\n",
       " 'boxes': [<matplotlib.lines.Line2D at 0x2b35bf706d0>],\n",
       " 'medians': [<matplotlib.lines.Line2D at 0x2b35bf7e520>],\n",
       " 'fliers': [<matplotlib.lines.Line2D at 0x2b35bf7e7f0>],\n",
       " 'means': []}"
      ]
     },
     "execution_count": 12,
     "metadata": {},
     "output_type": "execute_result"
    },
    {
     "data": {
      "image/png": "[encoded data removed]",
      "text/plain": [
       "<Figure size 432x288 with 1 Axes>"
      ]
     },
     "metadata": {
      "needs_background": "light"
     },
     "output_type": "display_data"
    }
   ],
   "source": [
    "plt.boxplot(bank['financial_flexibility'])"
   ]
  },
  {
   "cell_type": "code",
   "execution_count": 13,
   "id": "25c8b0da",
   "metadata": {
    "id": "25c8b0da",
    "outputId": "f5ade6c9-6c9e-4e5d-f3fd-f82e3ec95652"
   },
   "outputs": [
    {
     "data": {
      "text/plain": [
       "{'whiskers': [<matplotlib.lines.Line2D at 0x2b35bfd0160>,\n",
       "  <matplotlib.lines.Line2D at 0x2b35bfd0430>],\n",
       " 'caps': [<matplotlib.lines.Line2D at 0x2b35bfd0730>,\n",
       "  <matplotlib.lines.Line2D at 0x2b35bfd0a00>],\n",
       " 'boxes': [<matplotlib.lines.Line2D at 0x2b35bfc3e50>],\n",
       " 'medians': [<matplotlib.lines.Line2D at 0x2b35bfd0cd0>],\n",
       " 'fliers': [<matplotlib.lines.Line2D at 0x2b35bfd0fa0>],\n",
       " 'means': []}"
      ]
     },
     "execution_count": 13,
     "metadata": {},
     "output_type": "execute_result"
    },
    {
     "data": {
      "image/png": "[encoded data removed]",
      "text/plain": [
       "<Figure size 432x288 with 1 Axes>"
      ]
     },
     "metadata": {
      "needs_background": "light"
     },
     "output_type": "display_data"
    }
   ],
   "source": [
    "plt.boxplot(bank['credibility'])"
   ]
  },
  {
   "cell_type": "code",
   "execution_count": 14,
   "id": "0763f302",
   "metadata": {
    "id": "0763f302",
    "outputId": "0b0ee4c1-093e-460c-d615-bfef15bf62a7"
   },
   "outputs": [
    {
     "data": {
      "text/plain": [
       "{'whiskers': [<matplotlib.lines.Line2D at 0x2b35c0246a0>,\n",
       "  <matplotlib.lines.Line2D at 0x2b35c024970>],\n",
       " 'caps': [<matplotlib.lines.Line2D at 0x2b35c024c40>,\n",
       "  <matplotlib.lines.Line2D at 0x2b35c024f10>],\n",
       " 'boxes': [<matplotlib.lines.Line2D at 0x2b35c0243d0>],\n",
       " 'medians': [<matplotlib.lines.Line2D at 0x2b35c02f220>],\n",
       " 'fliers': [<matplotlib.lines.Line2D at 0x2b35c02f4f0>],\n",
       " 'means': []}"
      ]
     },
     "execution_count": 14,
     "metadata": {},
     "output_type": "execute_result"
    },
    {
     "data": {
      "image/png": "[encoded data removed]",
      "text/plain": [
       "<Figure size 432x288 with 1 Axes>"
      ]
     },
     "metadata": {
      "needs_background": "light"
     },
     "output_type": "display_data"
    }
   ],
   "source": [
    "plt.boxplot(bank['competitiveness'])"
   ]
  },
  {
   "cell_type": "code",
   "execution_count": 15,
   "id": "33dc7fc1",
   "metadata": {
    "id": "33dc7fc1",
    "outputId": "49146d7e-3059-4d5e-be77-58fe8d6ec0b9"
   },
   "outputs": [
    {
     "data": {
      "text/plain": [
       "{'whiskers': [<matplotlib.lines.Line2D at 0x2b35c087700>,\n",
       "  <matplotlib.lines.Line2D at 0x2b35c0879d0>],\n",
       " 'caps': [<matplotlib.lines.Line2D at 0x2b35c087ca0>,\n",
       "  <matplotlib.lines.Line2D at 0x2b35c087f70>],\n",
       " 'boxes': [<matplotlib.lines.Line2D at 0x2b35c087430>],\n",
       " 'medians': [<matplotlib.lines.Line2D at 0x2b35c093280>],\n",
       " 'fliers': [<matplotlib.lines.Line2D at 0x2b35c093550>],\n",
       " 'means': []}"
      ]
     },
     "execution_count": 15,
     "metadata": {},
     "output_type": "execute_result"
    },
    {
     "data": {
      "image/png": "[encoded data removed]",
      "text/plain": [
       "<Figure size 432x288 with 1 Axes>"
      ]
     },
     "metadata": {
      "needs_background": "light"
     },
     "output_type": "display_data"
    }
   ],
   "source": [
    "plt.boxplot(bank['operating_risk'])"
   ]
  },
  {
   "cell_type": "markdown",
   "id": "f25cf6ac",
   "metadata": {
    "id": "f25cf6ac"
   },
   "source": [
    " - **The above Boxplots shows, there are no outliers.**"
   ]
  },
  {
   "cell_type": "markdown",
   "id": "6ddc49fe",
   "metadata": {
    "id": "6ddc49fe"
   },
   "source": [
    "### Correlation Analysis :"
   ]
  },
  {
   "cell_type": "code",
   "execution_count": 16,
   "id": "8827d42b",
   "metadata": {
    "id": "8827d42b",
    "outputId": "cc04a783-0051-4182-90bc-392b2818de15"
   },
   "outputs": [
    {
     "data": {
      "text/html": [
       "<div>\n",
       "<style scoped>\n",
       "    .dataframe tbody tr th:only-of-type {\n",
       "        vertical-align: middle;\n",
       "    }\n",
       "\n",
       "    .dataframe tbody tr th {\n",
       "        vertical-align: top;\n",
       "    }\n",
       "\n",
       "    .dataframe thead th {\n",
       "        text-align: right;\n",
       "    }\n",
       "</style>\n",
       "<table border=\"1\" class=\"dataframe\">\n",
       "  <thead>\n",
       "    <tr style=\"text-align: right;\">\n",
       "      <th></th>\n",
       "      <th>industrial_risk</th>\n",
       "      <th>management_risk</th>\n",
       "      <th>financial_flexibility</th>\n",
       "      <th>credibility</th>\n",
       "      <th>competitiveness</th>\n",
       "      <th>operating_risk</th>\n",
       "      <th>class</th>\n",
       "    </tr>\n",
       "  </thead>\n",
       "  <tbody>\n",
       "    <tr>\n",
       "      <th>industrial_risk</th>\n",
       "      <td>1.000000</td>\n",
       "      <td>0.255127</td>\n",
       "      <td>-0.162624</td>\n",
       "      <td>-0.014438</td>\n",
       "      <td>-0.257814</td>\n",
       "      <td>0.144507</td>\n",
       "      <td>-0.227823</td>\n",
       "    </tr>\n",
       "    <tr>\n",
       "      <th>management_risk</th>\n",
       "      <td>0.255127</td>\n",
       "      <td>1.000000</td>\n",
       "      <td>-0.254845</td>\n",
       "      <td>-0.303341</td>\n",
       "      <td>-0.306568</td>\n",
       "      <td>0.213874</td>\n",
       "      <td>-0.370838</td>\n",
       "    </tr>\n",
       "    <tr>\n",
       "      <th>financial_flexibility</th>\n",
       "      <td>-0.162624</td>\n",
       "      <td>-0.254845</td>\n",
       "      <td>1.000000</td>\n",
       "      <td>0.524951</td>\n",
       "      <td>0.686612</td>\n",
       "      <td>-0.116903</td>\n",
       "      <td>0.751020</td>\n",
       "    </tr>\n",
       "    <tr>\n",
       "      <th>credibility</th>\n",
       "      <td>-0.014438</td>\n",
       "      <td>-0.303341</td>\n",
       "      <td>0.524951</td>\n",
       "      <td>1.000000</td>\n",
       "      <td>0.675689</td>\n",
       "      <td>-0.288458</td>\n",
       "      <td>0.755909</td>\n",
       "    </tr>\n",
       "    <tr>\n",
       "      <th>competitiveness</th>\n",
       "      <td>-0.257814</td>\n",
       "      <td>-0.306568</td>\n",
       "      <td>0.686612</td>\n",
       "      <td>0.675689</td>\n",
       "      <td>1.000000</td>\n",
       "      <td>-0.211383</td>\n",
       "      <td>0.899452</td>\n",
       "    </tr>\n",
       "    <tr>\n",
       "      <th>operating_risk</th>\n",
       "      <td>0.144507</td>\n",
       "      <td>0.213874</td>\n",
       "      <td>-0.116903</td>\n",
       "      <td>-0.288458</td>\n",
       "      <td>-0.211383</td>\n",
       "      <td>1.000000</td>\n",
       "      <td>-0.279786</td>\n",
       "    </tr>\n",
       "    <tr>\n",
       "      <th>class</th>\n",
       "      <td>-0.227823</td>\n",
       "      <td>-0.370838</td>\n",
       "      <td>0.751020</td>\n",
       "      <td>0.755909</td>\n",
       "      <td>0.899452</td>\n",
       "      <td>-0.279786</td>\n",
       "      <td>1.000000</td>\n",
       "    </tr>\n",
       "  </tbody>\n",
       "</table>\n",
       "</div>"
      ],
      "text/plain": [
       "                       industrial_risk  management_risk  \\\n",
       "industrial_risk               1.000000         0.255127   \n",
       "management_risk               0.255127         1.000000   \n",
       "financial_flexibility        -0.162624        -0.254845   \n",
       "credibility                  -0.014438        -0.303341   \n",
       "competitiveness              -0.257814        -0.306568   \n",
       "operating_risk                0.144507         0.213874   \n",
       "class                        -0.227823        -0.370838   \n",
       "\n",
       "                       financial_flexibility  credibility  competitiveness  \\\n",
       "industrial_risk                    -0.162624    -0.014438        -0.257814   \n",
       "management_risk                    -0.254845    -0.303341        -0.306568   \n",
       "financial_flexibility               1.000000     0.524951         0.686612   \n",
       "credibility                         0.524951     1.000000         0.675689   \n",
       "competitiveness                     0.686612     0.675689         1.000000   \n",
       "operating_risk                     -0.116903    -0.288458        -0.211383   \n",
       "class                               0.751020     0.755909         0.899452   \n",
       "\n",
       "                       operating_risk     class  \n",
       "industrial_risk              0.144507 -0.227823  \n",
       "management_risk              0.213874 -0.370838  \n",
       "financial_flexibility       -0.116903  0.751020  \n",
       "credibility                 -0.288458  0.755909  \n",
       "competitiveness             -0.211383  0.899452  \n",
       "operating_risk               1.000000 -0.279786  \n",
       "class                       -0.279786  1.000000  "
      ]
     },
     "execution_count": 16,
     "metadata": {},
     "output_type": "execute_result"
    }
   ],
   "source": [
    "bank.corr()"
   ]
  },
  {
   "cell_type": "code",
   "execution_count": 24,
   "id": "cce1e841",
   "metadata": {
    "id": "cce1e841",
    "outputId": "b709cd14-f96e-4ebf-da01-7eab7b2f653c",
    "scrolled": false
   },
   "outputs": [
    {
     "data": {
      "text/plain": [
       "<AxesSubplot:>"
      ]
     },
     "execution_count": 24,
     "metadata": {},
     "output_type": "execute_result"
    },
    {
     "data": {
      "image/png": "[encoded data removed]",
      "text/plain": [
       "<Figure size 1152x720 with 2 Axes>"
      ]
     },
     "metadata": {
      "needs_background": "light"
     },
     "output_type": "display_data"
    }
   ],
   "source": [
    "plt.rcParams['figure.figsize'] = (16,10) \n",
    "sns.heatmap(bank.corr(), cmap=\"crest_r\", annot = True)"
   ]
  },
  {
   "cell_type": "markdown",
   "id": "9c408138",
   "metadata": {
    "id": "9c408138"
   },
   "source": [
    " -  **The correlation between competitiveness and class is high.**"
   ]
  },
  {
   "cell_type": "code",
   "execution_count": 25,
   "id": "4e1b45c1",
   "metadata": {
    "id": "4e1b45c1",
    "outputId": "3f7d68d9-a13c-496b-e53c-e70095250d3a"
   },
   "outputs": [
    {
     "data": {
      "text/plain": [
       "1    143\n",
       "0    107\n",
       "Name: class, dtype: int64"
      ]
     },
     "execution_count": 25,
     "metadata": {},
     "output_type": "execute_result"
    }
   ],
   "source": [
    "bank['class'].value_counts()"
   ]
  },
  {
   "cell_type": "markdown",
   "id": "681eb5ab",
   "metadata": {
    "id": "681eb5ab"
   },
   "source": [
    "## Visualizations :"
   ]
  },
  {
   "cell_type": "code",
   "execution_count": 26,
   "id": "3d7a614e",
   "metadata": {
    "id": "3d7a614e",
    "outputId": "0d0b1e90-25dc-4192-f6ef-98f38315f052"
   },
   "outputs": [
    {
     "data": {
      "image/png": "[encoded data removed]",
      "text/plain": [
       "<Figure size 1152x720 with 1 Axes>"
      ]
     },
     "metadata": {
      "needs_background": "light"
     },
     "output_type": "display_data"
    }
   ],
   "source": [
    "#Bar plot\n",
    "\n",
    "bank['class'].value_counts().plot.bar()\n",
    "plt.rcParams['figure.figsize'] = (10,5) "
   ]
  },
  {
   "cell_type": "code",
   "execution_count": 27,
   "id": "7a6f142b",
   "metadata": {
    "id": "7a6f142b",
    "outputId": "eeac9cf9-25ba-494f-c0c1-0e2ef3871228",
    "scrolled": true
   },
   "outputs": [
    {
     "data": {
      "text/plain": [
       "<AxesSubplot:xlabel='class', ylabel='count'>"
      ]
     },
     "execution_count": 27,
     "metadata": {},
     "output_type": "execute_result"
    },
    {
     "data": {
      "image/png": "[encoded data removed]",
      "text/plain": [
       "<Figure size 720x360 with 1 Axes>"
      ]
     },
     "metadata": {
      "needs_background": "light"
     },
     "output_type": "display_data"
    }
   ],
   "source": [
    "sns.countplot(x ='class',data = bank, palette = 'viridis')"
   ]
  },
  {
   "cell_type": "code",
   "execution_count": 28,
   "id": "bd75fcca",
   "metadata": {
    "id": "bd75fcca",
    "outputId": "8e1761fd-3421-4017-84f0-0498709b8adb"
   },
   "outputs": [
    {
     "data": {
      "text/plain": [
       "<AxesSubplot:xlabel='industrial_risk', ylabel='count'>"
      ]
     },
     "execution_count": 28,
     "metadata": {},
     "output_type": "execute_result"
    },
    {
     "data": {
      "image/png": "[encoded data removed]",
      "text/plain": [
       "<Figure size 720x360 with 1 Axes>"
      ]
     },
     "metadata": {
      "needs_background": "light"
     },
     "output_type": "display_data"
    }
   ],
   "source": [
    "sns.countplot(x ='industrial_risk', hue = 'class',data = bank, palette = 'viridis')"
   ]
  },
  {
   "cell_type": "code",
   "execution_count": 29,
   "id": "06f4e1f2",
   "metadata": {
    "id": "06f4e1f2",
    "outputId": "50271cc5-729d-40b4-a221-c308037c42fc"
   },
   "outputs": [
    {
     "data": {
      "text/plain": [
       "<AxesSubplot:xlabel='management_risk', ylabel='count'>"
      ]
     },
     "execution_count": 29,
     "metadata": {},
     "output_type": "execute_result"
    },
    {
     "data": {
      "image/png": "[encoded data removed]",
      "text/plain": [
       "<Figure size 720x360 with 1 Axes>"
      ]
     },
     "metadata": {
      "needs_background": "light"
     },
     "output_type": "display_data"
    }
   ],
   "source": [
    "sns.countplot(x ='management_risk', hue = 'class',data = bank, palette = 'viridis')"
   ]
  },
  {
   "cell_type": "code",
   "execution_count": 30,
   "id": "e330503f",
   "metadata": {
    "id": "e330503f",
    "outputId": "1651d3db-0bea-42bc-862e-cda59cf13e9c"
   },
   "outputs": [
    {
     "data": {
      "text/plain": [
       "<AxesSubplot:xlabel='financial_flexibility', ylabel='count'>"
      ]
     },
     "execution_count": 30,
     "metadata": {},
     "output_type": "execute_result"
    },
    {
     "data": {
      "image/png": "[encoded data removed]",
      "text/plain": [
       "<Figure size 720x360 with 1 Axes>"
      ]
     },
     "metadata": {
      "needs_background": "light"
     },
     "output_type": "display_data"
    }
   ],
   "source": [
    "sns.countplot(x ='financial_flexibility', hue = 'class',data = bank, palette = 'viridis')"
   ]
  },
  {
   "cell_type": "code",
   "execution_count": 31,
   "id": "37d9d462",
   "metadata": {
    "id": "37d9d462",
    "outputId": "170f37db-55bf-4f28-8d04-cbb21a6afc72"
   },
   "outputs": [
    {
     "data": {
      "text/plain": [
       "<AxesSubplot:xlabel='credibility', ylabel='count'>"
      ]
     },
     "execution_count": 31,
     "metadata": {},
     "output_type": "execute_result"
    },
    {
     "data": {
      "image/png": "[encoded data removed]",
      "text/plain": [
       "<Figure size 720x360 with 1 Axes>"
      ]
     },
     "metadata": {
      "needs_background": "light"
     },
     "output_type": "display_data"
    }
   ],
   "source": [
    "sns.countplot(x ='credibility', hue = 'class',data = bank, palette = 'viridis')"
   ]
  },
  {
   "cell_type": "code",
   "execution_count": 32,
   "id": "391e2928",
   "metadata": {
    "id": "391e2928",
    "outputId": "6ac65f60-ee48-458a-a6ec-e30bdbf1420f"
   },
   "outputs": [
    {
     "data": {
      "text/plain": [
       "<AxesSubplot:xlabel='competitiveness', ylabel='count'>"
      ]
     },
     "execution_count": 32,
     "metadata": {},
     "output_type": "execute_result"
    },
    {
     "data": {
      "image/png": "[encoded data removed]",
      "text/plain": [
       "<Figure size 720x360 with 1 Axes>"
      ]
     },
     "metadata": {
      "needs_background": "light"
     },
     "output_type": "display_data"
    }
   ],
   "source": [
    "sns.countplot(x ='competitiveness', hue = 'class',data = bank, palette = 'viridis')"
   ]
  },
  {
   "cell_type": "code",
   "execution_count": 33,
   "id": "07c47813",
   "metadata": {
    "id": "07c47813",
    "outputId": "55a7053c-afd1-436c-fa77-ba1bb73b8a21"
   },
   "outputs": [
    {
     "data": {
      "text/plain": [
       "<AxesSubplot:xlabel='operating_risk', ylabel='count'>"
      ]
     },
     "execution_count": 33,
     "metadata": {},
     "output_type": "execute_result"
    },
    {
     "data": {
      "image/png": "[encoded data removed]",
      "text/plain": [
       "<Figure size 720x360 with 1 Axes>"
      ]
     },
     "metadata": {
      "needs_background": "light"
     },
     "output_type": "display_data"
    }
   ],
   "source": [
    "sns.countplot(x ='operating_risk', hue = 'class',data = bank, palette = 'viridis')"
   ]
  },
  {
   "cell_type": "code",
   "execution_count": 34,
   "id": "dfb1e6d7",
   "metadata": {
    "id": "dfb1e6d7",
    "outputId": "d811397c-8841-496c-8d2d-3c4a6eaaeb80"
   },
   "outputs": [
    {
     "data": {
      "image/png": "[encoded data removed]",
      "text/plain": [
       "<Figure size 720x576 with 1 Axes>"
      ]
     },
     "metadata": {},
     "output_type": "display_data"
    }
   ],
   "source": [
    "# Pie Chart\n",
    "\n",
    "plt.figure(figsize = (10, 8))\n",
    "bank_1 = [\"Non-Bankruptcy\",\"Bankruptcy\"]\n",
    "plt.pie(bank['class'].value_counts(), labels = bank_1,explode = [0.0,0.1],shadow=True,       \n",
    "        autopct = '%.2f%%')\n",
    "plt.legend(loc='lower right')\n",
    "plt.title('Bankruptcy prevention Pie Chart', fontsize = 18)\n",
    "plt.show()"
   ]
  },
  {
   "cell_type": "markdown",
   "id": "cfd0fa21",
   "metadata": {
    "id": "cfd0fa21"
   },
   "source": [
    " - **The above pie-chart shows, the dataset contains 57.20% of Non-Bankrupt companies and 42.80% of Bankrupt companies.**"
   ]
  },
  {
   "cell_type": "markdown",
   "id": "1be7a878",
   "metadata": {
    "id": "1be7a878"
   },
   "source": [
    "## Model building\n",
    "# 1.Logistic model"
   ]
  },
  {
   "cell_type": "code",
   "execution_count": 35,
   "id": "54f8d396",
   "metadata": {
    "id": "54f8d396"
   },
   "outputs": [],
   "source": [
    "from sklearn.linear_model import LogisticRegression"
   ]
  },
  {
   "cell_type": "code",
   "execution_count": 36,
   "id": "5867a77b",
   "metadata": {
    "id": "5867a77b"
   },
   "outputs": [],
   "source": [
    "X = bank.iloc[:,1:5]\n",
    "y = bank.iloc[:,6]"
   ]
  },
  {
   "cell_type": "code",
   "execution_count": 37,
   "id": "988f811b",
   "metadata": {
    "id": "988f811b",
    "outputId": "1dd88201-2e2e-49ba-cc0a-64b1e8325b8d"
   },
   "outputs": [
    {
     "data": {
      "text/html": [
       "<div>\n",
       "<style scoped>\n",
       "    .dataframe tbody tr th:only-of-type {\n",
       "        vertical-align: middle;\n",
       "    }\n",
       "\n",
       "    .dataframe tbody tr th {\n",
       "        vertical-align: top;\n",
       "    }\n",
       "\n",
       "    .dataframe thead th {\n",
       "        text-align: right;\n",
       "    }\n",
       "</style>\n",
       "<table border=\"1\" class=\"dataframe\">\n",
       "  <thead>\n",
       "    <tr style=\"text-align: right;\">\n",
       "      <th></th>\n",
       "      <th>management_risk</th>\n",
       "      <th>financial_flexibility</th>\n",
       "      <th>credibility</th>\n",
       "      <th>competitiveness</th>\n",
       "    </tr>\n",
       "  </thead>\n",
       "  <tbody>\n",
       "    <tr>\n",
       "      <th>0</th>\n",
       "      <td>1.0</td>\n",
       "      <td>0.0</td>\n",
       "      <td>0.0</td>\n",
       "      <td>0.0</td>\n",
       "    </tr>\n",
       "    <tr>\n",
       "      <th>1</th>\n",
       "      <td>1.0</td>\n",
       "      <td>0.0</td>\n",
       "      <td>0.0</td>\n",
       "      <td>0.0</td>\n",
       "    </tr>\n",
       "    <tr>\n",
       "      <th>2</th>\n",
       "      <td>0.0</td>\n",
       "      <td>0.0</td>\n",
       "      <td>0.0</td>\n",
       "      <td>0.0</td>\n",
       "    </tr>\n",
       "    <tr>\n",
       "      <th>3</th>\n",
       "      <td>0.0</td>\n",
       "      <td>0.0</td>\n",
       "      <td>0.5</td>\n",
       "      <td>0.0</td>\n",
       "    </tr>\n",
       "    <tr>\n",
       "      <th>4</th>\n",
       "      <td>1.0</td>\n",
       "      <td>0.0</td>\n",
       "      <td>0.0</td>\n",
       "      <td>0.0</td>\n",
       "    </tr>\n",
       "    <tr>\n",
       "      <th>...</th>\n",
       "      <td>...</td>\n",
       "      <td>...</td>\n",
       "      <td>...</td>\n",
       "      <td>...</td>\n",
       "    </tr>\n",
       "    <tr>\n",
       "      <th>245</th>\n",
       "      <td>1.0</td>\n",
       "      <td>1.0</td>\n",
       "      <td>1.0</td>\n",
       "      <td>1.0</td>\n",
       "    </tr>\n",
       "    <tr>\n",
       "      <th>246</th>\n",
       "      <td>1.0</td>\n",
       "      <td>0.5</td>\n",
       "      <td>1.0</td>\n",
       "      <td>1.0</td>\n",
       "    </tr>\n",
       "    <tr>\n",
       "      <th>247</th>\n",
       "      <td>1.0</td>\n",
       "      <td>1.0</td>\n",
       "      <td>0.5</td>\n",
       "      <td>0.5</td>\n",
       "    </tr>\n",
       "    <tr>\n",
       "      <th>248</th>\n",
       "      <td>0.0</td>\n",
       "      <td>0.5</td>\n",
       "      <td>1.0</td>\n",
       "      <td>0.5</td>\n",
       "    </tr>\n",
       "    <tr>\n",
       "      <th>249</th>\n",
       "      <td>0.0</td>\n",
       "      <td>0.5</td>\n",
       "      <td>0.5</td>\n",
       "      <td>1.0</td>\n",
       "    </tr>\n",
       "  </tbody>\n",
       "</table>\n",
       "<p>250 rows × 4 columns</p>\n",
       "</div>"
      ],
      "text/plain": [
       "     management_risk  financial_flexibility  credibility  competitiveness\n",
       "0                1.0                    0.0          0.0              0.0\n",
       "1                1.0                    0.0          0.0              0.0\n",
       "2                0.0                    0.0          0.0              0.0\n",
       "3                0.0                    0.0          0.5              0.0\n",
       "4                1.0                    0.0          0.0              0.0\n",
       "..               ...                    ...          ...              ...\n",
       "245              1.0                    1.0          1.0              1.0\n",
       "246              1.0                    0.5          1.0              1.0\n",
       "247              1.0                    1.0          0.5              0.5\n",
       "248              0.0                    0.5          1.0              0.5\n",
       "249              0.0                    0.5          0.5              1.0\n",
       "\n",
       "[250 rows x 4 columns]"
      ]
     },
     "execution_count": 37,
     "metadata": {},
     "output_type": "execute_result"
    }
   ],
   "source": [
    "X"
   ]
  },
  {
   "cell_type": "code",
   "execution_count": 38,
   "id": "62f3f686",
   "metadata": {
    "id": "62f3f686",
    "outputId": "6f12788a-a16f-4e87-f1e7-1dd5c38f7705"
   },
   "outputs": [
    {
     "data": {
      "text/plain": [
       "0      0\n",
       "1      0\n",
       "2      0\n",
       "3      0\n",
       "4      0\n",
       "      ..\n",
       "245    1\n",
       "246    1\n",
       "247    1\n",
       "248    1\n",
       "249    1\n",
       "Name: class, Length: 250, dtype: int32"
      ]
     },
     "execution_count": 38,
     "metadata": {},
     "output_type": "execute_result"
    }
   ],
   "source": [
    "y"
   ]
  },
  {
   "cell_type": "code",
   "execution_count": 39,
   "id": "be98b057",
   "metadata": {
    "id": "be98b057",
    "outputId": "2c79a130-2a1b-42d6-87ce-3ab355b9fe78"
   },
   "outputs": [
    {
     "name": "stdout",
     "output_type": "stream",
     "text": [
      "(250, 4) (250,)\n"
     ]
    }
   ],
   "source": [
    "print(X.shape, y.shape)"
   ]
  },
  {
   "cell_type": "code",
   "execution_count": 40,
   "id": "c75b683d",
   "metadata": {
    "id": "c75b683d"
   },
   "outputs": [],
   "source": [
    " # split X and y into training and testing sets\n",
    "from sklearn.model_selection import train_test_split\n",
    "\n",
    "X_train, X_test, y_train, y_test = train_test_split(X, y, test_size = 0.2, random_state = 0)"
   ]
  },
  {
   "cell_type": "code",
   "execution_count": 41,
   "id": "e41c4434",
   "metadata": {
    "id": "e41c4434"
   },
   "outputs": [],
   "source": [
    "from sklearn import preprocessing"
   ]
  },
  {
   "cell_type": "code",
   "execution_count": 42,
   "id": "2777df74",
   "metadata": {
    "id": "2777df74",
    "outputId": "c267b14e-8628-4591-e27b-9a2b4609b6e9"
   },
   "outputs": [
    {
     "data": {
      "text/plain": [
       "LogisticRegression()"
      ]
     },
     "execution_count": 42,
     "metadata": {},
     "output_type": "execute_result"
    }
   ],
   "source": [
    "#Logistic regression and fit the model\n",
    "classifier = LogisticRegression()\n",
    "classifier.fit(X_train,y_train)"
   ]
  },
  {
   "cell_type": "markdown",
   "id": "87344a6f",
   "metadata": {
    "id": "87344a6f"
   },
   "source": [
    "# Training Accuracy"
   ]
  },
  {
   "cell_type": "code",
   "execution_count": 43,
   "id": "3a0d1811",
   "metadata": {
    "id": "3a0d1811"
   },
   "outputs": [],
   "source": [
    "#Predict for X dataset\n",
    "y_pred_train = classifier.predict(X_train)"
   ]
  },
  {
   "cell_type": "code",
   "execution_count": 44,
   "id": "a181e7a2",
   "metadata": {
    "id": "a181e7a2"
   },
   "outputs": [],
   "source": [
    "y_pred_train_df = pd.DataFrame({'actual': y_train,\n",
    "                         'predicted_prob': y_pred_train})"
   ]
  },
  {
   "cell_type": "code",
   "execution_count": 45,
   "id": "08eb1d70",
   "metadata": {
    "id": "08eb1d70",
    "outputId": "c32a5bd7-66d7-4c23-9a64-51fed419e323"
   },
   "outputs": [
    {
     "data": {
      "text/html": [
       "<div>\n",
       "<style scoped>\n",
       "    .dataframe tbody tr th:only-of-type {\n",
       "        vertical-align: middle;\n",
       "    }\n",
       "\n",
       "    .dataframe tbody tr th {\n",
       "        vertical-align: top;\n",
       "    }\n",
       "\n",
       "    .dataframe thead th {\n",
       "        text-align: right;\n",
       "    }\n",
       "</style>\n",
       "<table border=\"1\" class=\"dataframe\">\n",
       "  <thead>\n",
       "    <tr style=\"text-align: right;\">\n",
       "      <th></th>\n",
       "      <th>actual</th>\n",
       "      <th>predicted_prob</th>\n",
       "    </tr>\n",
       "  </thead>\n",
       "  <tbody>\n",
       "    <tr>\n",
       "      <th>71</th>\n",
       "      <td>0</td>\n",
       "      <td>0</td>\n",
       "    </tr>\n",
       "    <tr>\n",
       "      <th>160</th>\n",
       "      <td>1</td>\n",
       "      <td>1</td>\n",
       "    </tr>\n",
       "    <tr>\n",
       "      <th>180</th>\n",
       "      <td>1</td>\n",
       "      <td>1</td>\n",
       "    </tr>\n",
       "    <tr>\n",
       "      <th>75</th>\n",
       "      <td>0</td>\n",
       "      <td>0</td>\n",
       "    </tr>\n",
       "    <tr>\n",
       "      <th>59</th>\n",
       "      <td>0</td>\n",
       "      <td>0</td>\n",
       "    </tr>\n",
       "    <tr>\n",
       "      <th>...</th>\n",
       "      <td>...</td>\n",
       "      <td>...</td>\n",
       "    </tr>\n",
       "    <tr>\n",
       "      <th>67</th>\n",
       "      <td>0</td>\n",
       "      <td>0</td>\n",
       "    </tr>\n",
       "    <tr>\n",
       "      <th>192</th>\n",
       "      <td>1</td>\n",
       "      <td>1</td>\n",
       "    </tr>\n",
       "    <tr>\n",
       "      <th>117</th>\n",
       "      <td>1</td>\n",
       "      <td>1</td>\n",
       "    </tr>\n",
       "    <tr>\n",
       "      <th>47</th>\n",
       "      <td>0</td>\n",
       "      <td>0</td>\n",
       "    </tr>\n",
       "    <tr>\n",
       "      <th>172</th>\n",
       "      <td>1</td>\n",
       "      <td>1</td>\n",
       "    </tr>\n",
       "  </tbody>\n",
       "</table>\n",
       "<p>200 rows × 2 columns</p>\n",
       "</div>"
      ],
      "text/plain": [
       "     actual  predicted_prob\n",
       "71        0               0\n",
       "160       1               1\n",
       "180       1               1\n",
       "75        0               0\n",
       "59        0               0\n",
       "..      ...             ...\n",
       "67        0               0\n",
       "192       1               1\n",
       "117       1               1\n",
       "47        0               0\n",
       "172       1               1\n",
       "\n",
       "[200 rows x 2 columns]"
      ]
     },
     "execution_count": 45,
     "metadata": {},
     "output_type": "execute_result"
    }
   ],
   "source": [
    "y_pred_train_df"
   ]
  },
  {
   "cell_type": "code",
   "execution_count": 46,
   "id": "ecc4ee79",
   "metadata": {
    "id": "ecc4ee79",
    "outputId": "88cf23d0-d665-483a-9a8d-58f967050d1b"
   },
   "outputs": [
    {
     "name": "stdout",
     "output_type": "stream",
     "text": [
      "Training-set accuracy score: 0.995\n"
     ]
    }
   ],
   "source": [
    "from sklearn.metrics import accuracy_score\n",
    "\n",
    "print(f'Training-set accuracy score: {round(accuracy_score(y_train, y_pred_train),3)}')"
   ]
  },
  {
   "cell_type": "markdown",
   "id": "3e599bb9",
   "metadata": {
    "id": "3e599bb9"
   },
   "source": [
    "## Testing Accuracy"
   ]
  },
  {
   "cell_type": "code",
   "execution_count": 47,
   "id": "2cf5fc28",
   "metadata": {
    "id": "2cf5fc28"
   },
   "outputs": [],
   "source": [
    "y_pred_test = classifier.predict(X_test)"
   ]
  },
  {
   "cell_type": "code",
   "execution_count": 48,
   "id": "e74c7f41",
   "metadata": {
    "id": "e74c7f41"
   },
   "outputs": [],
   "source": [
    "y_pred_test_df= pd.DataFrame({'actual': y_test,\n",
    "                         'predicted_prob': y_pred_test})"
   ]
  },
  {
   "cell_type": "code",
   "execution_count": 49,
   "id": "d02a8a26",
   "metadata": {
    "id": "d02a8a26",
    "outputId": "246771ba-0d65-4dee-934f-2bc85a332765",
    "scrolled": true
   },
   "outputs": [
    {
     "data": {
      "text/html": [
       "<div>\n",
       "<style scoped>\n",
       "    .dataframe tbody tr th:only-of-type {\n",
       "        vertical-align: middle;\n",
       "    }\n",
       "\n",
       "    .dataframe tbody tr th {\n",
       "        vertical-align: top;\n",
       "    }\n",
       "\n",
       "    .dataframe thead th {\n",
       "        text-align: right;\n",
       "    }\n",
       "</style>\n",
       "<table border=\"1\" class=\"dataframe\">\n",
       "  <thead>\n",
       "    <tr style=\"text-align: right;\">\n",
       "      <th></th>\n",
       "      <th>actual</th>\n",
       "      <th>predicted_prob</th>\n",
       "    </tr>\n",
       "  </thead>\n",
       "  <tbody>\n",
       "    <tr>\n",
       "      <th>225</th>\n",
       "      <td>1</td>\n",
       "      <td>1</td>\n",
       "    </tr>\n",
       "    <tr>\n",
       "      <th>122</th>\n",
       "      <td>1</td>\n",
       "      <td>1</td>\n",
       "    </tr>\n",
       "    <tr>\n",
       "      <th>92</th>\n",
       "      <td>0</td>\n",
       "      <td>0</td>\n",
       "    </tr>\n",
       "    <tr>\n",
       "      <th>157</th>\n",
       "      <td>1</td>\n",
       "      <td>1</td>\n",
       "    </tr>\n",
       "    <tr>\n",
       "      <th>154</th>\n",
       "      <td>1</td>\n",
       "      <td>1</td>\n",
       "    </tr>\n",
       "    <tr>\n",
       "      <th>161</th>\n",
       "      <td>1</td>\n",
       "      <td>1</td>\n",
       "    </tr>\n",
       "    <tr>\n",
       "      <th>198</th>\n",
       "      <td>1</td>\n",
       "      <td>1</td>\n",
       "    </tr>\n",
       "    <tr>\n",
       "      <th>83</th>\n",
       "      <td>0</td>\n",
       "      <td>0</td>\n",
       "    </tr>\n",
       "    <tr>\n",
       "      <th>63</th>\n",
       "      <td>0</td>\n",
       "      <td>0</td>\n",
       "    </tr>\n",
       "    <tr>\n",
       "      <th>155</th>\n",
       "      <td>1</td>\n",
       "      <td>1</td>\n",
       "    </tr>\n",
       "    <tr>\n",
       "      <th>218</th>\n",
       "      <td>1</td>\n",
       "      <td>1</td>\n",
       "    </tr>\n",
       "    <tr>\n",
       "      <th>231</th>\n",
       "      <td>1</td>\n",
       "      <td>1</td>\n",
       "    </tr>\n",
       "    <tr>\n",
       "      <th>108</th>\n",
       "      <td>1</td>\n",
       "      <td>1</td>\n",
       "    </tr>\n",
       "    <tr>\n",
       "      <th>186</th>\n",
       "      <td>1</td>\n",
       "      <td>1</td>\n",
       "    </tr>\n",
       "    <tr>\n",
       "      <th>116</th>\n",
       "      <td>1</td>\n",
       "      <td>1</td>\n",
       "    </tr>\n",
       "    <tr>\n",
       "      <th>73</th>\n",
       "      <td>0</td>\n",
       "      <td>0</td>\n",
       "    </tr>\n",
       "    <tr>\n",
       "      <th>203</th>\n",
       "      <td>1</td>\n",
       "      <td>1</td>\n",
       "    </tr>\n",
       "    <tr>\n",
       "      <th>139</th>\n",
       "      <td>1</td>\n",
       "      <td>1</td>\n",
       "    </tr>\n",
       "    <tr>\n",
       "      <th>152</th>\n",
       "      <td>1</td>\n",
       "      <td>1</td>\n",
       "    </tr>\n",
       "    <tr>\n",
       "      <th>96</th>\n",
       "      <td>0</td>\n",
       "      <td>0</td>\n",
       "    </tr>\n",
       "    <tr>\n",
       "      <th>156</th>\n",
       "      <td>1</td>\n",
       "      <td>1</td>\n",
       "    </tr>\n",
       "    <tr>\n",
       "      <th>45</th>\n",
       "      <td>0</td>\n",
       "      <td>0</td>\n",
       "    </tr>\n",
       "    <tr>\n",
       "      <th>237</th>\n",
       "      <td>1</td>\n",
       "      <td>1</td>\n",
       "    </tr>\n",
       "    <tr>\n",
       "      <th>111</th>\n",
       "      <td>1</td>\n",
       "      <td>1</td>\n",
       "    </tr>\n",
       "    <tr>\n",
       "      <th>150</th>\n",
       "      <td>1</td>\n",
       "      <td>1</td>\n",
       "    </tr>\n",
       "    <tr>\n",
       "      <th>90</th>\n",
       "      <td>0</td>\n",
       "      <td>0</td>\n",
       "    </tr>\n",
       "    <tr>\n",
       "      <th>8</th>\n",
       "      <td>0</td>\n",
       "      <td>0</td>\n",
       "    </tr>\n",
       "    <tr>\n",
       "      <th>55</th>\n",
       "      <td>0</td>\n",
       "      <td>0</td>\n",
       "    </tr>\n",
       "    <tr>\n",
       "      <th>194</th>\n",
       "      <td>1</td>\n",
       "      <td>0</td>\n",
       "    </tr>\n",
       "    <tr>\n",
       "      <th>37</th>\n",
       "      <td>0</td>\n",
       "      <td>0</td>\n",
       "    </tr>\n",
       "    <tr>\n",
       "      <th>204</th>\n",
       "      <td>1</td>\n",
       "      <td>1</td>\n",
       "    </tr>\n",
       "    <tr>\n",
       "      <th>76</th>\n",
       "      <td>0</td>\n",
       "      <td>0</td>\n",
       "    </tr>\n",
       "    <tr>\n",
       "      <th>110</th>\n",
       "      <td>1</td>\n",
       "      <td>1</td>\n",
       "    </tr>\n",
       "    <tr>\n",
       "      <th>173</th>\n",
       "      <td>1</td>\n",
       "      <td>1</td>\n",
       "    </tr>\n",
       "    <tr>\n",
       "      <th>166</th>\n",
       "      <td>1</td>\n",
       "      <td>1</td>\n",
       "    </tr>\n",
       "    <tr>\n",
       "      <th>136</th>\n",
       "      <td>1</td>\n",
       "      <td>1</td>\n",
       "    </tr>\n",
       "    <tr>\n",
       "      <th>130</th>\n",
       "      <td>1</td>\n",
       "      <td>1</td>\n",
       "    </tr>\n",
       "    <tr>\n",
       "      <th>5</th>\n",
       "      <td>0</td>\n",
       "      <td>0</td>\n",
       "    </tr>\n",
       "    <tr>\n",
       "      <th>22</th>\n",
       "      <td>0</td>\n",
       "      <td>0</td>\n",
       "    </tr>\n",
       "    <tr>\n",
       "      <th>126</th>\n",
       "      <td>1</td>\n",
       "      <td>1</td>\n",
       "    </tr>\n",
       "    <tr>\n",
       "      <th>118</th>\n",
       "      <td>1</td>\n",
       "      <td>1</td>\n",
       "    </tr>\n",
       "    <tr>\n",
       "      <th>12</th>\n",
       "      <td>0</td>\n",
       "      <td>0</td>\n",
       "    </tr>\n",
       "    <tr>\n",
       "      <th>107</th>\n",
       "      <td>1</td>\n",
       "      <td>1</td>\n",
       "    </tr>\n",
       "    <tr>\n",
       "      <th>176</th>\n",
       "      <td>1</td>\n",
       "      <td>1</td>\n",
       "    </tr>\n",
       "    <tr>\n",
       "      <th>89</th>\n",
       "      <td>0</td>\n",
       "      <td>0</td>\n",
       "    </tr>\n",
       "    <tr>\n",
       "      <th>97</th>\n",
       "      <td>0</td>\n",
       "      <td>0</td>\n",
       "    </tr>\n",
       "    <tr>\n",
       "      <th>162</th>\n",
       "      <td>1</td>\n",
       "      <td>1</td>\n",
       "    </tr>\n",
       "    <tr>\n",
       "      <th>44</th>\n",
       "      <td>0</td>\n",
       "      <td>0</td>\n",
       "    </tr>\n",
       "    <tr>\n",
       "      <th>64</th>\n",
       "      <td>0</td>\n",
       "      <td>0</td>\n",
       "    </tr>\n",
       "    <tr>\n",
       "      <th>179</th>\n",
       "      <td>1</td>\n",
       "      <td>1</td>\n",
       "    </tr>\n",
       "  </tbody>\n",
       "</table>\n",
       "</div>"
      ],
      "text/plain": [
       "     actual  predicted_prob\n",
       "225       1               1\n",
       "122       1               1\n",
       "92        0               0\n",
       "157       1               1\n",
       "154       1               1\n",
       "161       1               1\n",
       "198       1               1\n",
       "83        0               0\n",
       "63        0               0\n",
       "155       1               1\n",
       "218       1               1\n",
       "231       1               1\n",
       "108       1               1\n",
       "186       1               1\n",
       "116       1               1\n",
       "73        0               0\n",
       "203       1               1\n",
       "139       1               1\n",
       "152       1               1\n",
       "96        0               0\n",
       "156       1               1\n",
       "45        0               0\n",
       "237       1               1\n",
       "111       1               1\n",
       "150       1               1\n",
       "90        0               0\n",
       "8         0               0\n",
       "55        0               0\n",
       "194       1               0\n",
       "37        0               0\n",
       "204       1               1\n",
       "76        0               0\n",
       "110       1               1\n",
       "173       1               1\n",
       "166       1               1\n",
       "136       1               1\n",
       "130       1               1\n",
       "5         0               0\n",
       "22        0               0\n",
       "126       1               1\n",
       "118       1               1\n",
       "12        0               0\n",
       "107       1               1\n",
       "176       1               1\n",
       "89        0               0\n",
       "97        0               0\n",
       "162       1               1\n",
       "44        0               0\n",
       "64        0               0\n",
       "179       1               1"
      ]
     },
     "execution_count": 49,
     "metadata": {},
     "output_type": "execute_result"
    }
   ],
   "source": [
    "y_pred_test_df\n"
   ]
  },
  {
   "cell_type": "code",
   "execution_count": 50,
   "id": "891ebfa5",
   "metadata": {
    "id": "891ebfa5"
   },
   "outputs": [],
   "source": [
    "acc_val = accuracy_score(y_test, y_pred_test)\n",
    "acc_val_rounded = round(acc_val,4)"
   ]
  },
  {
   "cell_type": "code",
   "execution_count": 52,
   "id": "64530f14",
   "metadata": {
    "id": "64530f14",
    "outputId": "7a5a57fc-c666-4c5c-f8f9-58415b041260"
   },
   "outputs": [
    {
     "name": "stdout",
     "output_type": "stream",
     "text": [
      "Testing-set accuracy score: 0.98\n"
     ]
    }
   ],
   "source": [
    "print(f'Testing-set accuracy score: {acc_val_rounded}')"
   ]
  },
  {
   "cell_type": "markdown",
   "id": "7c1656f0",
   "metadata": {
    "id": "7c1656f0"
   },
   "source": [
    "# Confusion Matrix"
   ]
  },
  {
   "cell_type": "code",
   "execution_count": 53,
   "id": "2c05620e",
   "metadata": {
    "id": "2c05620e",
    "outputId": "b32809f7-f2c6-4ae8-fafb-5a4c2be6d117"
   },
   "outputs": [
    {
     "name": "stdout",
     "output_type": "stream",
     "text": [
      "Confusion matrix\n",
      "\n",
      " [[18  0]\n",
      " [ 1 31]]\n",
      "\n",
      "True Positives(TP) =  18\n",
      "\n",
      "True Negatives(TN) =  31\n",
      "\n",
      "False Positives(FP) =  0\n",
      "\n",
      "False Negatives(FN) =  1\n"
     ]
    }
   ],
   "source": [
    "from sklearn.metrics import confusion_matrix\n",
    "\n",
    "cm = confusion_matrix(y_test, y_pred_test)\n",
    "\n",
    "print('Confusion matrix\\n\\n', cm)\n",
    "\n",
    "TP = cm[0,0]\n",
    "TN = cm[1,1]\n",
    "FP = cm[0,1]\n",
    "FN = cm[1,0]\n",
    "\n",
    "print('\\nTrue Positives(TP) = ', TP)\n",
    "\n",
    "print('\\nTrue Negatives(TN) = ', TN)\n",
    "\n",
    "print('\\nFalse Positives(FP) = ', FP)\n",
    "\n",
    "print('\\nFalse Negatives(FN) = ', FN)\n"
   ]
  },
  {
   "cell_type": "markdown",
   "id": "4c4f4f0c",
   "metadata": {
    "id": "4c4f4f0c"
   },
   "source": [
    "##The confusion matrix shows 18 + 31 = 49 correct predictions and 0+ 1 = 1 incorrect predictions.\n",
    "\n",
    "##In this case, we have\n",
    "\n",
    "##True Positives (Actual Positive:1 and Predict Positive:1) - 18 True Negatives (Actual Negative:0 and Predict Negative:0) - 31 False Positives (Actual Negative:0 but Predict Positive:1) - 0 (Type I error) False Negatives (Actual Positive:1 but Predict Negative:0) - 1 (Type II error)"
   ]
  },
  {
   "cell_type": "code",
   "execution_count": 54,
   "id": "990d4787",
   "metadata": {
    "id": "990d4787",
    "outputId": "a36928c9-9f66-4849-b124-8484a8fe6a8c"
   },
   "outputs": [
    {
     "data": {
      "text/plain": [
       "<AxesSubplot:>"
      ]
     },
     "execution_count": 54,
     "metadata": {},
     "output_type": "execute_result"
    },
    {
     "data": {
      "image/png": "[encoded data removed]",
      "text/plain": [
       "<Figure size 720x360 with 2 Axes>"
      ]
     },
     "metadata": {
      "needs_background": "light"
     },
     "output_type": "display_data"
    }
   ],
   "source": [
    "# visualize confusion matrix with seaborn heatmap\n",
    "import seaborn as sns\n",
    "\n",
    "cm_matrix = pd.DataFrame(data=cm, columns=['Actual Positive:1', 'Actual Negative:0'], \n",
    "                                 index=['Predict Positive:1', 'Predict Negative:0'])\n",
    "\n",
    "sns.heatmap(cm_matrix, annot=True, fmt='d', cmap='YlGnBu')\n"
   ]
  },
  {
   "cell_type": "markdown",
   "id": "d1141b25",
   "metadata": {
    "id": "d1141b25"
   },
   "source": [
    "## Classification Report"
   ]
  },
  {
   "cell_type": "code",
   "execution_count": 55,
   "id": "8f1f7bf5",
   "metadata": {
    "id": "8f1f7bf5",
    "outputId": "2fb19068-e322-4526-f32e-157982165c1f"
   },
   "outputs": [
    {
     "name": "stdout",
     "output_type": "stream",
     "text": [
      "Classification accuracy : 0.98\n"
     ]
    }
   ],
   "source": [
    "# print classification accuracy\n",
    "\n",
    "classification_accuracy = (TP + TN) / (TP + TN + FP + FN)\n",
    "\n",
    "print(f'Classification accuracy : {round(classification_accuracy,4)}')\n"
   ]
  },
  {
   "cell_type": "code",
   "execution_count": 56,
   "id": "41f76f37",
   "metadata": {
    "id": "41f76f37",
    "outputId": "b9885657-7ec4-4791-b11e-9af962a3ef72"
   },
   "outputs": [
    {
     "name": "stdout",
     "output_type": "stream",
     "text": [
      "Classification error : 0.02\n"
     ]
    }
   ],
   "source": [
    "# print classification error\n",
    "\n",
    "classification_error = (FP + FN) / float(TP + TN + FP + FN)\n",
    "\n",
    "print(f'Classification error : {round(classification_error,4)}')\n"
   ]
  },
  {
   "cell_type": "markdown",
   "id": "fd1d35ea",
   "metadata": {
    "id": "fd1d35ea"
   },
   "source": [
    "# Precision"
   ]
  },
  {
   "cell_type": "code",
   "execution_count": 57,
   "id": "1223d82c",
   "metadata": {
    "id": "1223d82c"
   },
   "outputs": [],
   "source": [
    "# Precision can be defined as the percentage of correctly predicted positive outcomes out of all the predicted positive outcomes. It can be given as the ratio of true positives (TP) to the sum of true and false positives (TP + FP).\n",
    "\n",
    "# So, Precision identifies the proportion of correctly predicted positive outcome. It is more concerned with the positive class than the negative class.\n",
    "\n",
    "# Mathematically, precision can be defined as the ratio of TP to (TP + FP)."
   ]
  },
  {
   "cell_type": "code",
   "execution_count": 58,
   "id": "5ae79263",
   "metadata": {
    "id": "5ae79263",
    "outputId": "3aeb7c69-32a4-48a3-fce4-f24185bb03a5"
   },
   "outputs": [
    {
     "name": "stdout",
     "output_type": "stream",
     "text": [
      "Precision : 1.0\n"
     ]
    }
   ],
   "source": [
    "# print precision score\n",
    "\n",
    "precision = TP / float(TP + FP)\n",
    "\n",
    "\n",
    "print(f'Precision : {round(precision,4)}')"
   ]
  },
  {
   "cell_type": "code",
   "execution_count": 59,
   "id": "711f77aa",
   "metadata": {
    "id": "711f77aa"
   },
   "outputs": [],
   "source": [
    "# Recall or True Positive Rate\n",
    "# Recall can be defined as the percentage of correctly predicted positive outcomes out of all the actual positive outcomes. It can be given as the ratio of true positives (TP) to the sum of true positives and false negatives (TP + FN). Recall is also called Sensitivity.\n",
    "\n",
    "# Recall identifies the proportion of correctly predicted actual positives.\n",
    "\n",
    "# Mathematically, recall can be given as the ratio of TP to (TP + FN)."
   ]
  },
  {
   "cell_type": "code",
   "execution_count": 60,
   "id": "73022400",
   "metadata": {
    "id": "73022400",
    "outputId": "7e3ed042-be05-49db-f57a-b1767bbf09de"
   },
   "outputs": [
    {
     "name": "stdout",
     "output_type": "stream",
     "text": [
      "Recall or Sensitivity : 0.9474\n"
     ]
    }
   ],
   "source": [
    "recall = TP / float(TP + FN)\n",
    "\n",
    "print(f'Recall or Sensitivity : {round(recall,4)}')"
   ]
  },
  {
   "cell_type": "markdown",
   "id": "9517d3b7",
   "metadata": {
    "id": "9517d3b7"
   },
   "source": [
    "# False Positive Rate"
   ]
  },
  {
   "cell_type": "code",
   "execution_count": 61,
   "id": "f10adea5",
   "metadata": {
    "id": "f10adea5",
    "outputId": "0ba0b447-ce69-4a6f-f4fa-a9645c3dab11"
   },
   "outputs": [
    {
     "name": "stdout",
     "output_type": "stream",
     "text": [
      "False Positive Rate : 0.0\n"
     ]
    }
   ],
   "source": [
    "false_positive_rate = FP / float(FP + TN)\n",
    "\n",
    "\n",
    "print(f'False Positive Rate : {round(false_positive_rate,4)}')\n"
   ]
  },
  {
   "cell_type": "markdown",
   "id": "0e43c129",
   "metadata": {
    "id": "0e43c129"
   },
   "source": [
    "# Specificity"
   ]
  },
  {
   "cell_type": "code",
   "execution_count": 62,
   "id": "d3a9738a",
   "metadata": {
    "id": "d3a9738a",
    "outputId": "ed43a9e6-b1eb-4178-f288-4bd4998226b7"
   },
   "outputs": [
    {
     "name": "stdout",
     "output_type": "stream",
     "text": [
      "Specificity : 1.0\n"
     ]
    }
   ],
   "source": [
    "specificity = TN / (TN + FP)\n",
    "\n",
    "print(f'Specificity : {round(specificity,4)}')\n"
   ]
  },
  {
   "cell_type": "markdown",
   "id": "993d0e4f",
   "metadata": {
    "id": "993d0e4f"
   },
   "source": [
    "# Classification Report"
   ]
  },
  {
   "cell_type": "code",
   "execution_count": 63,
   "id": "860e7276",
   "metadata": {
    "id": "860e7276",
    "outputId": "1f4f4e72-f614-4e6c-f50d-432af28eabd0"
   },
   "outputs": [
    {
     "name": "stdout",
     "output_type": "stream",
     "text": [
      "              precision    recall  f1-score   support\n",
      "\n",
      "           0       0.95      1.00      0.97        18\n",
      "           1       1.00      0.97      0.98        32\n",
      "\n",
      "    accuracy                           0.98        50\n",
      "   macro avg       0.97      0.98      0.98        50\n",
      "weighted avg       0.98      0.98      0.98        50\n",
      "\n"
     ]
    }
   ],
   "source": [
    "from sklearn.metrics import classification_report\n",
    "\n",
    "print(classification_report(y_test, y_pred_test))"
   ]
  },
  {
   "cell_type": "markdown",
   "id": "f2029667",
   "metadata": {
    "id": "f2029667"
   },
   "source": [
    "# Adjusting the threshold level\n"
   ]
  },
  {
   "cell_type": "code",
   "execution_count": 64,
   "id": "17fd877c",
   "metadata": {
    "id": "17fd877c",
    "outputId": "acd8e1d7-de80-45f5-f173-b1494af54f1b"
   },
   "outputs": [
    {
     "data": {
      "text/plain": [
       "array([[0.01539433, 0.98460567],\n",
       "       [0.10673956, 0.89326044],\n",
       "       [0.96702408, 0.03297592],\n",
       "       [0.01038149, 0.98961851],\n",
       "       [0.00217846, 0.99782154],\n",
       "       [0.03596459, 0.96403541],\n",
       "       [0.01095529, 0.98904471],\n",
       "       [0.95114129, 0.04885871],\n",
       "       [0.95114129, 0.04885871],\n",
       "       [0.1520089 , 0.8479911 ]])"
      ]
     },
     "execution_count": 64,
     "metadata": {},
     "output_type": "execute_result"
    }
   ],
   "source": [
    "# print the first 10 predicted probabilities of two classes- 0 and 1\n",
    "\n",
    "y_pred_prob = classifier.predict_proba(X_test)[0:10]\n",
    "\n",
    "y_pred_prob"
   ]
  },
  {
   "cell_type": "markdown",
   "id": "bae3da6e",
   "metadata": {
    "id": "bae3da6e"
   },
   "source": [
    "# Observations\n",
    "In each row, the numbers sum to 1. There are 2 columns which correspond to 2 classes - 0 and 1.\n",
    "\n",
    "Class 0 - predicted probability bankruptcy.\n",
    "\n",
    "Class 1 - predicted probability non bankruptcy.\n",
    "\n",
    "Importance of predicted probabilities\n",
    "\n",
    "We can rank the observations by probability of yes or no . predict_proba process\n",
    "\n",
    "Predicts the probabilities\n",
    "\n",
    "Choose the class with the highest probability\n",
    "\n",
    "Classification threshold level\n",
    "\n",
    "There is a classification threshold level of 0.5.\n",
    "\n",
    "Class 1 - probability of yes is predicted if probability > 0.5.\n",
    "\n",
    "Class 0 - probability of no is predicted if probability < 0.5."
   ]
  },
  {
   "cell_type": "code",
   "execution_count": 65,
   "id": "bd9427a0",
   "metadata": {
    "id": "bd9427a0",
    "outputId": "0c01f2a8-98de-49ff-f69b-56661cd3330a"
   },
   "outputs": [
    {
     "data": {
      "text/html": [
       "<div>\n",
       "<style scoped>\n",
       "    .dataframe tbody tr th:only-of-type {\n",
       "        vertical-align: middle;\n",
       "    }\n",
       "\n",
       "    .dataframe tbody tr th {\n",
       "        vertical-align: top;\n",
       "    }\n",
       "\n",
       "    .dataframe thead th {\n",
       "        text-align: right;\n",
       "    }\n",
       "</style>\n",
       "<table border=\"1\" class=\"dataframe\">\n",
       "  <thead>\n",
       "    <tr style=\"text-align: right;\">\n",
       "      <th></th>\n",
       "      <th>Prob of - bankrutcy (0)</th>\n",
       "      <th>Prob of - Non bankruptcy (1)</th>\n",
       "    </tr>\n",
       "  </thead>\n",
       "  <tbody>\n",
       "    <tr>\n",
       "      <th>0</th>\n",
       "      <td>0.015394</td>\n",
       "      <td>0.984606</td>\n",
       "    </tr>\n",
       "    <tr>\n",
       "      <th>1</th>\n",
       "      <td>0.106740</td>\n",
       "      <td>0.893260</td>\n",
       "    </tr>\n",
       "    <tr>\n",
       "      <th>2</th>\n",
       "      <td>0.967024</td>\n",
       "      <td>0.032976</td>\n",
       "    </tr>\n",
       "    <tr>\n",
       "      <th>3</th>\n",
       "      <td>0.010381</td>\n",
       "      <td>0.989619</td>\n",
       "    </tr>\n",
       "    <tr>\n",
       "      <th>4</th>\n",
       "      <td>0.002178</td>\n",
       "      <td>0.997822</td>\n",
       "    </tr>\n",
       "    <tr>\n",
       "      <th>5</th>\n",
       "      <td>0.035965</td>\n",
       "      <td>0.964035</td>\n",
       "    </tr>\n",
       "    <tr>\n",
       "      <th>6</th>\n",
       "      <td>0.010955</td>\n",
       "      <td>0.989045</td>\n",
       "    </tr>\n",
       "    <tr>\n",
       "      <th>7</th>\n",
       "      <td>0.951141</td>\n",
       "      <td>0.048859</td>\n",
       "    </tr>\n",
       "    <tr>\n",
       "      <th>8</th>\n",
       "      <td>0.951141</td>\n",
       "      <td>0.048859</td>\n",
       "    </tr>\n",
       "    <tr>\n",
       "      <th>9</th>\n",
       "      <td>0.152009</td>\n",
       "      <td>0.847991</td>\n",
       "    </tr>\n",
       "  </tbody>\n",
       "</table>\n",
       "</div>"
      ],
      "text/plain": [
       "   Prob of - bankrutcy (0)  Prob of - Non bankruptcy (1)\n",
       "0                 0.015394                      0.984606\n",
       "1                 0.106740                      0.893260\n",
       "2                 0.967024                      0.032976\n",
       "3                 0.010381                      0.989619\n",
       "4                 0.002178                      0.997822\n",
       "5                 0.035965                      0.964035\n",
       "6                 0.010955                      0.989045\n",
       "7                 0.951141                      0.048859\n",
       "8                 0.951141                      0.048859\n",
       "9                 0.152009                      0.847991"
      ]
     },
     "execution_count": 65,
     "metadata": {},
     "output_type": "execute_result"
    }
   ],
   "source": [
    "# store the probabilities in dataframe\n",
    "\n",
    "y_pred_prob_df = pd.DataFrame(data=y_pred_prob, columns=['Prob of - bankrutcy (0)', 'Prob of - Non bankruptcy (1)'])\n",
    "\n",
    "y_pred_prob_df"
   ]
  },
  {
   "cell_type": "code",
   "execution_count": 66,
   "id": "83c178f9",
   "metadata": {
    "id": "83c178f9",
    "outputId": "1c61da30-f052-4ed9-8ad9-6a4aa5fa6b57"
   },
   "outputs": [
    {
     "data": {
      "text/plain": [
       "array([0.98460567, 0.89326044, 0.03297592, 0.98961851, 0.99782154,\n",
       "       0.96403541, 0.98904471, 0.04885871, 0.04885871, 0.8479911 ])"
      ]
     },
     "execution_count": 66,
     "metadata": {},
     "output_type": "execute_result"
    }
   ],
   "source": [
    "# print the first 10 predicted probabilities for class 1 - Probability of rain\n",
    "\n",
    "classifier.predict_proba(X_test)[0:10, 1]"
   ]
  },
  {
   "cell_type": "code",
   "execution_count": 67,
   "id": "ca05b64d",
   "metadata": {
    "id": "ca05b64d",
    "outputId": "9822ac01-0a56-4a6d-ced4-68ba58e17b6c"
   },
   "outputs": [
    {
     "data": {
      "text/plain": [
       "array([0.98460567, 0.89326044, 0.03297592, 0.98961851, 0.99782154,\n",
       "       0.96403541, 0.98904471, 0.04885871, 0.04885871, 0.8479911 ,\n",
       "       0.99782154, 0.94946608, 0.72402985, 0.84936045, 0.97708286,\n",
       "       0.03297592, 0.96762156, 0.89833536, 0.99507025, 0.03297592,\n",
       "       0.99308422, 0.03297592, 0.9658739 , 0.99507025, 0.99308422,\n",
       "       0.03297592, 0.09810151, 0.09810151, 0.45130321, 0.03297592,\n",
       "       0.98904471, 0.04885871, 0.99782154, 0.96762156, 0.99507025,\n",
       "       0.99782154, 0.97698952, 0.09810151, 0.03297592, 0.98904471,\n",
       "       0.99308422, 0.03297592, 0.85618655, 0.96762156, 0.03297592,\n",
       "       0.09810151, 0.96403541, 0.10301896, 0.03297592, 0.98961851])"
      ]
     },
     "execution_count": 67,
     "metadata": {},
     "output_type": "execute_result"
    }
   ],
   "source": [
    "# store the predicted probabilities for class 1 - Probability of hiring Attorney\n",
    "\n",
    "y_pred1 = classifier.predict_proba(X_test)[:, 1]\n",
    "y_pred1"
   ]
  },
  {
   "cell_type": "markdown",
   "id": "0483f4a8",
   "metadata": {
    "id": "0483f4a8"
   },
   "source": [
    "# Check for overfitting and underfitting"
   ]
  },
  {
   "cell_type": "code",
   "execution_count": 68,
   "id": "3182a0ad",
   "metadata": {
    "id": "3182a0ad",
    "outputId": "42fa2a1c-aeeb-4fac-917d-2bba07f4e074"
   },
   "outputs": [
    {
     "name": "stdout",
     "output_type": "stream",
     "text": [
      "Training set score: 0.995\n",
      "Test set score: 0.98\n"
     ]
    }
   ],
   "source": [
    "# print the scores on training and test set\n",
    "\n",
    "print(f'Training set score: {round(classifier.score(X_train, y_train),4)}')\n",
    "\n",
    "print(f'Test set score: {round(classifier.score(X_test, y_test),4)}')\n"
   ]
  },
  {
   "cell_type": "code",
   "execution_count": 69,
   "id": "a3e040d0",
   "metadata": {
    "id": "a3e040d0"
   },
   "outputs": [],
   "source": [
    "# The training-set accuracy score is 0.995 while the test-set accuracy to be 0.98.\n",
    "\n",
    "# These two values are quite comparable. So, there is no overfitting.\n",
    "\n"
   ]
  },
  {
   "cell_type": "markdown",
   "id": "1476feba",
   "metadata": {},
   "source": [
    "# From the accuracy we can say that the model is overfitted to avoid overfit problem we use Regularization method\n",
    "here we have L1, L2 regularization"
   ]
  },
  {
   "cell_type": "markdown",
   "id": "87bf1981",
   "metadata": {},
   "source": [
    "It turns out they have different but equally useful properties. From a practical standpoint, L1 tends to shrink coefficients \n",
    "to zero whereas L2 tends to shrink coefficients evenly. \n",
    "L1 is therefore useful for feature selection, as we can drop any variables associated with coefficients that go to zero.\n"
   ]
  },
  {
   "cell_type": "markdown",
   "id": "f4679545",
   "metadata": {},
   "source": [
    "# L1 = lasso regularization"
   ]
  },
  {
   "cell_type": "code",
   "execution_count": 70,
   "id": "82d25c9d",
   "metadata": {
    "id": "82d25c9d"
   },
   "outputs": [],
   "source": [
    "# from sklearn import linear_model\n",
    "\n",
    "# lasso_reg = linear_model.Lasso(alpha = 50, max_iter = 100, tol =0.1)\n",
    "\n",
    "# lasso_reg.fit(X_train, y_train)"
   ]
  },
  {
   "cell_type": "code",
   "execution_count": 71,
   "id": "13b3ccfb",
   "metadata": {
    "id": "13b3ccfb"
   },
   "outputs": [],
   "source": [
    "# lasso_reg.score(X_test, y_test)"
   ]
  },
  {
   "cell_type": "code",
   "execution_count": 72,
   "id": "ce55f2f1",
   "metadata": {
    "id": "ce55f2f1"
   },
   "outputs": [],
   "source": [
    "# lasso_reg.score(X_train, y_train)"
   ]
  },
  {
   "cell_type": "markdown",
   "id": "8c196007",
   "metadata": {
    "id": "d143949c"
   },
   "source": [
    "# L2 = Ridge regularization"
   ]
  },
  {
   "cell_type": "code",
   "execution_count": 73,
   "id": "7c512d25",
   "metadata": {
    "id": "7c512d25"
   },
   "outputs": [],
   "source": [
    "# from sklearn.linear_model import Ridge\n",
    "\n",
    "# ridge_reg = Ridge(alpha = 50, max_iter = 100, tol = 0.1)\n",
    "\n",
    "# ridge_reg.fit(X_train, y_train)"
   ]
  },
  {
   "cell_type": "code",
   "execution_count": 74,
   "id": "854261ec",
   "metadata": {},
   "outputs": [],
   "source": [
    "# ridge_reg.score(X_test, y_test)"
   ]
  },
  {
   "cell_type": "code",
   "execution_count": 75,
   "id": "ee12ae64",
   "metadata": {},
   "outputs": [],
   "source": [
    "# ridge_reg.score(X_train, y_train)"
   ]
  },
  {
   "cell_type": "markdown",
   "id": "c9efd095",
   "metadata": {},
   "source": [
    "#  2.Naive Bayes Classifier"
   ]
  },
  {
   "cell_type": "code",
   "execution_count": 76,
   "id": "f9d82285",
   "metadata": {},
   "outputs": [],
   "source": [
    "from sklearn.naive_bayes import GaussianNB\n",
    "\n",
    "from sklearn.naive_bayes import MultinomialNB"
   ]
  },
  {
   "cell_type": "markdown",
   "id": "153d805f",
   "metadata": {},
   "source": [
    "\n",
    "# Creating GaussianNB and MultinomialNB functions"
   ]
  },
  {
   "cell_type": "code",
   "execution_count": 77,
   "id": "bc840c8e",
   "metadata": {},
   "outputs": [],
   "source": [
    "GNB = GaussianNB()\n",
    "MNB = MultinomialNB()"
   ]
  },
  {
   "cell_type": "markdown",
   "id": "5c4c1a9c",
   "metadata": {},
   "source": [
    "# Building the model with GaussianNB"
   ]
  },
  {
   "cell_type": "code",
   "execution_count": 78,
   "id": "ece250aa",
   "metadata": {},
   "outputs": [
    {
     "data": {
      "text/plain": [
       "array([1, 1, 0, 1, 1, 1, 1, 0, 0, 1, 1, 1, 1, 1, 1, 0, 1, 1, 1, 0, 1, 0,\n",
       "       1, 1, 1, 0, 0, 0, 1, 0, 1, 0, 1, 1, 1, 1, 1, 0, 0, 1, 1, 0, 1, 1,\n",
       "       0, 0, 1, 0, 0, 1])"
      ]
     },
     "execution_count": 78,
     "metadata": {},
     "output_type": "execute_result"
    }
   ],
   "source": [
    "Naive_GNB = GNB.fit(X_train ,y_train)\n",
    "\n",
    "y_pred = Naive_GNB.predict(X_test)\n",
    "y_pred"
   ]
  },
  {
   "cell_type": "markdown",
   "id": "fba394e9",
   "metadata": {},
   "source": [
    "# Evaluate Model"
   ]
  },
  {
   "cell_type": "code",
   "execution_count": 79,
   "id": "37c6f845",
   "metadata": {},
   "outputs": [
    {
     "name": "stdout",
     "output_type": "stream",
     "text": [
      "[[18  0]\n",
      " [ 0 32]]\n"
     ]
    }
   ],
   "source": [
    "from sklearn.metrics import confusion_matrix\n",
    "cm = confusion_matrix(y_test, y_pred)\n",
    "print(cm)"
   ]
  },
  {
   "cell_type": "markdown",
   "id": "b9321fa3",
   "metadata": {},
   "source": [
    "# Accuracy of GNB"
   ]
  },
  {
   "cell_type": "code",
   "execution_count": 80,
   "id": "f21f6615",
   "metadata": {},
   "outputs": [
    {
     "data": {
      "text/plain": [
       "1.0"
      ]
     },
     "execution_count": 80,
     "metadata": {},
     "output_type": "execute_result"
    }
   ],
   "source": [
    "from sklearn.metrics import accuracy_score\n",
    "\n",
    "GNB_acc = accuracy_score(y_test , y_pred)\n",
    "GNB_acc"
   ]
  },
  {
   "cell_type": "markdown",
   "id": "807f9a83",
   "metadata": {},
   "source": [
    "# Building the model with MultinomialNB"
   ]
  },
  {
   "cell_type": "code",
   "execution_count": 81,
   "id": "76380e33",
   "metadata": {},
   "outputs": [
    {
     "data": {
      "text/plain": [
       "array([1, 1, 0, 1, 1, 1, 1, 0, 0, 1, 1, 1, 1, 1, 1, 0, 1, 1, 1, 0, 1, 0,\n",
       "       1, 1, 1, 0, 0, 0, 1, 0, 1, 0, 1, 1, 1, 1, 1, 0, 0, 1, 1, 0, 1, 1,\n",
       "       0, 0, 1, 0, 0, 1])"
      ]
     },
     "execution_count": 81,
     "metadata": {},
     "output_type": "execute_result"
    }
   ],
   "source": [
    "Naive_MNB = MNB.fit(X_train ,y_train)\n",
    "\n",
    "y_pred = Naive_MNB.predict(X_test)\n",
    "y_pred\n"
   ]
  },
  {
   "cell_type": "markdown",
   "id": "d218a3e6",
   "metadata": {},
   "source": [
    "# Evaluating Model"
   ]
  },
  {
   "cell_type": "code",
   "execution_count": 82,
   "id": "b37d85a0",
   "metadata": {},
   "outputs": [
    {
     "name": "stdout",
     "output_type": "stream",
     "text": [
      "[[18  0]\n",
      " [ 0 32]]\n"
     ]
    }
   ],
   "source": [
    "from sklearn.metrics import confusion_matrix\n",
    "cm = confusion_matrix(y_test, y_pred)\n",
    "print(cm)"
   ]
  },
  {
   "cell_type": "markdown",
   "id": "491ddffc",
   "metadata": {},
   "source": [
    "# Accuracy of MNB"
   ]
  },
  {
   "cell_type": "code",
   "execution_count": 83,
   "id": "621c7abc",
   "metadata": {},
   "outputs": [
    {
     "data": {
      "text/plain": [
       "1.0"
      ]
     },
     "execution_count": 83,
     "metadata": {},
     "output_type": "execute_result"
    }
   ],
   "source": [
    "from sklearn.metrics import accuracy_score\n",
    "\n",
    "MNB_acc = accuracy_score(y_test , y_pred)\n",
    "MNB_acc"
   ]
  },
  {
   "cell_type": "markdown",
   "id": "f8eed27e",
   "metadata": {},
   "source": [
    "# 3.Support Vector Machine"
   ]
  },
  {
   "cell_type": "code",
   "execution_count": 84,
   "id": "84d747fe",
   "metadata": {},
   "outputs": [],
   "source": [
    "from sklearn.svm import SVC"
   ]
  },
  {
   "cell_type": "markdown",
   "id": "f23adfb8",
   "metadata": {},
   "source": [
    "# Kernel = Linear model"
   ]
  },
  {
   "cell_type": "code",
   "execution_count": 85,
   "id": "8a005a8e",
   "metadata": {},
   "outputs": [
    {
     "data": {
      "text/plain": [
       "1.0"
      ]
     },
     "execution_count": 85,
     "metadata": {},
     "output_type": "execute_result"
    }
   ],
   "source": [
    "model_linear = SVC(kernel = 'linear')\n",
    "\n",
    "model_linear.fit(X_train, y_train)\n",
    "\n",
    "pred_test_linear = model_linear.predict(X_test)\n",
    "\n",
    "np.mean(pred_test_linear==y_test)"
   ]
  },
  {
   "cell_type": "markdown",
   "id": "98945d7a",
   "metadata": {},
   "source": [
    "# Kernel = poly mode"
   ]
  },
  {
   "cell_type": "code",
   "execution_count": 86,
   "id": "742f8345",
   "metadata": {},
   "outputs": [
    {
     "data": {
      "text/plain": [
       "0.98"
      ]
     },
     "execution_count": 86,
     "metadata": {},
     "output_type": "execute_result"
    }
   ],
   "source": [
    "model_poly = SVC(kernel = \"poly\")\n",
    "model_poly.fit(X_train,y_train)\n",
    "pred_test_poly = model_poly.predict(X_test)\n",
    "\n",
    "np.mean(pred_test_poly==y_test) # Accuracy"
   ]
  },
  {
   "cell_type": "markdown",
   "id": "6afade7c",
   "metadata": {},
   "source": [
    "# Kernel = 'rbf' model --> Radial Basis Function"
   ]
  },
  {
   "cell_type": "code",
   "execution_count": 87,
   "id": "139125aa",
   "metadata": {},
   "outputs": [
    {
     "data": {
      "text/plain": [
       "0.98"
      ]
     },
     "execution_count": 87,
     "metadata": {},
     "output_type": "execute_result"
    }
   ],
   "source": [
    "model_rbf = SVC(kernel = \"rbf\")\n",
    "model_rbf.fit(X_train,y_train)\n",
    "pred_test_rbf = model_rbf.predict(X_test)\n",
    "\n",
    "np.mean(pred_test_rbf==y_test) # Accuracy"
   ]
  },
  {
   "cell_type": "markdown",
   "id": "af92a971",
   "metadata": {},
   "source": [
    "# from the above kernels in SVM polynomial kernel giving good accuracy"
   ]
  },
  {
   "cell_type": "code",
   "execution_count": 88,
   "id": "35901761",
   "metadata": {},
   "outputs": [],
   "source": [
    "import pickle\n",
    "pickle_out = open(\"model_poly.pkl\",'wb')\n",
    "pickle.dump(model_poly, pickle_out)\n",
    "pickle_out.close()"
   ]
  },
  {
   "cell_type": "code",
   "execution_count": 91,
   "id": "73a3a6c3",
   "metadata": {},
   "outputs": [
    {
     "name": "stderr",
     "output_type": "stream",
     "text": [
      "2022-08-06 06:55:38.824 \n",
      "  \u001b[33m\u001b[1mWarning:\u001b[0m to view this Streamlit app on a browser, run it with the following\n",
      "  command:\n",
      "\n",
      "    streamlit run C:\\Users\\lavanya\\anaconda3\\lib\\site-packages\\ipykernel_launcher.py [ARGUMENTS]\n"
     ]
    }
   ],
   "source": [
    "# #streamlit.py\n",
    "# #!/usr/bin/env python3\n",
    "# # -*- coding: utf-8 -*-\n",
    "# \"\"\"\n",
    "# Created on Fri Jun 06 02:43:59 2022\n",
    "# @author: Manisha\n",
    "# \"\"\"\n",
    "# import numpy as np\n",
    "# import pickle\n",
    "# import pandas as pd\n",
    "# import streamlit as st\n",
    "\n",
    "# from PIL import Image\n",
    "\n",
    "# pickle_in = open(\"model_poly.pkl\",'rb')\n",
    "# classifier=pickle.load(pickle_in)\n",
    "\n",
    "# def welcome():\n",
    "#     return \"Welcome ALL\"\n",
    "# def predict_bankruptcy(industrial_risk,management_risk,financial_flexibility,credibility,competitiveness,operating_risk):\n",
    "#      prediction=classifier.predict([[industrial_risk,management_risk,financial_flexibility,credibility,competitiveness,operating_risk]])\n",
    "#      print(prediction)\n",
    "#      return prediction\n",
    "\n",
    "\n",
    "\n",
    "\n",
    "\n",
    "# def main():\n",
    "#     st.title(\"Bankruptcy Detector\")\n",
    "#     html_temp = \"\"\"\n",
    "#     <div style=\"background-color:tomato;padding:10px\">\n",
    "#     <h2 style=\"color:white;text-align:center;\">Streamlit Bankruptcy Detector ML App </h2>\n",
    "#     </div>\n",
    "#     \"\"\"\n",
    "#     st.markdown(html_temp,unsafe_allow_html=True)\n",
    "#     industrial_risk = st.text_input(\"industrial_risk\",\"Type Here\")\n",
    "#     management_risk = st.text_input(\"management_risk\",\"Type Here\")\n",
    "#     financial_flexibility = st.text_input(\"financial_flexibility\",\"Type Here\")\n",
    "#     credibility = st.text_input(\"credibility\",\"Type Here\")\n",
    "#     competitiveness = st.text_input(\"competitiveness\",\"Type Here\")\n",
    "#     operating_risk = st.text_input(\"operating_risk\",\"Type Here\")\n",
    "#     result=\"\"\n",
    "#     if st.button(\"Predict\"):\n",
    "#         result=predict_bankruptcy(industrial_risk,management_risk,financial_flexibility,credibility,competitiveness,operating_risk)\n",
    "#     st.success('The output is {}'.format(result))\n",
    "#     if st.button(\"About\"):\n",
    "#         st.text(\"Lets LEarn\")\n",
    "#         st.text(\"Built with Streamlit\")\n",
    "\n",
    "# if __name__=='__main__':\n",
    "#     main()"
   ]
  },
  {
   "cell_type": "markdown",
   "id": "86a6d688",
   "metadata": {},
   "source": [
    "#  4.KNN model"
   ]
  },
  {
   "cell_type": "code",
   "execution_count": 92,
   "id": "2286c316",
   "metadata": {},
   "outputs": [],
   "source": [
    "from sklearn.neighbors import KNeighborsClassifier as KNC\n",
    "import warnings\n",
    "warnings.filterwarnings('ignore')"
   ]
  },
  {
   "cell_type": "markdown",
   "id": "6b9faadf",
   "metadata": {},
   "source": [
    "# To choose k value"
   ]
  },
  {
   "cell_type": "code",
   "execution_count": 93,
   "id": "80341e77",
   "metadata": {},
   "outputs": [
    {
     "data": {
      "text/plain": [
       "7.0710678118654755"
      ]
     },
     "execution_count": 93,
     "metadata": {},
     "output_type": "execute_result"
    }
   ],
   "source": [
    "import math\n",
    "math.sqrt(len(y_test))"
   ]
  },
  {
   "cell_type": "markdown",
   "id": "05fa23a5",
   "metadata": {},
   "source": [
    "Here we are choosing the k value to be 7 (choosing odd value)\n",
    "\n",
    "Define the model KNN and fit model"
   ]
  },
  {
   "cell_type": "code",
   "execution_count": 94,
   "id": "d0353d6c",
   "metadata": {},
   "outputs": [],
   "source": [
    "KNN_classifier = KNC(n_neighbors =7, p = 2, metric = 'euclidean')"
   ]
  },
  {
   "cell_type": "code",
   "execution_count": 95,
   "id": "bcbc2237",
   "metadata": {},
   "outputs": [
    {
     "data": {
      "text/plain": [
       "KNeighborsClassifier(metric='euclidean', n_neighbors=7)"
      ]
     },
     "execution_count": 95,
     "metadata": {},
     "output_type": "execute_result"
    }
   ],
   "source": [
    "KNN_classifier.fit(X_train, y_train)"
   ]
  },
  {
   "cell_type": "markdown",
   "id": "a24b9fac",
   "metadata": {},
   "source": [
    "## Predict the Test set results"
   ]
  },
  {
   "cell_type": "code",
   "execution_count": 96,
   "id": "320fac83",
   "metadata": {},
   "outputs": [
    {
     "data": {
      "text/plain": [
       "array([1, 1, 0, 1, 1, 1, 1, 0, 0, 1, 1, 1, 1, 1, 1, 0, 1, 1, 1, 0, 1, 0,\n",
       "       1, 1, 1, 0, 0, 0, 1, 0, 1, 0, 1, 1, 1, 1, 1, 0, 0, 1, 1, 0, 1, 1,\n",
       "       0, 0, 1, 0, 0, 1])"
      ]
     },
     "execution_count": 96,
     "metadata": {},
     "output_type": "execute_result"
    }
   ],
   "source": [
    "y_pred = KNN_classifier.predict(X_test)\n",
    "y_pred"
   ]
  },
  {
   "cell_type": "markdown",
   "id": "ebdd19f3",
   "metadata": {},
   "source": [
    "# Evaluate model"
   ]
  },
  {
   "cell_type": "code",
   "execution_count": 97,
   "id": "319f811b",
   "metadata": {},
   "outputs": [
    {
     "name": "stdout",
     "output_type": "stream",
     "text": [
      "[[18  0]\n",
      " [ 0 32]]\n"
     ]
    }
   ],
   "source": [
    "from sklearn.metrics import confusion_matrix\n",
    "\n",
    "cm = confusion_matrix(y_test, y_pred)\n",
    "print(cm)"
   ]
  },
  {
   "cell_type": "code",
   "execution_count": 98,
   "id": "278ae559",
   "metadata": {},
   "outputs": [
    {
     "name": "stdout",
     "output_type": "stream",
     "text": [
      "1.0\n"
     ]
    }
   ],
   "source": [
    "from sklearn.metrics import f1_score\n",
    "print(f1_score(y_test, y_pred))"
   ]
  },
  {
   "cell_type": "markdown",
   "id": "95fd9a09",
   "metadata": {},
   "source": [
    "# Accuracy of KNN model"
   ]
  },
  {
   "cell_type": "code",
   "execution_count": 99,
   "id": "c5110915",
   "metadata": {},
   "outputs": [
    {
     "data": {
      "text/plain": [
       "1.0"
      ]
     },
     "execution_count": 99,
     "metadata": {},
     "output_type": "execute_result"
    }
   ],
   "source": [
    "from sklearn.metrics import accuracy_score\n",
    "\n",
    "KNN_acc = accuracy_score(y_test, y_pred)\n",
    "KNN_acc"
   ]
  },
  {
   "cell_type": "markdown",
   "id": "f6ef0ea1",
   "metadata": {},
   "source": [
    "# 5.Decision Tree Model"
   ]
  },
  {
   "cell_type": "code",
   "execution_count": 100,
   "id": "21b5450a",
   "metadata": {},
   "outputs": [],
   "source": [
    "from sklearn.tree import  DecisionTreeClassifier\n",
    "from sklearn import tree\n",
    "from sklearn.metrics import classification_report\n",
    "from sklearn import preprocessing"
   ]
  },
  {
   "cell_type": "code",
   "execution_count": 101,
   "id": "3dab353e",
   "metadata": {},
   "outputs": [],
   "source": [
    "model =  tree.DecisionTreeClassifier(max_depth=5) #Build"
   ]
  },
  {
   "cell_type": "code",
   "execution_count": 102,
   "id": "25effb9c",
   "metadata": {},
   "outputs": [
    {
     "data": {
      "text/plain": [
       "DecisionTreeClassifier(max_depth=5)"
      ]
     },
     "execution_count": 102,
     "metadata": {},
     "output_type": "execute_result"
    }
   ],
   "source": [
    "model.fit(X_train,y_train) # train"
   ]
  },
  {
   "cell_type": "code",
   "execution_count": 103,
   "id": "9cde4898",
   "metadata": {},
   "outputs": [
    {
     "data": {
      "text/plain": [
       "1.0"
      ]
     },
     "execution_count": 103,
     "metadata": {},
     "output_type": "execute_result"
    }
   ],
   "source": [
    "model.score(X_train,y_train)# make prediction"
   ]
  },
  {
   "cell_type": "code",
   "execution_count": 104,
   "id": "d11ea597",
   "metadata": {},
   "outputs": [],
   "source": [
    "y_pred=model.predict(X_test)"
   ]
  },
  {
   "cell_type": "code",
   "execution_count": 105,
   "id": "3cd0b4d9",
   "metadata": {},
   "outputs": [
    {
     "data": {
      "text/plain": [
       "array([1, 1, 0, 1, 1, 1, 1, 0, 0, 1, 1, 1, 1, 1, 1, 0, 1, 1, 1, 0, 1, 0,\n",
       "       1, 1, 1, 0, 0, 0, 0, 0, 1, 0, 1, 1, 1, 1, 1, 0, 0, 1, 1, 0, 1, 1,\n",
       "       0, 0, 1, 0, 0, 1])"
      ]
     },
     "execution_count": 105,
     "metadata": {},
     "output_type": "execute_result"
    }
   ],
   "source": [
    "y_pred"
   ]
  },
  {
   "cell_type": "code",
   "execution_count": 106,
   "id": "6a310510",
   "metadata": {},
   "outputs": [
    {
     "data": {
      "text/plain": [
       "0.98"
      ]
     },
     "execution_count": 106,
     "metadata": {},
     "output_type": "execute_result"
    }
   ],
   "source": [
    "#Find the accuracy\n",
    "model.score(X_test,y_test)"
   ]
  },
  {
   "cell_type": "code",
   "execution_count": 107,
   "id": "9f50d4fe",
   "metadata": {
    "scrolled": true
   },
   "outputs": [
    {
     "name": "stdout",
     "output_type": "stream",
     "text": [
      "              precision    recall  f1-score   support\n",
      "\n",
      "           0       0.95      1.00      0.97        18\n",
      "           1       1.00      0.97      0.98        32\n",
      "\n",
      "    accuracy                           0.98        50\n",
      "   macro avg       0.97      0.98      0.98        50\n",
      "weighted avg       0.98      0.98      0.98        50\n",
      "\n"
     ]
    }
   ],
   "source": [
    "from sklearn.metrics import classification_report\n",
    "\n",
    "print(classification_report(y_test, y_pred))"
   ]
  },
  {
   "cell_type": "code",
   "execution_count": 108,
   "id": "9d9d0227",
   "metadata": {},
   "outputs": [],
   "source": [
    "from sklearn.ensemble import RandomForestClassifier\n",
    "rd = RandomForestClassifier()\n",
    "model_rd = rd.fit(X_train,y_train)"
   ]
  },
  {
   "cell_type": "code",
   "execution_count": 110,
   "id": "765400ba",
   "metadata": {},
   "outputs": [
    {
     "data": {
      "text/plain": [
       "array([1, 1, 0, 1, 1, 1, 1, 0, 0, 1, 1, 1, 1, 1, 1, 0, 1, 1, 1, 0, 1, 0,\n",
       "       1, 1, 1, 0, 0, 0, 0, 0, 1, 0, 1, 1, 1, 1, 1, 0, 0, 1, 1, 0, 1, 1,\n",
       "       0, 0, 1, 0, 0, 1])"
      ]
     },
     "execution_count": 110,
     "metadata": {},
     "output_type": "execute_result"
    }
   ],
   "source": [
    "y_pred_rd = model_rd.predict(X_test)\n",
    "y_pred_rd"
   ]
  },
  {
   "cell_type": "code",
   "execution_count": 114,
   "id": "5d9ed2b5",
   "metadata": {},
   "outputs": [
    {
     "data": {
      "text/plain": [
       "0.98"
      ]
     },
     "execution_count": 114,
     "metadata": {},
     "output_type": "execute_result"
    }
   ],
   "source": [
    "model_rd.score(X_test,y_test)"
   ]
  },
  {
   "cell_type": "code",
   "execution_count": 115,
   "id": "5f5ca515",
   "metadata": {},
   "outputs": [],
   "source": [
    "from sklearn.metrics import accuracy_score,classification_report"
   ]
  },
  {
   "cell_type": "code",
   "execution_count": 116,
   "id": "ad542676",
   "metadata": {},
   "outputs": [
    {
     "data": {
      "text/plain": [
       "0.98"
      ]
     },
     "execution_count": 116,
     "metadata": {},
     "output_type": "execute_result"
    }
   ],
   "source": [
    "accuracy_score(y_test,y_pred_rd)"
   ]
  },
  {
   "cell_type": "code",
   "execution_count": 118,
   "id": "ec9bc002",
   "metadata": {},
   "outputs": [
    {
     "name": "stdout",
     "output_type": "stream",
     "text": [
      "              precision    recall  f1-score   support\n",
      "\n",
      "           0       0.95      1.00      0.97        18\n",
      "           1       1.00      0.97      0.98        32\n",
      "\n",
      "    accuracy                           0.98        50\n",
      "   macro avg       0.97      0.98      0.98        50\n",
      "weighted avg       0.98      0.98      0.98        50\n",
      "\n"
     ]
    }
   ],
   "source": [
    "print(classification_report(y_test,y_pred_rd))"
   ]
  },
  {
   "cell_type": "code",
   "execution_count": null,
   "id": "d25406bf",
   "metadata": {},
   "outputs": [],
   "source": []
  }
 ],
 "metadata": {
  "colab": {
   "name": "Model Building.ipynb",
   "provenance": []
  },
  "kernelspec": {
   "display_name": "Python 3 (ipykernel)",
   "language": "python",
   "name": "python3"
  },
  "language_info": {
   "codemirror_mode": {
    "name": "ipython",
    "version": 3
   },
   "file_extension": ".py",
   "mimetype": "text/x-python",
   "name": "python",
   "nbconvert_exporter": "python",
   "pygments_lexer": "ipython3",
   "version": "3.9.12"
  }
 },
 "nbformat": 4,
 "nbformat_minor": 5
}
