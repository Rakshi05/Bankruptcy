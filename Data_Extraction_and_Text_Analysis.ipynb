{
  "cells": [
    {
      "cell_type": "markdown",
      "metadata": {
        "id": "view-in-github",
        "colab_type": "text"
      },
      "source": [
        "<a href=\"https://colab.research.google.com/github/Rakshi05/Bankruptcy/blob/main/Data_Extraction_and_Text_Analysis.ipynb\" target=\"_parent\"><img src=\"https://colab.research.google.com/assets/colab-badge.svg\" alt=\"Open In Colab\"/></a>"
      ]
    },
    {
      "cell_type": "code",
      "execution_count": 49,
      "metadata": {
        "id": "Qc6rCk68pjiI",
        "colab": {
          "base_uri": "https://localhost:8080/"
        },
        "outputId": "907d4d9b-8498-49fc-c795-3a032ea7e506"
      },
      "outputs": [
        {
          "output_type": "stream",
          "name": "stderr",
          "text": [
            "[nltk_data] Downloading package punkt to /root/nltk_data...\n",
            "[nltk_data]   Package punkt is already up-to-date!\n"
          ]
        },
        {
          "output_type": "execute_result",
          "data": {
            "text/plain": [
              "True"
            ]
          },
          "metadata": {},
          "execution_count": 49
        }
      ],
      "source": [
        "#importing library\n",
        "import pandas as pd\n",
        "import requests\n",
        "from bs4 import BeautifulSoup as bs\n",
        "import numpy as np\n",
        "from google.colab import files\n",
        "import nltk\n",
        "import string\n",
        "nltk.download('punkt')"
      ]
    },
    {
      "cell_type": "code",
      "execution_count": 50,
      "metadata": {
        "colab": {
          "base_uri": "https://localhost:8080/"
        },
        "id": "EZOpO9Wr2N-q",
        "outputId": "afab9051-cc7b-4faa-c8e2-6f8632b66a0f"
      },
      "outputs": [
        {
          "output_type": "stream",
          "name": "stdout",
          "text": [
            "Drive already mounted at /content/drive; to attempt to forcibly remount, call drive.mount(\"/content/drive\", force_remount=True).\n"
          ]
        }
      ],
      "source": [
        "from google.colab import drive\n",
        "drive.mount('/content/drive')"
      ]
    },
    {
      "cell_type": "code",
      "execution_count": 51,
      "metadata": {
        "id": "ERxusgod7pLb"
      },
      "outputs": [],
      "source": [
        "# nltk.download(\"all\")"
      ]
    },
    {
      "cell_type": "code",
      "execution_count": 52,
      "metadata": {
        "id": "j3wAqjmppkVC"
      },
      "outputs": [],
      "source": [
        "#importing input file\n",
        "df=pd.read_excel('/content/drive/MyDrive/project/assignment/Data_Extraction_and_NLP TestAssignment/Input.xlsx')[['URL_ID','URL']]"
      ]
    },
    {
      "cell_type": "code",
      "execution_count": 53,
      "metadata": {
        "id": "SrEPOMu2pkPk"
      },
      "outputs": [],
      "source": [
        "\n",
        "df=df.iloc[0:150]"
      ]
    },
    {
      "cell_type": "code",
      "execution_count": 54,
      "metadata": {
        "colab": {
          "base_uri": "https://localhost:8080/",
          "height": 423
        },
        "id": "kqvyVaiF3XAt",
        "outputId": "42b6e008-26f2-468f-9081-8ad18b08e705"
      },
      "outputs": [
        {
          "output_type": "execute_result",
          "data": {
            "text/plain": [
              "     URL_ID                                                URL\n",
              "0        37  https://insights.blackcoffer.com/ai-in-healthc...\n",
              "1        38  https://insights.blackcoffer.com/what-if-the-c...\n",
              "2        39  https://insights.blackcoffer.com/what-jobs-wil...\n",
              "3        40  https://insights.blackcoffer.com/will-machine-...\n",
              "4        41  https://insights.blackcoffer.com/will-ai-repla...\n",
              "..      ...                                                ...\n",
              "109     146  https://insights.blackcoffer.com/blockchain-fo...\n",
              "110     147  https://insights.blackcoffer.com/the-future-of...\n",
              "111     148  https://insights.blackcoffer.com/big-data-anal...\n",
              "112     149  https://insights.blackcoffer.com/business-anal...\n",
              "113     150  https://insights.blackcoffer.com/challenges-an...\n",
              "\n",
              "[114 rows x 2 columns]"
            ],
            "text/html": [
              "\n",
              "  <div id=\"df-a28adfe8-4083-4a2b-a0cf-5bd09aeae5fc\">\n",
              "    <div class=\"colab-df-container\">\n",
              "      <div>\n",
              "<style scoped>\n",
              "    .dataframe tbody tr th:only-of-type {\n",
              "        vertical-align: middle;\n",
              "    }\n",
              "\n",
              "    .dataframe tbody tr th {\n",
              "        vertical-align: top;\n",
              "    }\n",
              "\n",
              "    .dataframe thead th {\n",
              "        text-align: right;\n",
              "    }\n",
              "</style>\n",
              "<table border=\"1\" class=\"dataframe\">\n",
              "  <thead>\n",
              "    <tr style=\"text-align: right;\">\n",
              "      <th></th>\n",
              "      <th>URL_ID</th>\n",
              "      <th>URL</th>\n",
              "    </tr>\n",
              "  </thead>\n",
              "  <tbody>\n",
              "    <tr>\n",
              "      <th>0</th>\n",
              "      <td>37</td>\n",
              "      <td>https://insights.blackcoffer.com/ai-in-healthc...</td>\n",
              "    </tr>\n",
              "    <tr>\n",
              "      <th>1</th>\n",
              "      <td>38</td>\n",
              "      <td>https://insights.blackcoffer.com/what-if-the-c...</td>\n",
              "    </tr>\n",
              "    <tr>\n",
              "      <th>2</th>\n",
              "      <td>39</td>\n",
              "      <td>https://insights.blackcoffer.com/what-jobs-wil...</td>\n",
              "    </tr>\n",
              "    <tr>\n",
              "      <th>3</th>\n",
              "      <td>40</td>\n",
              "      <td>https://insights.blackcoffer.com/will-machine-...</td>\n",
              "    </tr>\n",
              "    <tr>\n",
              "      <th>4</th>\n",
              "      <td>41</td>\n",
              "      <td>https://insights.blackcoffer.com/will-ai-repla...</td>\n",
              "    </tr>\n",
              "    <tr>\n",
              "      <th>...</th>\n",
              "      <td>...</td>\n",
              "      <td>...</td>\n",
              "    </tr>\n",
              "    <tr>\n",
              "      <th>109</th>\n",
              "      <td>146</td>\n",
              "      <td>https://insights.blackcoffer.com/blockchain-fo...</td>\n",
              "    </tr>\n",
              "    <tr>\n",
              "      <th>110</th>\n",
              "      <td>147</td>\n",
              "      <td>https://insights.blackcoffer.com/the-future-of...</td>\n",
              "    </tr>\n",
              "    <tr>\n",
              "      <th>111</th>\n",
              "      <td>148</td>\n",
              "      <td>https://insights.blackcoffer.com/big-data-anal...</td>\n",
              "    </tr>\n",
              "    <tr>\n",
              "      <th>112</th>\n",
              "      <td>149</td>\n",
              "      <td>https://insights.blackcoffer.com/business-anal...</td>\n",
              "    </tr>\n",
              "    <tr>\n",
              "      <th>113</th>\n",
              "      <td>150</td>\n",
              "      <td>https://insights.blackcoffer.com/challenges-an...</td>\n",
              "    </tr>\n",
              "  </tbody>\n",
              "</table>\n",
              "<p>114 rows × 2 columns</p>\n",
              "</div>\n",
              "      <button class=\"colab-df-convert\" onclick=\"convertToInteractive('df-a28adfe8-4083-4a2b-a0cf-5bd09aeae5fc')\"\n",
              "              title=\"Convert this dataframe to an interactive table.\"\n",
              "              style=\"display:none;\">\n",
              "        \n",
              "  <svg xmlns=\"http://www.w3.org/2000/svg\" height=\"24px\"viewBox=\"0 0 24 24\"\n",
              "       width=\"24px\">\n",
              "    <path d=\"M0 0h24v24H0V0z\" fill=\"none\"/>\n",
              "    <path d=\"M18.56 5.44l.94 2.06.94-2.06 2.06-.94-2.06-.94-.94-2.06-.94 2.06-2.06.94zm-11 1L8.5 8.5l.94-2.06 2.06-.94-2.06-.94L8.5 2.5l-.94 2.06-2.06.94zm10 10l.94 2.06.94-2.06 2.06-.94-2.06-.94-.94-2.06-.94 2.06-2.06.94z\"/><path d=\"M17.41 7.96l-1.37-1.37c-.4-.4-.92-.59-1.43-.59-.52 0-1.04.2-1.43.59L10.3 9.45l-7.72 7.72c-.78.78-.78 2.05 0 2.83L4 21.41c.39.39.9.59 1.41.59.51 0 1.02-.2 1.41-.59l7.78-7.78 2.81-2.81c.8-.78.8-2.07 0-2.86zM5.41 20L4 18.59l7.72-7.72 1.47 1.35L5.41 20z\"/>\n",
              "  </svg>\n",
              "      </button>\n",
              "      \n",
              "  <style>\n",
              "    .colab-df-container {\n",
              "      display:flex;\n",
              "      flex-wrap:wrap;\n",
              "      gap: 12px;\n",
              "    }\n",
              "\n",
              "    .colab-df-convert {\n",
              "      background-color: #E8F0FE;\n",
              "      border: none;\n",
              "      border-radius: 50%;\n",
              "      cursor: pointer;\n",
              "      display: none;\n",
              "      fill: #1967D2;\n",
              "      height: 32px;\n",
              "      padding: 0 0 0 0;\n",
              "      width: 32px;\n",
              "    }\n",
              "\n",
              "    .colab-df-convert:hover {\n",
              "      background-color: #E2EBFA;\n",
              "      box-shadow: 0px 1px 2px rgba(60, 64, 67, 0.3), 0px 1px 3px 1px rgba(60, 64, 67, 0.15);\n",
              "      fill: #174EA6;\n",
              "    }\n",
              "\n",
              "    [theme=dark] .colab-df-convert {\n",
              "      background-color: #3B4455;\n",
              "      fill: #D2E3FC;\n",
              "    }\n",
              "\n",
              "    [theme=dark] .colab-df-convert:hover {\n",
              "      background-color: #434B5C;\n",
              "      box-shadow: 0px 1px 3px 1px rgba(0, 0, 0, 0.15);\n",
              "      filter: drop-shadow(0px 1px 2px rgba(0, 0, 0, 0.3));\n",
              "      fill: #FFFFFF;\n",
              "    }\n",
              "  </style>\n",
              "\n",
              "      <script>\n",
              "        const buttonEl =\n",
              "          document.querySelector('#df-a28adfe8-4083-4a2b-a0cf-5bd09aeae5fc button.colab-df-convert');\n",
              "        buttonEl.style.display =\n",
              "          google.colab.kernel.accessAllowed ? 'block' : 'none';\n",
              "\n",
              "        async function convertToInteractive(key) {\n",
              "          const element = document.querySelector('#df-a28adfe8-4083-4a2b-a0cf-5bd09aeae5fc');\n",
              "          const dataTable =\n",
              "            await google.colab.kernel.invokeFunction('convertToInteractive',\n",
              "                                                     [key], {});\n",
              "          if (!dataTable) return;\n",
              "\n",
              "          const docLinkHtml = 'Like what you see? Visit the ' +\n",
              "            '<a target=\"_blank\" href=https://colab.research.google.com/notebooks/data_table.ipynb>data table notebook</a>'\n",
              "            + ' to learn more about interactive tables.';\n",
              "          element.innerHTML = '';\n",
              "          dataTable['output_type'] = 'display_data';\n",
              "          await google.colab.output.renderOutput(dataTable, element);\n",
              "          const docLink = document.createElement('div');\n",
              "          docLink.innerHTML = docLinkHtml;\n",
              "          element.appendChild(docLink);\n",
              "        }\n",
              "      </script>\n",
              "    </div>\n",
              "  </div>\n",
              "  "
            ]
          },
          "metadata": {},
          "execution_count": 54
        }
      ],
      "source": [
        "df"
      ]
    },
    {
      "cell_type": "code",
      "execution_count": 55,
      "metadata": {
        "id": "m_-j2x4j3W-G"
      },
      "outputs": [],
      "source": [
        "df.drop('URL_ID',axis=1,inplace=True)"
      ]
    },
    {
      "cell_type": "markdown",
      "metadata": {
        "id": "G0qbaPKada0c"
      },
      "source": [
        "# Data extraction"
      ]
    },
    {
      "cell_type": "code",
      "execution_count": 70,
      "metadata": {
        "id": "czsKjlCH3W32",
        "colab": {
          "base_uri": "https://localhost:8080/",
          "height": 72
        },
        "outputId": "dc1372be-315d-4d4e-d01a-4875fa7f8874"
      },
      "outputs": [
        {
          "output_type": "stream",
          "name": "stderr",
          "text": [
            "<ipython-input-70-c5b08670a1ee>:20: FutureWarning: the 'line_terminator'' keyword is deprecated, use 'lineterminator' instead.\n",
            "  df1.to_csv(f, line_terminator=',', index=False, header=False)\n"
          ]
        },
        {
          "output_type": "display_data",
          "data": {
            "text/plain": [
              "<IPython.core.display.Javascript object>"
            ],
            "application/javascript": [
              "\n",
              "    async function download(id, filename, size) {\n",
              "      if (!google.colab.kernel.accessAllowed) {\n",
              "        return;\n",
              "      }\n",
              "      const div = document.createElement('div');\n",
              "      const label = document.createElement('label');\n",
              "      label.textContent = `Downloading \"${filename}\": `;\n",
              "      div.appendChild(label);\n",
              "      const progress = document.createElement('progress');\n",
              "      progress.max = size;\n",
              "      div.appendChild(progress);\n",
              "      document.body.appendChild(div);\n",
              "\n",
              "      const buffers = [];\n",
              "      let downloaded = 0;\n",
              "\n",
              "      const channel = await google.colab.kernel.comms.open(id);\n",
              "      // Send a message to notify the kernel that we're ready.\n",
              "      channel.send({})\n",
              "\n",
              "      for await (const message of channel.messages) {\n",
              "        // Send a message to notify the kernel that we're ready.\n",
              "        channel.send({})\n",
              "        if (message.buffers) {\n",
              "          for (const buffer of message.buffers) {\n",
              "            buffers.push(buffer);\n",
              "            downloaded += buffer.byteLength;\n",
              "            progress.value = downloaded;\n",
              "          }\n",
              "        }\n",
              "      }\n",
              "      const blob = new Blob(buffers, {type: 'application/binary'});\n",
              "      const a = document.createElement('a');\n",
              "      a.href = window.URL.createObjectURL(blob);\n",
              "      a.download = filename;\n",
              "      div.appendChild(a);\n",
              "      a.click();\n",
              "      div.remove();\n",
              "    }\n",
              "  "
            ]
          },
          "metadata": {}
        },
        {
          "output_type": "display_data",
          "data": {
            "text/plain": [
              "<IPython.core.display.Javascript object>"
            ],
            "application/javascript": [
              "download(\"download_ade5365c-c3e3-4696-bfe1-f0a3f5d1f9ed\", \"1.txt\", 0)"
            ]
          },
          "metadata": {}
        }
      ],
      "source": [
        "#extracting text from all the url\n",
        "url_id=1\n",
        "for i in range(0,len(df)):\n",
        " \n",
        "   j=df.iloc[i].values\n",
        "   \n",
        "   headers={'User-Agent': 'Mozilla/5.0 (Windows NT 10.0; Win64; x64) AppleWebKit/537.36 (KHTML, like Gecko) Chrome/74.0.3729.169 Safari/537.36'}#giving user access\n",
        "   page=requests.get(j[0],headers=headers)#loading text in url\n",
        "   soup=BeautifulSoup(page.content,'html.parser')#parsing url text\n",
        "   content=soup.findAll(attrs={'class':'td-post-content'})#extracting only text part\n",
        "  #  content=content[0].text.replace('\\xa0',\"  \").replace('\\n',\"  \")#replace end line symbol with space \n",
        "   title=soup.findAll(attrs={'class':'entry-title'})#extracting title of website\n",
        "   title=title[16].text.replace('\\n',\"  \").replace('/',\"\")\n",
        "  #  text=title+ '.' +content#merging title and content text\n",
        "   text=np.array(text)#converting to array form\n",
        "   text.reshape(1,-1)#changing shape to 1d \n",
        "   df1=pd.Series(text)#creating series data frame\n",
        "   b=str(url_id)+\".\"+'txt'#name of the text file\n",
        "with open(b, 'a') as f: #creating text file \n",
        "        df1.to_csv(f, line_terminator=',', index=False, header=False)\n",
        "        files.download(b)#downloading text file\n",
        "url_id+=1\n",
        "   "
      ]
    },
    {
      "cell_type": "code",
      "source": [
        "# content"
      ],
      "metadata": {
        "id": "gc-Z4M7ZAgtA"
      },
      "execution_count": null,
      "outputs": []
    },
    {
      "cell_type": "markdown",
      "metadata": {
        "id": "ETT5Ce93dW3E"
      },
      "source": [
        "# Data analysis"
      ]
    },
    {
      "cell_type": "code",
      "execution_count": 71,
      "metadata": {
        "id": "gHvRnhT3c3pc"
      },
      "outputs": [],
      "source": [
        "#importing each extracted files\n",
        "text=pd.read_csv(\"/content/drive/MyDrive/project/assignment/Data_Extraction_and_NLP TestAssignment/TitleText/1.txt\",header=None)"
      ]
    },
    {
      "cell_type": "code",
      "execution_count": 72,
      "metadata": {
        "colab": {
          "base_uri": "https://localhost:8080/"
        },
        "id": "99yHj18o_iDU",
        "outputId": "44be4054-a4f9-4cd8-81eb-54937e368188"
      },
      "outputs": [
        {
          "output_type": "stream",
          "name": "stdout",
          "text": [
            "<class 'pandas.core.frame.DataFrame'>\n",
            "RangeIndex: 1 entries, 0 to 0\n",
            "Data columns (total 2 columns):\n",
            " #   Column  Non-Null Count  Dtype  \n",
            "---  ------  --------------  -----  \n",
            " 0   0       1 non-null      object \n",
            " 1   1       0 non-null      float64\n",
            "dtypes: float64(1), object(1)\n",
            "memory usage: 144.0+ bytes\n"
          ]
        }
      ],
      "source": [
        "#information of data frame\n",
        "text.info()"
      ]
    },
    {
      "cell_type": "code",
      "execution_count": 73,
      "metadata": {
        "id": "PSk_xA-XAoQz"
      },
      "outputs": [],
      "source": [
        "#removing extra created column\n",
        "text.drop(1,axis=1,inplace=True)"
      ]
    },
    {
      "cell_type": "code",
      "execution_count": 74,
      "metadata": {
        "id": "dzIKncs5BJEj"
      },
      "outputs": [],
      "source": [
        "#converting type\n",
        "text=text.astype(str)"
      ]
    },
    {
      "cell_type": "code",
      "execution_count": 75,
      "metadata": {
        "id": "KCDJzEnU7Ogk"
      },
      "outputs": [],
      "source": [
        "#converting text to sentence\n",
        "import re\n",
        "a=text[0].str.split('([\\.]\\s)',expand=False)#splitting text on '.'\n",
        "b=a.explode()#converting to rows\n",
        "b=pd.DataFrame(b)#creating data frame\n",
        "b.columns=['abc']\n"
      ]
    },
    {
      "cell_type": "code",
      "execution_count": 76,
      "metadata": {
        "id": "-V-qW6SbTQMW"
      },
      "outputs": [],
      "source": [
        "#removing . char from each rows\n",
        "def abcd(x):    \n",
        "    nopunc =[char for char in x if char != '.']\n",
        "    return ''.join(nopunc)\n",
        "b['abc']=b['abc'].apply(abcd)\n"
      ]
    },
    {
      "cell_type": "code",
      "execution_count": 77,
      "metadata": {
        "id": "NYwn1576looc"
      },
      "outputs": [],
      "source": [
        "#replacing emty space with null values\n",
        "c=b.replace('',np.nan,regex=True)\n",
        "c=c.mask(c==\" \")\n",
        "c=c.dropna()\n",
        "c.reset_index(drop=True,inplace=True)"
      ]
    },
    {
      "cell_type": "code",
      "execution_count": 78,
      "metadata": {
        "colab": {
          "base_uri": "https://localhost:8080/",
          "height": 1000
        },
        "id": "yikIBkKzeoBM",
        "outputId": "f2d32df9-aed8-4a1b-d8c1-f922aa85a64a"
      },
      "outputs": [
        {
          "output_type": "execute_result",
          "data": {
            "text/plain": [
              "                                                  abc\n",
              "0   How humans and machines are evolving to work t...\n",
              "1    In future or in upcoming years humans and mac...\n",
              "2   In upcoming days machines will be the need for...\n",
              "3   Machines [AI technology] will do the work whic...\n",
              "4    Machines will partner and co-operate with humans\n",
              "5    According to the professor at the university ...\n",
              "6   Human workers and machines will work together ...\n",
              "7   Machines will learn to carry out easier tasks ...\n",
              "8      They will also help the humans while difficult\n",
              "9   Machines or AI will create a great job opportu...\n",
              "10  John Kelly ll, executive vice president of IBM...\n",
              "11          So, that their work becomes not difficult\n",
              "12  As of now, we can only see that for agricultur...\n",
              "13  Some major technologies [machines] that are ha...\n",
              "14   As a result, farms can do agriculture peacefully\n",
              "15  In the industrial sector also humans and machi...\n",
              "16  Various types of machines are used in industri...\n",
              "17  humans provide instructions to the machines an...\n",
              "18  Soon robots [machines] will assist doctors wit...\n",
              "19  For instance, a doctor at remote location coul...\n",
              "20  But the approaches option and decision will be...\n",
              "21   What do you think of machines if they will ma...\n",
              "22  As a result, machines will make the workplace ...\n",
              "23  However, humans have to learn new skills throu...\n",
              "24  It is said that in the future 80% of process-o...\n",
              "25  Quantitative reasoning tasks will be done appr...\n",
              "26  According to Harvard research machines, algori...\n",
              "27                 Humans can do it with 96% accuracy\n",
              "28                  Together, it will be 99% accurate\n",
              "29   Human-machine collaboration enables companies...\n",
              "30  Smart machines are helping humans to expand th...\n",
              "31  They can amplify our cognitive strengths; inte...\n",
              "32  In the research, it was found that 1,500 compa...\n",
              "33  New machine systems have beyond-human cognitiv...\n",
              "34  Machines will indeed automate most repetitive ...\n",
              "35  According to DE Shaw Group and professor at th...\n",
              "36  This is similar to how we couldn’t imagine a w...\n",
              "37   Machines are good at doing tasks with speed, ...\n",
              "38  But machines are not very good at responding t...\n",
              "39                   That part will be left to humans\n",
              "40  Hence, the need for both humans and machines w...\n",
              "41  Humans and machines have divergent skill sets ...\n",
              "42  Machines have already infiltrated every aspect...\n",
              "43  In the future, human workers will interact mor...\n",
              "44                     Blackcoffer Insights 29: Va..."
            ],
            "text/html": [
              "\n",
              "  <div id=\"df-65087503-9e54-4882-86b7-ebd43eb8d7a0\">\n",
              "    <div class=\"colab-df-container\">\n",
              "      <div>\n",
              "<style scoped>\n",
              "    .dataframe tbody tr th:only-of-type {\n",
              "        vertical-align: middle;\n",
              "    }\n",
              "\n",
              "    .dataframe tbody tr th {\n",
              "        vertical-align: top;\n",
              "    }\n",
              "\n",
              "    .dataframe thead th {\n",
              "        text-align: right;\n",
              "    }\n",
              "</style>\n",
              "<table border=\"1\" class=\"dataframe\">\n",
              "  <thead>\n",
              "    <tr style=\"text-align: right;\">\n",
              "      <th></th>\n",
              "      <th>abc</th>\n",
              "    </tr>\n",
              "  </thead>\n",
              "  <tbody>\n",
              "    <tr>\n",
              "      <th>0</th>\n",
              "      <td>How humans and machines are evolving to work t...</td>\n",
              "    </tr>\n",
              "    <tr>\n",
              "      <th>1</th>\n",
              "      <td>In future or in upcoming years humans and mac...</td>\n",
              "    </tr>\n",
              "    <tr>\n",
              "      <th>2</th>\n",
              "      <td>In upcoming days machines will be the need for...</td>\n",
              "    </tr>\n",
              "    <tr>\n",
              "      <th>3</th>\n",
              "      <td>Machines [AI technology] will do the work whic...</td>\n",
              "    </tr>\n",
              "    <tr>\n",
              "      <th>4</th>\n",
              "      <td>Machines will partner and co-operate with humans</td>\n",
              "    </tr>\n",
              "    <tr>\n",
              "      <th>5</th>\n",
              "      <td>According to the professor at the university ...</td>\n",
              "    </tr>\n",
              "    <tr>\n",
              "      <th>6</th>\n",
              "      <td>Human workers and machines will work together ...</td>\n",
              "    </tr>\n",
              "    <tr>\n",
              "      <th>7</th>\n",
              "      <td>Machines will learn to carry out easier tasks ...</td>\n",
              "    </tr>\n",
              "    <tr>\n",
              "      <th>8</th>\n",
              "      <td>They will also help the humans while difficult</td>\n",
              "    </tr>\n",
              "    <tr>\n",
              "      <th>9</th>\n",
              "      <td>Machines or AI will create a great job opportu...</td>\n",
              "    </tr>\n",
              "    <tr>\n",
              "      <th>10</th>\n",
              "      <td>John Kelly ll, executive vice president of IBM...</td>\n",
              "    </tr>\n",
              "    <tr>\n",
              "      <th>11</th>\n",
              "      <td>So, that their work becomes not difficult</td>\n",
              "    </tr>\n",
              "    <tr>\n",
              "      <th>12</th>\n",
              "      <td>As of now, we can only see that for agricultur...</td>\n",
              "    </tr>\n",
              "    <tr>\n",
              "      <th>13</th>\n",
              "      <td>Some major technologies [machines] that are ha...</td>\n",
              "    </tr>\n",
              "    <tr>\n",
              "      <th>14</th>\n",
              "      <td>As a result, farms can do agriculture peacefully</td>\n",
              "    </tr>\n",
              "    <tr>\n",
              "      <th>15</th>\n",
              "      <td>In the industrial sector also humans and machi...</td>\n",
              "    </tr>\n",
              "    <tr>\n",
              "      <th>16</th>\n",
              "      <td>Various types of machines are used in industri...</td>\n",
              "    </tr>\n",
              "    <tr>\n",
              "      <th>17</th>\n",
              "      <td>humans provide instructions to the machines an...</td>\n",
              "    </tr>\n",
              "    <tr>\n",
              "      <th>18</th>\n",
              "      <td>Soon robots [machines] will assist doctors wit...</td>\n",
              "    </tr>\n",
              "    <tr>\n",
              "      <th>19</th>\n",
              "      <td>For instance, a doctor at remote location coul...</td>\n",
              "    </tr>\n",
              "    <tr>\n",
              "      <th>20</th>\n",
              "      <td>But the approaches option and decision will be...</td>\n",
              "    </tr>\n",
              "    <tr>\n",
              "      <th>21</th>\n",
              "      <td>What do you think of machines if they will ma...</td>\n",
              "    </tr>\n",
              "    <tr>\n",
              "      <th>22</th>\n",
              "      <td>As a result, machines will make the workplace ...</td>\n",
              "    </tr>\n",
              "    <tr>\n",
              "      <th>23</th>\n",
              "      <td>However, humans have to learn new skills throu...</td>\n",
              "    </tr>\n",
              "    <tr>\n",
              "      <th>24</th>\n",
              "      <td>It is said that in the future 80% of process-o...</td>\n",
              "    </tr>\n",
              "    <tr>\n",
              "      <th>25</th>\n",
              "      <td>Quantitative reasoning tasks will be done appr...</td>\n",
              "    </tr>\n",
              "    <tr>\n",
              "      <th>26</th>\n",
              "      <td>According to Harvard research machines, algori...</td>\n",
              "    </tr>\n",
              "    <tr>\n",
              "      <th>27</th>\n",
              "      <td>Humans can do it with 96% accuracy</td>\n",
              "    </tr>\n",
              "    <tr>\n",
              "      <th>28</th>\n",
              "      <td>Together, it will be 99% accurate</td>\n",
              "    </tr>\n",
              "    <tr>\n",
              "      <th>29</th>\n",
              "      <td>Human-machine collaboration enables companies...</td>\n",
              "    </tr>\n",
              "    <tr>\n",
              "      <th>30</th>\n",
              "      <td>Smart machines are helping humans to expand th...</td>\n",
              "    </tr>\n",
              "    <tr>\n",
              "      <th>31</th>\n",
              "      <td>They can amplify our cognitive strengths; inte...</td>\n",
              "    </tr>\n",
              "    <tr>\n",
              "      <th>32</th>\n",
              "      <td>In the research, it was found that 1,500 compa...</td>\n",
              "    </tr>\n",
              "    <tr>\n",
              "      <th>33</th>\n",
              "      <td>New machine systems have beyond-human cognitiv...</td>\n",
              "    </tr>\n",
              "    <tr>\n",
              "      <th>34</th>\n",
              "      <td>Machines will indeed automate most repetitive ...</td>\n",
              "    </tr>\n",
              "    <tr>\n",
              "      <th>35</th>\n",
              "      <td>According to DE Shaw Group and professor at th...</td>\n",
              "    </tr>\n",
              "    <tr>\n",
              "      <th>36</th>\n",
              "      <td>This is similar to how we couldn’t imagine a w...</td>\n",
              "    </tr>\n",
              "    <tr>\n",
              "      <th>37</th>\n",
              "      <td>Machines are good at doing tasks with speed, ...</td>\n",
              "    </tr>\n",
              "    <tr>\n",
              "      <th>38</th>\n",
              "      <td>But machines are not very good at responding t...</td>\n",
              "    </tr>\n",
              "    <tr>\n",
              "      <th>39</th>\n",
              "      <td>That part will be left to humans</td>\n",
              "    </tr>\n",
              "    <tr>\n",
              "      <th>40</th>\n",
              "      <td>Hence, the need for both humans and machines w...</td>\n",
              "    </tr>\n",
              "    <tr>\n",
              "      <th>41</th>\n",
              "      <td>Humans and machines have divergent skill sets ...</td>\n",
              "    </tr>\n",
              "    <tr>\n",
              "      <th>42</th>\n",
              "      <td>Machines have already infiltrated every aspect...</td>\n",
              "    </tr>\n",
              "    <tr>\n",
              "      <th>43</th>\n",
              "      <td>In the future, human workers will interact mor...</td>\n",
              "    </tr>\n",
              "    <tr>\n",
              "      <th>44</th>\n",
              "      <td>Blackcoffer Insights 29: Va...</td>\n",
              "    </tr>\n",
              "  </tbody>\n",
              "</table>\n",
              "</div>\n",
              "      <button class=\"colab-df-convert\" onclick=\"convertToInteractive('df-65087503-9e54-4882-86b7-ebd43eb8d7a0')\"\n",
              "              title=\"Convert this dataframe to an interactive table.\"\n",
              "              style=\"display:none;\">\n",
              "        \n",
              "  <svg xmlns=\"http://www.w3.org/2000/svg\" height=\"24px\"viewBox=\"0 0 24 24\"\n",
              "       width=\"24px\">\n",
              "    <path d=\"M0 0h24v24H0V0z\" fill=\"none\"/>\n",
              "    <path d=\"M18.56 5.44l.94 2.06.94-2.06 2.06-.94-2.06-.94-.94-2.06-.94 2.06-2.06.94zm-11 1L8.5 8.5l.94-2.06 2.06-.94-2.06-.94L8.5 2.5l-.94 2.06-2.06.94zm10 10l.94 2.06.94-2.06 2.06-.94-2.06-.94-.94-2.06-.94 2.06-2.06.94z\"/><path d=\"M17.41 7.96l-1.37-1.37c-.4-.4-.92-.59-1.43-.59-.52 0-1.04.2-1.43.59L10.3 9.45l-7.72 7.72c-.78.78-.78 2.05 0 2.83L4 21.41c.39.39.9.59 1.41.59.51 0 1.02-.2 1.41-.59l7.78-7.78 2.81-2.81c.8-.78.8-2.07 0-2.86zM5.41 20L4 18.59l7.72-7.72 1.47 1.35L5.41 20z\"/>\n",
              "  </svg>\n",
              "      </button>\n",
              "      \n",
              "  <style>\n",
              "    .colab-df-container {\n",
              "      display:flex;\n",
              "      flex-wrap:wrap;\n",
              "      gap: 12px;\n",
              "    }\n",
              "\n",
              "    .colab-df-convert {\n",
              "      background-color: #E8F0FE;\n",
              "      border: none;\n",
              "      border-radius: 50%;\n",
              "      cursor: pointer;\n",
              "      display: none;\n",
              "      fill: #1967D2;\n",
              "      height: 32px;\n",
              "      padding: 0 0 0 0;\n",
              "      width: 32px;\n",
              "    }\n",
              "\n",
              "    .colab-df-convert:hover {\n",
              "      background-color: #E2EBFA;\n",
              "      box-shadow: 0px 1px 2px rgba(60, 64, 67, 0.3), 0px 1px 3px 1px rgba(60, 64, 67, 0.15);\n",
              "      fill: #174EA6;\n",
              "    }\n",
              "\n",
              "    [theme=dark] .colab-df-convert {\n",
              "      background-color: #3B4455;\n",
              "      fill: #D2E3FC;\n",
              "    }\n",
              "\n",
              "    [theme=dark] .colab-df-convert:hover {\n",
              "      background-color: #434B5C;\n",
              "      box-shadow: 0px 1px 3px 1px rgba(0, 0, 0, 0.15);\n",
              "      filter: drop-shadow(0px 1px 2px rgba(0, 0, 0, 0.3));\n",
              "      fill: #FFFFFF;\n",
              "    }\n",
              "  </style>\n",
              "\n",
              "      <script>\n",
              "        const buttonEl =\n",
              "          document.querySelector('#df-65087503-9e54-4882-86b7-ebd43eb8d7a0 button.colab-df-convert');\n",
              "        buttonEl.style.display =\n",
              "          google.colab.kernel.accessAllowed ? 'block' : 'none';\n",
              "\n",
              "        async function convertToInteractive(key) {\n",
              "          const element = document.querySelector('#df-65087503-9e54-4882-86b7-ebd43eb8d7a0');\n",
              "          const dataTable =\n",
              "            await google.colab.kernel.invokeFunction('convertToInteractive',\n",
              "                                                     [key], {});\n",
              "          if (!dataTable) return;\n",
              "\n",
              "          const docLinkHtml = 'Like what you see? Visit the ' +\n",
              "            '<a target=\"_blank\" href=https://colab.research.google.com/notebooks/data_table.ipynb>data table notebook</a>'\n",
              "            + ' to learn more about interactive tables.';\n",
              "          element.innerHTML = '';\n",
              "          dataTable['output_type'] = 'display_data';\n",
              "          await google.colab.output.renderOutput(dataTable, element);\n",
              "          const docLink = document.createElement('div');\n",
              "          docLink.innerHTML = docLinkHtml;\n",
              "          element.appendChild(docLink);\n",
              "        }\n",
              "      </script>\n",
              "    </div>\n",
              "  </div>\n",
              "  "
            ]
          },
          "metadata": {},
          "execution_count": 78
        }
      ],
      "source": [
        "c"
      ]
    },
    {
      "cell_type": "code",
      "execution_count": 79,
      "metadata": {
        "id": "iyBSH3bJc3ms"
      },
      "outputs": [],
      "source": [
        "#importing nltk library and stopwords\n",
        "import nltk\n",
        "import string\n"
      ]
    },
    {
      "cell_type": "code",
      "execution_count": 80,
      "metadata": {
        "id": "WLtSU4mXm4Rp"
      },
      "outputs": [],
      "source": [
        "punc=[punc for punc in string.punctuation]"
      ]
    },
    {
      "cell_type": "code",
      "execution_count": 81,
      "metadata": {
        "colab": {
          "base_uri": "https://localhost:8080/"
        },
        "id": "Ht4ZLTmlQhp9",
        "outputId": "64d09a49-e156-4445-ec4a-74f029deed94"
      },
      "outputs": [
        {
          "output_type": "execute_result",
          "data": {
            "text/plain": [
              "['!',\n",
              " '\"',\n",
              " '#',\n",
              " '$',\n",
              " '%',\n",
              " '&',\n",
              " \"'\",\n",
              " '(',\n",
              " ')',\n",
              " '*',\n",
              " '+',\n",
              " ',',\n",
              " '-',\n",
              " '.',\n",
              " '/',\n",
              " ':',\n",
              " ';',\n",
              " '<',\n",
              " '=',\n",
              " '>',\n",
              " '?',\n",
              " '@',\n",
              " '[',\n",
              " '\\\\',\n",
              " ']',\n",
              " '^',\n",
              " '_',\n",
              " '`',\n",
              " '{',\n",
              " '|',\n",
              " '}',\n",
              " '~']"
            ]
          },
          "metadata": {},
          "execution_count": 81
        }
      ],
      "source": [
        "punc"
      ]
    },
    {
      "cell_type": "code",
      "execution_count": 89,
      "metadata": {
        "id": "s1xGY76Fm4OB"
      },
      "outputs": [],
      "source": [
        "#importing stop words files that are provided\n",
        "StopWords_Auditor=pd.read_table(\"/content/drive/MyDrive/project/assignment/Data_Extraction_and_NLP TestAssignment/StopWords/StopWords_Auditor.txt\",header=None)\n",
        "StopWords_Currencies=pd.read_table(\"/content/drive/MyDrive/project/assignment/Data_Extraction_and_NLP TestAssignment/StopWords/StopWords_Currencies.txt\",header=None,encoding=\"ISO-8859-1\")\n",
        "StopWords_DatesandNumbers=pd.read_table(\"/content/drive/MyDrive/project/assignment/Data_Extraction_and_NLP TestAssignment/StopWords/StopWords_DatesandNumbers.txt\",header=None)\n",
        "StopWords_Generic=pd.read_table(\"/content/drive/MyDrive/project/assignment/Data_Extraction_and_NLP TestAssignment/StopWords/StopWords_Generic.txt\",header=None)\n",
        "StopWords_GenericLong=pd.read_table(\"/content/drive/MyDrive/project/assignment/Data_Extraction_and_NLP TestAssignment/StopWords/StopWords_GenericLong.txt\",header=None)\n",
        "StopWords_Geographic=pd.read_table(\"/content/drive/MyDrive/project/assignment/Data_Extraction_and_NLP TestAssignment/StopWords/StopWords_Geographic.txt\",header=None)\n",
        "StopWords_Names=pd.read_table(\"/content/drive/MyDrive/project/assignment/Data_Extraction_and_NLP TestAssignment/StopWords/StopWords_Names.txt\",header=None)\n"
      ]
    },
    {
      "cell_type": "code",
      "execution_count": 90,
      "metadata": {
        "id": "sX1qAALqm4Kz"
      },
      "outputs": [],
      "source": [
        "#creating func for removing stop words\n",
        "def text_process(text):\n",
        "    nopunc =[char for char in text if char not in punc or char not in [':',',','(',')','’','?']]\n",
        "    nopunc=''.join(nopunc)\n",
        "    txt=' '.join([word for word in nopunc.split() if word.lower() not in StopWords_Auditor])\n",
        "    txt1=' '.join([word for word in txt.split() if word.lower() not in StopWords_Currencies])\n",
        "    txt2=' '.join([word for word in txt1.split() if word.lower() not in StopWords_DatesandNumbers])\n",
        "    txt3=' '.join([word for word in txt2.split() if word.lower() not in StopWords_Generic])\n",
        "    txt4=' '.join([word for word in txt3.split() if word.lower() not in StopWords_GenericLong])\n",
        "    txt5=' '.join([word for word in txt4.split() if word.lower() not in StopWords_Geographic])\n",
        "    return ' '.join([word for word in txt5.split() if word.lower() not in StopWords_Names])\n"
      ]
    },
    {
      "cell_type": "code",
      "execution_count": 91,
      "metadata": {
        "id": "RH0fzgVym4H6"
      },
      "outputs": [],
      "source": [
        "#applying func for each row\n",
        "c['abc']=c['abc'].apply(text_process)"
      ]
    },
    {
      "cell_type": "code",
      "execution_count": 92,
      "metadata": {
        "colab": {
          "base_uri": "https://localhost:8080/",
          "height": 1000
        },
        "id": "0Nv3eVe7IahQ",
        "outputId": "b66747ef-a4ad-48a7-f184-0f73eaeb9aab"
      },
      "outputs": [
        {
          "output_type": "execute_result",
          "data": {
            "text/plain": [
              "                                                  abc\n",
              "0   How humans and machines are evolving to work t...\n",
              "1   In future or in upcoming years humans and mach...\n",
              "2   In upcoming days machines will be the need for...\n",
              "3   Machines [AI technology] will do the work whic...\n",
              "4    Machines will partner and co-operate with humans\n",
              "5   According to the professor at the university o...\n",
              "6   Human workers and machines will work together ...\n",
              "7   Machines will learn to carry out easier tasks ...\n",
              "8      They will also help the humans while difficult\n",
              "9   Machines or AI will create a great job opportu...\n",
              "10  John Kelly ll executive vice president of IBM ...\n",
              "11           So that their work becomes not difficult\n",
              "12  As of now we can only see that for agriculture...\n",
              "13  Some major technologies [machines] that are ha...\n",
              "14    As a result farms can do agriculture peacefully\n",
              "15  In the industrial sector also humans and machi...\n",
              "16  Various types of machines are used in industri...\n",
              "17  humans provide instructions to the machines an...\n",
              "18  Soon robots [machines] will assist doctors wit...\n",
              "19  For instance a doctor at remote location could...\n",
              "20  But the approaches option and decision will be...\n",
              "21  What do you think of machines if they will mak...\n",
              "22  As a result machines will make the workplace m...\n",
              "23  However humans have to learn new skills throug...\n",
              "24  It is said that in the future 80% of process-o...\n",
              "25  Quantitative reasoning tasks will be done appr...\n",
              "26  According to Harvard research machines algorit...\n",
              "27                 Humans can do it with 96% accuracy\n",
              "28                   Together it will be 99% accurate\n",
              "29  Human-machine collaboration enables companies ...\n",
              "30  Smart machines are helping humans to expand th...\n",
              "31  They can amplify our cognitive strengths; inte...\n",
              "32  In the research it was found that 1500 compani...\n",
              "33  New machine systems have beyond-human cognitiv...\n",
              "34  Machines will indeed automate most repetitive ...\n",
              "35  According to DE Shaw Group and professor at th...\n",
              "36  This is similar to how we couldn’t imagine a w...\n",
              "37  Machines are good at doing tasks with speed pr...\n",
              "38  But machines are not very good at responding t...\n",
              "39                   That part will be left to humans\n",
              "40  Hence the need for both humans and machines wi...\n",
              "41  Humans and machines have divergent skill sets ...\n",
              "42  Machines have already infiltrated every aspect...\n",
              "43  In the future human workers will interact more...\n",
              "44  Blackcoffer Insights 29 Vachika Sharma ANAND E..."
            ],
            "text/html": [
              "\n",
              "  <div id=\"df-6620ca23-b5da-4a5b-b3f4-22234da21e25\">\n",
              "    <div class=\"colab-df-container\">\n",
              "      <div>\n",
              "<style scoped>\n",
              "    .dataframe tbody tr th:only-of-type {\n",
              "        vertical-align: middle;\n",
              "    }\n",
              "\n",
              "    .dataframe tbody tr th {\n",
              "        vertical-align: top;\n",
              "    }\n",
              "\n",
              "    .dataframe thead th {\n",
              "        text-align: right;\n",
              "    }\n",
              "</style>\n",
              "<table border=\"1\" class=\"dataframe\">\n",
              "  <thead>\n",
              "    <tr style=\"text-align: right;\">\n",
              "      <th></th>\n",
              "      <th>abc</th>\n",
              "    </tr>\n",
              "  </thead>\n",
              "  <tbody>\n",
              "    <tr>\n",
              "      <th>0</th>\n",
              "      <td>How humans and machines are evolving to work t...</td>\n",
              "    </tr>\n",
              "    <tr>\n",
              "      <th>1</th>\n",
              "      <td>In future or in upcoming years humans and mach...</td>\n",
              "    </tr>\n",
              "    <tr>\n",
              "      <th>2</th>\n",
              "      <td>In upcoming days machines will be the need for...</td>\n",
              "    </tr>\n",
              "    <tr>\n",
              "      <th>3</th>\n",
              "      <td>Machines [AI technology] will do the work whic...</td>\n",
              "    </tr>\n",
              "    <tr>\n",
              "      <th>4</th>\n",
              "      <td>Machines will partner and co-operate with humans</td>\n",
              "    </tr>\n",
              "    <tr>\n",
              "      <th>5</th>\n",
              "      <td>According to the professor at the university o...</td>\n",
              "    </tr>\n",
              "    <tr>\n",
              "      <th>6</th>\n",
              "      <td>Human workers and machines will work together ...</td>\n",
              "    </tr>\n",
              "    <tr>\n",
              "      <th>7</th>\n",
              "      <td>Machines will learn to carry out easier tasks ...</td>\n",
              "    </tr>\n",
              "    <tr>\n",
              "      <th>8</th>\n",
              "      <td>They will also help the humans while difficult</td>\n",
              "    </tr>\n",
              "    <tr>\n",
              "      <th>9</th>\n",
              "      <td>Machines or AI will create a great job opportu...</td>\n",
              "    </tr>\n",
              "    <tr>\n",
              "      <th>10</th>\n",
              "      <td>John Kelly ll executive vice president of IBM ...</td>\n",
              "    </tr>\n",
              "    <tr>\n",
              "      <th>11</th>\n",
              "      <td>So that their work becomes not difficult</td>\n",
              "    </tr>\n",
              "    <tr>\n",
              "      <th>12</th>\n",
              "      <td>As of now we can only see that for agriculture...</td>\n",
              "    </tr>\n",
              "    <tr>\n",
              "      <th>13</th>\n",
              "      <td>Some major technologies [machines] that are ha...</td>\n",
              "    </tr>\n",
              "    <tr>\n",
              "      <th>14</th>\n",
              "      <td>As a result farms can do agriculture peacefully</td>\n",
              "    </tr>\n",
              "    <tr>\n",
              "      <th>15</th>\n",
              "      <td>In the industrial sector also humans and machi...</td>\n",
              "    </tr>\n",
              "    <tr>\n",
              "      <th>16</th>\n",
              "      <td>Various types of machines are used in industri...</td>\n",
              "    </tr>\n",
              "    <tr>\n",
              "      <th>17</th>\n",
              "      <td>humans provide instructions to the machines an...</td>\n",
              "    </tr>\n",
              "    <tr>\n",
              "      <th>18</th>\n",
              "      <td>Soon robots [machines] will assist doctors wit...</td>\n",
              "    </tr>\n",
              "    <tr>\n",
              "      <th>19</th>\n",
              "      <td>For instance a doctor at remote location could...</td>\n",
              "    </tr>\n",
              "    <tr>\n",
              "      <th>20</th>\n",
              "      <td>But the approaches option and decision will be...</td>\n",
              "    </tr>\n",
              "    <tr>\n",
              "      <th>21</th>\n",
              "      <td>What do you think of machines if they will mak...</td>\n",
              "    </tr>\n",
              "    <tr>\n",
              "      <th>22</th>\n",
              "      <td>As a result machines will make the workplace m...</td>\n",
              "    </tr>\n",
              "    <tr>\n",
              "      <th>23</th>\n",
              "      <td>However humans have to learn new skills throug...</td>\n",
              "    </tr>\n",
              "    <tr>\n",
              "      <th>24</th>\n",
              "      <td>It is said that in the future 80% of process-o...</td>\n",
              "    </tr>\n",
              "    <tr>\n",
              "      <th>25</th>\n",
              "      <td>Quantitative reasoning tasks will be done appr...</td>\n",
              "    </tr>\n",
              "    <tr>\n",
              "      <th>26</th>\n",
              "      <td>According to Harvard research machines algorit...</td>\n",
              "    </tr>\n",
              "    <tr>\n",
              "      <th>27</th>\n",
              "      <td>Humans can do it with 96% accuracy</td>\n",
              "    </tr>\n",
              "    <tr>\n",
              "      <th>28</th>\n",
              "      <td>Together it will be 99% accurate</td>\n",
              "    </tr>\n",
              "    <tr>\n",
              "      <th>29</th>\n",
              "      <td>Human-machine collaboration enables companies ...</td>\n",
              "    </tr>\n",
              "    <tr>\n",
              "      <th>30</th>\n",
              "      <td>Smart machines are helping humans to expand th...</td>\n",
              "    </tr>\n",
              "    <tr>\n",
              "      <th>31</th>\n",
              "      <td>They can amplify our cognitive strengths; inte...</td>\n",
              "    </tr>\n",
              "    <tr>\n",
              "      <th>32</th>\n",
              "      <td>In the research it was found that 1500 compani...</td>\n",
              "    </tr>\n",
              "    <tr>\n",
              "      <th>33</th>\n",
              "      <td>New machine systems have beyond-human cognitiv...</td>\n",
              "    </tr>\n",
              "    <tr>\n",
              "      <th>34</th>\n",
              "      <td>Machines will indeed automate most repetitive ...</td>\n",
              "    </tr>\n",
              "    <tr>\n",
              "      <th>35</th>\n",
              "      <td>According to DE Shaw Group and professor at th...</td>\n",
              "    </tr>\n",
              "    <tr>\n",
              "      <th>36</th>\n",
              "      <td>This is similar to how we couldn’t imagine a w...</td>\n",
              "    </tr>\n",
              "    <tr>\n",
              "      <th>37</th>\n",
              "      <td>Machines are good at doing tasks with speed pr...</td>\n",
              "    </tr>\n",
              "    <tr>\n",
              "      <th>38</th>\n",
              "      <td>But machines are not very good at responding t...</td>\n",
              "    </tr>\n",
              "    <tr>\n",
              "      <th>39</th>\n",
              "      <td>That part will be left to humans</td>\n",
              "    </tr>\n",
              "    <tr>\n",
              "      <th>40</th>\n",
              "      <td>Hence the need for both humans and machines wi...</td>\n",
              "    </tr>\n",
              "    <tr>\n",
              "      <th>41</th>\n",
              "      <td>Humans and machines have divergent skill sets ...</td>\n",
              "    </tr>\n",
              "    <tr>\n",
              "      <th>42</th>\n",
              "      <td>Machines have already infiltrated every aspect...</td>\n",
              "    </tr>\n",
              "    <tr>\n",
              "      <th>43</th>\n",
              "      <td>In the future human workers will interact more...</td>\n",
              "    </tr>\n",
              "    <tr>\n",
              "      <th>44</th>\n",
              "      <td>Blackcoffer Insights 29 Vachika Sharma ANAND E...</td>\n",
              "    </tr>\n",
              "  </tbody>\n",
              "</table>\n",
              "</div>\n",
              "      <button class=\"colab-df-convert\" onclick=\"convertToInteractive('df-6620ca23-b5da-4a5b-b3f4-22234da21e25')\"\n",
              "              title=\"Convert this dataframe to an interactive table.\"\n",
              "              style=\"display:none;\">\n",
              "        \n",
              "  <svg xmlns=\"http://www.w3.org/2000/svg\" height=\"24px\"viewBox=\"0 0 24 24\"\n",
              "       width=\"24px\">\n",
              "    <path d=\"M0 0h24v24H0V0z\" fill=\"none\"/>\n",
              "    <path d=\"M18.56 5.44l.94 2.06.94-2.06 2.06-.94-2.06-.94-.94-2.06-.94 2.06-2.06.94zm-11 1L8.5 8.5l.94-2.06 2.06-.94-2.06-.94L8.5 2.5l-.94 2.06-2.06.94zm10 10l.94 2.06.94-2.06 2.06-.94-2.06-.94-.94-2.06-.94 2.06-2.06.94z\"/><path d=\"M17.41 7.96l-1.37-1.37c-.4-.4-.92-.59-1.43-.59-.52 0-1.04.2-1.43.59L10.3 9.45l-7.72 7.72c-.78.78-.78 2.05 0 2.83L4 21.41c.39.39.9.59 1.41.59.51 0 1.02-.2 1.41-.59l7.78-7.78 2.81-2.81c.8-.78.8-2.07 0-2.86zM5.41 20L4 18.59l7.72-7.72 1.47 1.35L5.41 20z\"/>\n",
              "  </svg>\n",
              "      </button>\n",
              "      \n",
              "  <style>\n",
              "    .colab-df-container {\n",
              "      display:flex;\n",
              "      flex-wrap:wrap;\n",
              "      gap: 12px;\n",
              "    }\n",
              "\n",
              "    .colab-df-convert {\n",
              "      background-color: #E8F0FE;\n",
              "      border: none;\n",
              "      border-radius: 50%;\n",
              "      cursor: pointer;\n",
              "      display: none;\n",
              "      fill: #1967D2;\n",
              "      height: 32px;\n",
              "      padding: 0 0 0 0;\n",
              "      width: 32px;\n",
              "    }\n",
              "\n",
              "    .colab-df-convert:hover {\n",
              "      background-color: #E2EBFA;\n",
              "      box-shadow: 0px 1px 2px rgba(60, 64, 67, 0.3), 0px 1px 3px 1px rgba(60, 64, 67, 0.15);\n",
              "      fill: #174EA6;\n",
              "    }\n",
              "\n",
              "    [theme=dark] .colab-df-convert {\n",
              "      background-color: #3B4455;\n",
              "      fill: #D2E3FC;\n",
              "    }\n",
              "\n",
              "    [theme=dark] .colab-df-convert:hover {\n",
              "      background-color: #434B5C;\n",
              "      box-shadow: 0px 1px 3px 1px rgba(0, 0, 0, 0.15);\n",
              "      filter: drop-shadow(0px 1px 2px rgba(0, 0, 0, 0.3));\n",
              "      fill: #FFFFFF;\n",
              "    }\n",
              "  </style>\n",
              "\n",
              "      <script>\n",
              "        const buttonEl =\n",
              "          document.querySelector('#df-6620ca23-b5da-4a5b-b3f4-22234da21e25 button.colab-df-convert');\n",
              "        buttonEl.style.display =\n",
              "          google.colab.kernel.accessAllowed ? 'block' : 'none';\n",
              "\n",
              "        async function convertToInteractive(key) {\n",
              "          const element = document.querySelector('#df-6620ca23-b5da-4a5b-b3f4-22234da21e25');\n",
              "          const dataTable =\n",
              "            await google.colab.kernel.invokeFunction('convertToInteractive',\n",
              "                                                     [key], {});\n",
              "          if (!dataTable) return;\n",
              "\n",
              "          const docLinkHtml = 'Like what you see? Visit the ' +\n",
              "            '<a target=\"_blank\" href=https://colab.research.google.com/notebooks/data_table.ipynb>data table notebook</a>'\n",
              "            + ' to learn more about interactive tables.';\n",
              "          element.innerHTML = '';\n",
              "          dataTable['output_type'] = 'display_data';\n",
              "          await google.colab.output.renderOutput(dataTable, element);\n",
              "          const docLink = document.createElement('div');\n",
              "          docLink.innerHTML = docLinkHtml;\n",
              "          element.appendChild(docLink);\n",
              "        }\n",
              "      </script>\n",
              "    </div>\n",
              "  </div>\n",
              "  "
            ]
          },
          "metadata": {},
          "execution_count": 92
        }
      ],
      "source": [
        "c"
      ]
    },
    {
      "cell_type": "code",
      "execution_count": 94,
      "metadata": {
        "id": "s-ccXyf4IaeY"
      },
      "outputs": [],
      "source": [
        "#importing master Dictionary\n",
        "positive=pd.read_table(\"/content/drive/MyDrive/project/assignment/Data_Extraction_and_NLP TestAssignment/MasterDictionary/positive-words.txt\",header=None)\n",
        "negative=pd.read_table(\"/content/drive/MyDrive/project/assignment/Data_Extraction_and_NLP TestAssignment/MasterDictionary/negative-words.txt\",header=None,encoding=\"ISO-8859-1\")\n"
      ]
    },
    {
      "cell_type": "code",
      "execution_count": 95,
      "metadata": {
        "id": "jKpEw9KuH8vh"
      },
      "outputs": [],
      "source": [
        "positive.columns=['abc']\n",
        "negative.columns=['abc']\n",
        "positive['abc']=positive['abc'].astype(str)\n",
        "negative['abc']=negative['abc'].astype(str)"
      ]
    },
    {
      "cell_type": "code",
      "execution_count": 96,
      "metadata": {
        "id": "Cit_gYSDSm6p"
      },
      "outputs": [],
      "source": [
        "#positive and negative dictionary without stopwords\n",
        "positive['abc']=positive['abc'].apply(text_process)\n",
        "negative['abc']=negative['abc'].apply(text_process)"
      ]
    },
    {
      "cell_type": "code",
      "execution_count": 97,
      "metadata": {
        "id": "9BZR-CHpVIwx"
      },
      "outputs": [],
      "source": [
        "#positive list\n",
        "length=positive.shape[0]\n",
        "post=[]\n",
        "for i in range(0,length):\n",
        "   nopunc =[char for char in positive.iloc[i] if char not in string.punctuation or char != '+']\n",
        "   nopunc=''.join(nopunc)\n",
        "\n",
        "   post.append(nopunc)"
      ]
    },
    {
      "cell_type": "code",
      "execution_count": 98,
      "metadata": {
        "id": "RDz17VIAPp8Q"
      },
      "outputs": [],
      "source": [
        "#negative list\n",
        "length=negative.shape[0]\n",
        "neg=[]\n",
        "for i in range(0,length):\n",
        "  nopunc =[char for char in negative.iloc[i] if char not in string.punctuation or char != '+']\n",
        "  nopunc=''.join(nopunc)\n",
        "  neg.append(nopunc)"
      ]
    },
    {
      "cell_type": "code",
      "execution_count": 99,
      "metadata": {
        "id": "sQ4IRcm1RseT"
      },
      "outputs": [],
      "source": [
        "#importing tokenize library\n",
        "from nltk.tokenize import word_tokenize"
      ]
    },
    {
      "cell_type": "code",
      "execution_count": 100,
      "metadata": {
        "id": "ovZ18CdBN2-i"
      },
      "outputs": [],
      "source": [
        "txt_list=[]\n",
        "length=c.shape[0]\n",
        "for i in range(0,length):\n",
        "  txt=' '.join([word for word in c.iloc[i]])\n",
        "  txt_list.append(txt)"
      ]
    },
    {
      "cell_type": "code",
      "execution_count": 101,
      "metadata": {
        "id": "9Uk7eZZwSaYh"
      },
      "outputs": [],
      "source": [
        "#tokenization of text\n",
        "tokenize_text=[]\n",
        "for i in txt_list:\n",
        "  \n",
        "  tokenize_text+=(word_tokenize(i))"
      ]
    },
    {
      "cell_type": "code",
      "execution_count": 102,
      "metadata": {
        "colab": {
          "base_uri": "https://localhost:8080/"
        },
        "id": "0nAoWCr5fsZz",
        "outputId": "84828729-233c-4272-9aa5-c6dd894d68e8"
      },
      "outputs": [
        {
          "output_type": "stream",
          "name": "stdout",
          "text": [
            "['How', 'humans', 'and', 'machines', 'are', 'evolving', 'to', 'work', 'together', 'In', 'future', 'or', 'in', 'upcoming', 'years', 'humans', 'and', 'machines', 'are', 'going', 'to', 'work', 'together', 'in', 'every', 'field', 'of', 'work', 'In', 'upcoming', 'days', 'machines', 'will', 'be', 'the', 'need', 'for', 'every', 'human', 'being', 'Machines', '[', 'AI', 'technology', ']', 'will', 'do', 'the', 'work', 'which', 'humans', 'are', 'incapable', 'of', 'doing', 'Machines', 'will', 'partner', 'and', 'co-operate', 'with', 'humans', 'According', 'to', 'the', 'professor', 'at', 'the', 'university', 'of', 'Washington', 'he', 'explained', 'that', 'as', 'a', 'result', 'of', 'AI', 'there', 'will', 'be', 'more', 'demand', 'for', 'existing', 'jobs', 'and', 'new', 'jobs', 'will', 'be', 'created', 'that', 'are', 'unimaginable', 'today', 'Human', 'workers', 'and', 'machines', 'will', 'work', 'together', 'flawlessly', 'complementing', 'each', 'other', 'Machines', 'will', 'learn', 'to', 'carry', 'out', 'easier', 'tasks', 'such', 'as', 'following', 'processes', 'or', 'crunching', 'data', 'They', 'will', 'also', 'help', 'the', 'humans', 'while', 'difficult', 'Machines', 'or', 'AI', 'will', 'create', 'a', 'great', 'job', 'opportunities', 'for', 'humans', 'in', 'future', 'John', 'Kelly', 'll', 'executive', 'vice', 'president', 'of', 'IBM', 'once', 'said', 'that', '“', 'Man', 'and', 'Machines', 'working', 'together', 'always', 'beat', 'or', 'make', 'a', 'better', 'decision', 'than', 'a', 'man', 'or', 'a', 'machine', 'independently', '”', 'In', 'future', 'the', 'three', 'sectors', 'of', 'our', 'country', 'like', 'agriculture', 'sector', 'industrial', 'sector', 'and', 'service', 'sector', 'are', 'going', 'to', 'utilize', 'the', 'machines', 'So', 'that', 'their', 'work', 'becomes', 'not', 'difficult', 'As', 'of', 'now', 'we', 'can', 'only', 'see', 'that', 'for', 'agriculture', 'purposes', 'various', 'kinds', 'of', 'machines', 'are', 'used', 'which', 'we', 'called', 'as', 'a', 'modern', 'farming', 'method', 'Some', 'major', 'technologies', '[', 'machines', ']', 'that', 'are', 'harvest', 'automation', 'autonomous', 'tractors', 'seeding', 'and', 'weeing', 'and', 'drones', 'As', 'a', 'result', 'farms', 'can', 'do', 'agriculture', 'peacefully', 'In', 'the', 'industrial', 'sector', 'also', 'humans', 'and', 'machines', 'are', 'working', 'together', 'to', 'increase', 'production', 'Various', 'types', 'of', 'machines', 'are', 'used', 'in', 'industries', 'such', 'as', 'packing', 'machines', 'loading', 'machine', 'etc', 'humans', 'provide', 'instructions', 'to', 'the', 'machines', 'and', 'maintain', 'the', 'management', 'in', 'the', 'company', 'Soon', 'robots', '[', 'machines', ']', 'will', 'assist', 'doctors', 'with', 'surgeries', 'For', 'instance', 'a', 'doctor', 'at', 'remote', 'location', 'could', 'direct', 'a', 'surgical', 'robot', 'to', 'perform', 'an', 'open', 'heart', 'surgery', 'But', 'the', 'approaches', 'option', 'and', 'decision', 'will', 'be', 'left', 'to', 'experience', 'and', 'wisdom', 'of', 'the', 'doctor', 'not', 'the', 'robot', 'What', 'do', 'you', 'think', 'of', 'machines', 'if', 'they', 'will', 'make', 'humans', 'less', 'or', 'more', 'in', 'the', 'field', 'Machines', 'will', 'push', 'human', 'professionals', 'up', 'the', 'skillset', 'ladder', 'into', 'uniquely', 'human', 'skills', 'such', 'as', 'creativity', 'social', 'abilities', 'empathy', 'and', 'sense-making', 'which', 'machines', 'can', 'not', 'automate', 'As', 'a', 'result', 'machines', 'will', 'make', 'the', 'workplace', 'more', 'not', 'less', 'for', 'humans', 'However', 'humans', 'have', 'to', 'learn', 'new', 'skills', 'throughout', 'their', 'lives', 'It', 'is', 'said', 'that', 'in', 'the', 'future', '80', '%', 'of', 'process-oriented', 'tasks', 'will', 'be', 'done', 'by', 'machines', 'Quantitative', 'reasoning', 'tasks', 'will', 'be', 'done', 'approximately', '50', '%', 'by', 'humans', 'and', '50', '%', 'by', 'machines', 'while', 'humans', 'will', 'continue', 'to', 'do', 'more', 'than', '80', '%', 'of', 'cross-functional', 'reasoning', 'tasks', 'According', 'to', 'Harvard', 'research', 'machines', 'algorithms', 'can', 'read', 'diagnostic', 'scans', 'with', '92', '%', 'accuracy', 'Humans', 'can', 'do', 'it', 'with', '96', '%', 'accuracy', 'Together', 'it', 'will', 'be', '99', '%', 'accurate', 'Human-machine', 'collaboration', 'enables', 'companies', 'to', 'interact', 'with', 'employees', 'and', 'customers', 'in', 'the', 'novel', 'more', 'effective', 'ways', 'Smart', 'machines', 'are', 'helping', 'humans', 'to', 'expand', 'their', 'abilities', 'in', 'three', 'ways', 'They', 'can', 'amplify', 'our', 'cognitive', 'strengths', ';', 'interact', 'with', 'customers', 'and', 'employees', 'to', 'free', 'us', 'from', 'higher-level', 'tasks', 'and', 'embody', 'human', 'skills', 'to', 'extend', 'our', 'physical', 'capabilities', 'In', 'the', 'research', 'it', 'was', 'found', 'that', '1500', 'companies', 'achieve', 'the', 'most', 'significant', 'performance', 'improvement', 'when', 'humans', 'and', 'machines', 'work', 'together', 'New', 'machine', 'systems', 'have', 'beyond-human', 'cognitive', 'abilities', 'which', 'many', 'of', 'us', 'fear', 'could', 'potentially', 'dehumanize', 'the', 'future', 'of', 'work', 'Machines', 'will', 'indeed', 'automate', 'most', 'repetitive', 'and', 'physical', 'tasks', 'and', 'part', 'of', 'quantitative', 'tasks', 'such', 'as', 'programming', 'and', 'even', 'data', 'science', 'According', 'to', 'DE', 'Shaw', 'Group', 'and', 'professor', 'at', 'the', 'University', 'of', 'Washington', 'explained', 'that', 'as', 'a', 'result', 'of', 'machines', 'there', 'will', 'be', 'more', 'demand', 'for', 'existing', 'jobs', 'and', 'new', 'jobs', 'will', 'be', 'created', 'that', 'are', 'unimaginable', 'today', 'This', 'is', 'similar', 'to', 'how', 'we', 'couldn', '’', 't', 'imagine', 'a', 'web', 'app', 'developer', 'decades', 'ago', 'and', 'now', 'millions', 'make', 'a', 'living', 'doing', 'that', 'today', 'Machines', 'are', 'good', 'at', 'doing', 'tasks', 'with', 'speed', 'precision', 'and', 'accuracy', 'But', 'machines', 'are', 'not', 'very', 'good', 'at', 'responding', 'to', 'unknown', 'situations', 'or', 'making', 'judgments', 'That', 'part', 'will', 'be', 'left', 'to', 'humans', 'Hence', 'the', 'need', 'for', 'both', 'humans', 'and', 'machines', 'will', 'be', 'there', 'in', 'the', 'future', 'Humans', 'and', 'machines', 'have', 'divergent', 'skill', 'sets', 'that', 'when', 'combined', 'can', 'transform', 'the', 'way', 'we', 'work', 'Machines', 'have', 'already', 'infiltrated', 'every', 'aspect', 'of', 'our', 'lives', 'and', 'we', 'must', 'learn', 'to', 'live', 'with', 'them', 'In', 'the', 'future', 'human', 'workers', 'will', 'interact', 'more', 'closely', 'with', 'humans', 'Blackcoffer', 'Insights', '29', 'Vachika', 'Sharma', 'ANAND', 'ENGLISH', 'MEDIUM', 'SCHOOL']\n"
          ]
        }
      ],
      "source": [
        "print(tokenize_text)"
      ]
    },
    {
      "cell_type": "code",
      "execution_count": 103,
      "metadata": {
        "colab": {
          "base_uri": "https://localhost:8080/"
        },
        "id": "2U5HOJqTT8j7",
        "outputId": "a59ece87-1ed8-48f0-d884-6cdf53cc1394"
      },
      "outputs": [
        {
          "output_type": "execute_result",
          "data": {
            "text/plain": [
              "763"
            ]
          },
          "metadata": {},
          "execution_count": 103
        }
      ],
      "source": [
        "len(tokenize_text)"
      ]
    },
    {
      "cell_type": "markdown",
      "metadata": {
        "id": "LEV13sFhOtdZ"
      },
      "source": [
        "### 1) POSITIVE SCORE"
      ]
    },
    {
      "cell_type": "code",
      "execution_count": 104,
      "metadata": {
        "colab": {
          "base_uri": "https://localhost:8080/"
        },
        "id": "PFskHGo4hH-D",
        "outputId": "a1487f79-396f-4f00-c7fd-bbdccae66022"
      },
      "outputs": [
        {
          "output_type": "stream",
          "name": "stdout",
          "text": [
            "postive score= 29\n"
          ]
        }
      ],
      "source": [
        "positive_score=0\n",
        "for i in tokenize_text:\n",
        "  if(i.lower() in post):\n",
        "    positive_score+=1\n",
        "print('postive score=', positive_score)"
      ]
    },
    {
      "cell_type": "markdown",
      "metadata": {
        "id": "TbnTPNmaPFZY"
      },
      "source": [
        "### 2) NEGATIVE SCORE"
      ]
    },
    {
      "cell_type": "code",
      "execution_count": 105,
      "metadata": {
        "colab": {
          "base_uri": "https://localhost:8080/"
        },
        "id": "NW-BmJrrLITJ",
        "outputId": "3fdce849-91d1-4630-8b43-231de77cb6a4"
      },
      "outputs": [
        {
          "output_type": "stream",
          "name": "stdout",
          "text": [
            "negative score= 12\n"
          ]
        }
      ],
      "source": [
        "negative_score=0\n",
        "for i in tokenize_text:\n",
        "  if(i.lower() in neg):\n",
        "    negative_score+=1\n",
        "print('negative score=', negative_score)"
      ]
    },
    {
      "cell_type": "markdown",
      "metadata": {
        "id": "nOzdsFrmPs0Q"
      },
      "source": [
        "### 3) POLARITY SCORE"
      ]
    },
    {
      "cell_type": "code",
      "execution_count": 106,
      "metadata": {
        "colab": {
          "base_uri": "https://localhost:8080/"
        },
        "id": "9dpYkSQ2hH3s",
        "outputId": "76228860-c161-4056-ac31-03adccfe66c6"
      },
      "outputs": [
        {
          "output_type": "stream",
          "name": "stdout",
          "text": [
            "polarity_score= 0.4146341362284357\n"
          ]
        }
      ],
      "source": [
        "#Polarity Score = (Positive Score – Negative Score)/ ((Positive Score + Negative Score) + 0.000001)\n",
        "Polarity_Score=(positive_score-negative_score)/((positive_score+negative_score)+0.000001)\n",
        "print('polarity_score=', Polarity_Score)"
      ]
    },
    {
      "cell_type": "markdown",
      "metadata": {
        "id": "ROhnqKrnSLtv"
      },
      "source": [
        "### 4) SUBJECTIVITY SCORE"
      ]
    },
    {
      "cell_type": "code",
      "execution_count": 107,
      "metadata": {
        "colab": {
          "base_uri": "https://localhost:8080/"
        },
        "id": "FWLTdqkgSMBM",
        "outputId": "ed909cf4-d1c4-498e-cacf-49d44987b0f4"
      },
      "outputs": [
        {
          "output_type": "stream",
          "name": "stdout",
          "text": [
            "subjectivity_score 0.022280471792555084\n"
          ]
        }
      ],
      "source": [
        "#Subjectivity Score = (Positive Score + Negative Score)/ ((Total Words after cleaning) + 0.000001)\n",
        "subjectiivity_score=(positive_score-negative_score)/((len(tokenize_text))+ 0.000001)\n",
        "print('subjectivity_score',subjectiivity_score)"
      ]
    },
    {
      "cell_type": "markdown",
      "metadata": {
        "id": "9TQxzV5EU1rz"
      },
      "source": [
        "### 5) AVG SENTENCE LENGTH"
      ]
    },
    {
      "cell_type": "code",
      "execution_count": 108,
      "metadata": {
        "colab": {
          "base_uri": "https://localhost:8080/"
        },
        "id": "2yKBk8AzULAh",
        "outputId": "177eed4f-60b2-4e83-9b52-9dfd7a4cc709"
      },
      "outputs": [
        {
          "output_type": "stream",
          "name": "stdout",
          "text": [
            "avg sentence length= 99.84444444444445\n"
          ]
        }
      ],
      "source": [
        "length=c.shape[0]\n",
        "avg_length=[]\n",
        "for i in range(0,length):\n",
        "  avg_length.append(len(c['abc'].iloc[i]))\n",
        "avg_senetence_length=sum(avg_length)/len(avg_length)\n",
        "print('avg sentence length=', avg_senetence_length)"
      ]
    },
    {
      "cell_type": "markdown",
      "metadata": {
        "id": "90O5o3FHa0Ql"
      },
      "source": [
        "### 6) PERCENTAGE OF COMPLEX WORDS"
      ]
    },
    {
      "cell_type": "code",
      "execution_count": 109,
      "metadata": {
        "id": "9Wx95gemUK9X"
      },
      "outputs": [],
      "source": [
        "vowels=['a','e','i','o','u']\n",
        "import re\n",
        "count=0\n",
        "complex_Word_Count=0\n",
        "for i in tokenize_text:\n",
        "  x=re.compile('[es|ed]$')\n",
        "  if x.match(i.lower()):\n",
        "   count+=0\n",
        "  else:\n",
        "    for j in i:\n",
        "      if(j.lower() in vowels ):\n",
        "        count+=1\n",
        "  if(count>2):\n",
        "   complex_Word_Count+=1\n",
        "  count=0\n"
      ]
    },
    {
      "cell_type": "code",
      "execution_count": 110,
      "metadata": {
        "colab": {
          "base_uri": "https://localhost:8080/"
        },
        "id": "4KfZE9shUK6H",
        "outputId": "bf315b35-9e4d-4809-dcc0-1cdeb120f597"
      },
      "outputs": [
        {
          "output_type": "stream",
          "name": "stdout",
          "text": [
            "percentag of complex words=  0.2503276539973788\n"
          ]
        }
      ],
      "source": [
        "Percentage_of_Complex_words=complex_Word_Count/len(tokenize_text)\n",
        "print('percentag of complex words= ',Percentage_of_Complex_words)"
      ]
    },
    {
      "cell_type": "markdown",
      "metadata": {
        "id": "wSn_zCTlgMTF"
      },
      "source": [
        "### 7) FOG INDEX"
      ]
    },
    {
      "cell_type": "code",
      "execution_count": 111,
      "metadata": {
        "colab": {
          "base_uri": "https://localhost:8080/"
        },
        "id": "xd_zHORCflz8",
        "outputId": "1a463964-bd92-42a3-8cc5-ec63871d2c88"
      },
      "outputs": [
        {
          "output_type": "stream",
          "name": "stdout",
          "text": [
            "fog index=  40.03790883937673\n"
          ]
        }
      ],
      "source": [
        "#Fog Index = 0.4 * (Average Sentence Length + Percentage of Complex words)\n",
        "Fog_Index = 0.4 * (avg_senetence_length + Percentage_of_Complex_words)\n",
        "print('fog index= ',Fog_Index )"
      ]
    },
    {
      "cell_type": "markdown",
      "metadata": {
        "id": "z6tbgChOg0MT"
      },
      "source": [
        "### 8) AVG NUMBER OF WORDS PER SENTENCE"
      ]
    },
    {
      "cell_type": "code",
      "execution_count": 112,
      "metadata": {
        "colab": {
          "base_uri": "https://localhost:8080/"
        },
        "id": "2NjRGOeWh3ih",
        "outputId": "93c59fad-c4ea-4dda-c3d0-bfbab215aef4"
      },
      "outputs": [
        {
          "output_type": "stream",
          "name": "stdout",
          "text": [
            "avg no of words per sentence=  16.533333333333335\n"
          ]
        }
      ],
      "source": [
        "length=c.shape[0]\n",
        "avg_length=[]\n",
        "for i in range(0,length):\n",
        "  a=[word.split( ) for word in c.iloc[i]]\n",
        "  avg_length.append(len(a[0]))\n",
        "  a=0\n",
        "#avg\n",
        "avg_no_of_words_per_sentence=sum(avg_length)/length\n",
        "print(\"avg no of words per sentence= \",avg_no_of_words_per_sentence)"
      ]
    },
    {
      "cell_type": "markdown",
      "metadata": {
        "id": "0gERUJr_lR4L"
      },
      "source": [
        "### 9) COMPLEX WORD COUNT"
      ]
    },
    {
      "cell_type": "code",
      "execution_count": 113,
      "metadata": {
        "colab": {
          "base_uri": "https://localhost:8080/"
        },
        "id": "zuNyk0f0h3gG",
        "outputId": "7b47487f-09ad-4c08-a504-3b9ed84fa29e"
      },
      "outputs": [
        {
          "output_type": "stream",
          "name": "stdout",
          "text": [
            "complex words count= 191\n"
          ]
        }
      ],
      "source": [
        "vowels=['a','e','i','o','u']\n",
        "import re\n",
        "count=0\n",
        "complex_Word_Count=0\n",
        "for i in tokenize_text:\n",
        "  x=re.compile('[es|ed]$')\n",
        "  if x.match(i.lower()):\n",
        "   count+=0\n",
        "  else:\n",
        "    for j in i:\n",
        "      if(j.lower() in vowels ):\n",
        "        count+=1\n",
        "  if(count>2):\n",
        "   complex_Word_Count+=1\n",
        "  count=0\n",
        "print('complex words count=',  complex_Word_Count)"
      ]
    },
    {
      "cell_type": "markdown",
      "metadata": {
        "id": "EDbM2keclqrj"
      },
      "source": [
        "### 10) WORD COUNT"
      ]
    },
    {
      "cell_type": "code",
      "execution_count": 114,
      "metadata": {
        "colab": {
          "base_uri": "https://localhost:8080/"
        },
        "id": "5mwte9rch3c7",
        "outputId": "ed3e296a-45c5-4a21-d19f-f34f124c8a5e"
      },
      "outputs": [
        {
          "output_type": "stream",
          "name": "stdout",
          "text": [
            "word count=  763\n"
          ]
        }
      ],
      "source": [
        "word_count=len(tokenize_text)\n",
        "print('word count= ', word_count)"
      ]
    },
    {
      "cell_type": "markdown",
      "metadata": {
        "id": "zfqS5QdcmAdK"
      },
      "source": [
        "### 11) SYLLABLE PER WORD"
      ]
    },
    {
      "cell_type": "code",
      "execution_count": 115,
      "metadata": {
        "colab": {
          "base_uri": "https://localhost:8080/"
        },
        "id": "CDgf9sz1h3aL",
        "outputId": "0cb8047c-d9fe-4fa1-85ce-24700ed3f1fd"
      },
      "outputs": [
        {
          "output_type": "stream",
          "name": "stdout",
          "text": [
            "syllable_per_word=  1433\n"
          ]
        }
      ],
      "source": [
        "vowels=['a','e','i','o','u']\n",
        "import re\n",
        "count=0\n",
        "for i in tokenize_text:\n",
        "  x=re.compile('[es|ed]$')\n",
        "  if x.match(i.lower()):\n",
        "   count+=0\n",
        "  else:\n",
        "    for j in i:\n",
        "      if(j.lower() in vowels ):\n",
        "        count+=1\n",
        "syllable_count=count\n",
        "print('syllable_per_word= ',syllable_count)"
      ]
    },
    {
      "cell_type": "markdown",
      "metadata": {
        "id": "BcBCr8CtmuoS"
      },
      "source": [
        "### 12) PERSONAL PRONOUNS"
      ]
    },
    {
      "cell_type": "code",
      "execution_count": 116,
      "metadata": {
        "colab": {
          "base_uri": "https://localhost:8080/"
        },
        "id": "aeRcGapymu-D",
        "outputId": "dd0b171f-661f-4b30-88cd-9b10c51794dd"
      },
      "outputs": [
        {
          "output_type": "stream",
          "name": "stdout",
          "text": [
            "personal pronouns=  7\n"
          ]
        }
      ],
      "source": [
        "pronouns=['i','we','my','ours','us' ]\n",
        "import re\n",
        "count=0\n",
        "for i in tokenize_text:\n",
        "  if i.lower() in pronouns:\n",
        "   count+=1\n",
        "personal_pronouns=count\n",
        "print('personal pronouns= ',personal_pronouns )"
      ]
    },
    {
      "cell_type": "markdown",
      "metadata": {
        "id": "-uWlAk9roY5y"
      },
      "source": [
        "### 13) AVG WORD LENGTH"
      ]
    },
    {
      "cell_type": "code",
      "execution_count": 117,
      "metadata": {
        "colab": {
          "base_uri": "https://localhost:8080/"
        },
        "id": "EZzeKglfn225",
        "outputId": "1c912378-89df-49ee-87b4-67e3934dd5f2"
      },
      "outputs": [
        {
          "output_type": "stream",
          "name": "stdout",
          "text": [
            "avg word=  4.972477064220183\n"
          ]
        }
      ],
      "source": [
        "count=0\n",
        "for i in tokenize_text:\n",
        "  for j in i:\n",
        "    count+=1\n",
        "avg_word_length=count/len(tokenize_text)\n",
        "print('avg word= ', avg_word_length)"
      ]
    },
    {
      "cell_type": "code",
      "execution_count": 118,
      "metadata": {
        "id": "QGa8kMJ9pyha"
      },
      "outputs": [],
      "source": [
        "data={'positive_score':positive_score,'negative_score':negative_score,'Polarity_Score':Polarity_Score,'subjectiivity_score':subjectiivity_score,'avg_senetence_length':avg_senetence_length,'Percentage_of_Complex_words':Percentage_of_Complex_words,'Fog_Index':Fog_Index,'avg_no_of_words_per_sentence':avg_no_of_words_per_sentence,'complex_Word_Count':complex_Word_Count,'word_count':word_count,'syllable_count':syllable_count,'personal_pronouns':personal_pronouns,'avg_word_length':avg_word_length}"
      ]
    },
    {
      "cell_type": "code",
      "execution_count": 120,
      "metadata": {
        "colab": {
          "base_uri": "https://localhost:8080/",
          "height": 179
        },
        "id": "DXp7kF2FExVD",
        "outputId": "20a8ebbd-c5db-4ad6-ebe2-a8008a2b73af"
      },
      "outputs": [
        {
          "output_type": "stream",
          "name": "stderr",
          "text": [
            "<ipython-input-120-6e3643a28812>:2: FutureWarning: The frame.append method is deprecated and will be removed from pandas in a future version. Use pandas.concat instead.\n",
            "  output=output.append(data,ignore_index=True)\n"
          ]
        },
        {
          "output_type": "execute_result",
          "data": {
            "text/plain": [
              "   positive_score  negative_score  Polarity_Score  subjectiivity_score  \\\n",
              "0            29.0            12.0        0.414634              0.02228   \n",
              "\n",
              "   avg_senetence_length  Percentage_of_Complex_words  Fog_Index  \\\n",
              "0             99.844444                     0.250328  40.037909   \n",
              "\n",
              "   avg_no_of_words_per_sentence  complex_Word_Count  word_count  \\\n",
              "0                     16.533333               191.0       763.0   \n",
              "\n",
              "   syllable_count  personal_pronouns  avg_word_length  \n",
              "0          1433.0                7.0         4.972477  "
            ],
            "text/html": [
              "\n",
              "  <div id=\"df-fa068753-eaf8-4896-8fff-548bb973c977\">\n",
              "    <div class=\"colab-df-container\">\n",
              "      <div>\n",
              "<style scoped>\n",
              "    .dataframe tbody tr th:only-of-type {\n",
              "        vertical-align: middle;\n",
              "    }\n",
              "\n",
              "    .dataframe tbody tr th {\n",
              "        vertical-align: top;\n",
              "    }\n",
              "\n",
              "    .dataframe thead th {\n",
              "        text-align: right;\n",
              "    }\n",
              "</style>\n",
              "<table border=\"1\" class=\"dataframe\">\n",
              "  <thead>\n",
              "    <tr style=\"text-align: right;\">\n",
              "      <th></th>\n",
              "      <th>positive_score</th>\n",
              "      <th>negative_score</th>\n",
              "      <th>Polarity_Score</th>\n",
              "      <th>subjectiivity_score</th>\n",
              "      <th>avg_senetence_length</th>\n",
              "      <th>Percentage_of_Complex_words</th>\n",
              "      <th>Fog_Index</th>\n",
              "      <th>avg_no_of_words_per_sentence</th>\n",
              "      <th>complex_Word_Count</th>\n",
              "      <th>word_count</th>\n",
              "      <th>syllable_count</th>\n",
              "      <th>personal_pronouns</th>\n",
              "      <th>avg_word_length</th>\n",
              "    </tr>\n",
              "  </thead>\n",
              "  <tbody>\n",
              "    <tr>\n",
              "      <th>0</th>\n",
              "      <td>29.0</td>\n",
              "      <td>12.0</td>\n",
              "      <td>0.414634</td>\n",
              "      <td>0.02228</td>\n",
              "      <td>99.844444</td>\n",
              "      <td>0.250328</td>\n",
              "      <td>40.037909</td>\n",
              "      <td>16.533333</td>\n",
              "      <td>191.0</td>\n",
              "      <td>763.0</td>\n",
              "      <td>1433.0</td>\n",
              "      <td>7.0</td>\n",
              "      <td>4.972477</td>\n",
              "    </tr>\n",
              "  </tbody>\n",
              "</table>\n",
              "</div>\n",
              "      <button class=\"colab-df-convert\" onclick=\"convertToInteractive('df-fa068753-eaf8-4896-8fff-548bb973c977')\"\n",
              "              title=\"Convert this dataframe to an interactive table.\"\n",
              "              style=\"display:none;\">\n",
              "        \n",
              "  <svg xmlns=\"http://www.w3.org/2000/svg\" height=\"24px\"viewBox=\"0 0 24 24\"\n",
              "       width=\"24px\">\n",
              "    <path d=\"M0 0h24v24H0V0z\" fill=\"none\"/>\n",
              "    <path d=\"M18.56 5.44l.94 2.06.94-2.06 2.06-.94-2.06-.94-.94-2.06-.94 2.06-2.06.94zm-11 1L8.5 8.5l.94-2.06 2.06-.94-2.06-.94L8.5 2.5l-.94 2.06-2.06.94zm10 10l.94 2.06.94-2.06 2.06-.94-2.06-.94-.94-2.06-.94 2.06-2.06.94z\"/><path d=\"M17.41 7.96l-1.37-1.37c-.4-.4-.92-.59-1.43-.59-.52 0-1.04.2-1.43.59L10.3 9.45l-7.72 7.72c-.78.78-.78 2.05 0 2.83L4 21.41c.39.39.9.59 1.41.59.51 0 1.02-.2 1.41-.59l7.78-7.78 2.81-2.81c.8-.78.8-2.07 0-2.86zM5.41 20L4 18.59l7.72-7.72 1.47 1.35L5.41 20z\"/>\n",
              "  </svg>\n",
              "      </button>\n",
              "      \n",
              "  <style>\n",
              "    .colab-df-container {\n",
              "      display:flex;\n",
              "      flex-wrap:wrap;\n",
              "      gap: 12px;\n",
              "    }\n",
              "\n",
              "    .colab-df-convert {\n",
              "      background-color: #E8F0FE;\n",
              "      border: none;\n",
              "      border-radius: 50%;\n",
              "      cursor: pointer;\n",
              "      display: none;\n",
              "      fill: #1967D2;\n",
              "      height: 32px;\n",
              "      padding: 0 0 0 0;\n",
              "      width: 32px;\n",
              "    }\n",
              "\n",
              "    .colab-df-convert:hover {\n",
              "      background-color: #E2EBFA;\n",
              "      box-shadow: 0px 1px 2px rgba(60, 64, 67, 0.3), 0px 1px 3px 1px rgba(60, 64, 67, 0.15);\n",
              "      fill: #174EA6;\n",
              "    }\n",
              "\n",
              "    [theme=dark] .colab-df-convert {\n",
              "      background-color: #3B4455;\n",
              "      fill: #D2E3FC;\n",
              "    }\n",
              "\n",
              "    [theme=dark] .colab-df-convert:hover {\n",
              "      background-color: #434B5C;\n",
              "      box-shadow: 0px 1px 3px 1px rgba(0, 0, 0, 0.15);\n",
              "      filter: drop-shadow(0px 1px 2px rgba(0, 0, 0, 0.3));\n",
              "      fill: #FFFFFF;\n",
              "    }\n",
              "  </style>\n",
              "\n",
              "      <script>\n",
              "        const buttonEl =\n",
              "          document.querySelector('#df-fa068753-eaf8-4896-8fff-548bb973c977 button.colab-df-convert');\n",
              "        buttonEl.style.display =\n",
              "          google.colab.kernel.accessAllowed ? 'block' : 'none';\n",
              "\n",
              "        async function convertToInteractive(key) {\n",
              "          const element = document.querySelector('#df-fa068753-eaf8-4896-8fff-548bb973c977');\n",
              "          const dataTable =\n",
              "            await google.colab.kernel.invokeFunction('convertToInteractive',\n",
              "                                                     [key], {});\n",
              "          if (!dataTable) return;\n",
              "\n",
              "          const docLinkHtml = 'Like what you see? Visit the ' +\n",
              "            '<a target=\"_blank\" href=https://colab.research.google.com/notebooks/data_table.ipynb>data table notebook</a>'\n",
              "            + ' to learn more about interactive tables.';\n",
              "          element.innerHTML = '';\n",
              "          dataTable['output_type'] = 'display_data';\n",
              "          await google.colab.output.renderOutput(dataTable, element);\n",
              "          const docLink = document.createElement('div');\n",
              "          docLink.innerHTML = docLinkHtml;\n",
              "          element.appendChild(docLink);\n",
              "        }\n",
              "      </script>\n",
              "    </div>\n",
              "  </div>\n",
              "  "
            ]
          },
          "metadata": {},
          "execution_count": 120
        }
      ],
      "source": [
        "output=pd.DataFrame()\n",
        "output=output.append(data,ignore_index=True)\n",
        "#output.columns=['positive_score','negative_score','Polarity_Score','subjectiivity_score','avg_senetence_length','Percentage_of_Complex_words','Fog_Index','avg_no_of_words_per_sentence','complex_Word_Count','word_count','syllable_count','personal_pronouns','avg_word_length']\n",
        "output"
      ]
    },
    {
      "cell_type": "code",
      "execution_count": 125,
      "metadata": {
        "id": "XcEXxciB6w0i",
        "colab": {
          "base_uri": "https://localhost:8080/",
          "height": 17
        },
        "outputId": "baad5f5e-a961-47dc-af14-210ab8fbc66f"
      },
      "outputs": [
        {
          "output_type": "display_data",
          "data": {
            "text/plain": [
              "<IPython.core.display.Javascript object>"
            ],
            "application/javascript": [
              "\n",
              "    async function download(id, filename, size) {\n",
              "      if (!google.colab.kernel.accessAllowed) {\n",
              "        return;\n",
              "      }\n",
              "      const div = document.createElement('div');\n",
              "      const label = document.createElement('label');\n",
              "      label.textContent = `Downloading \"${filename}\": `;\n",
              "      div.appendChild(label);\n",
              "      const progress = document.createElement('progress');\n",
              "      progress.max = size;\n",
              "      div.appendChild(progress);\n",
              "      document.body.appendChild(div);\n",
              "\n",
              "      const buffers = [];\n",
              "      let downloaded = 0;\n",
              "\n",
              "      const channel = await google.colab.kernel.comms.open(id);\n",
              "      // Send a message to notify the kernel that we're ready.\n",
              "      channel.send({})\n",
              "\n",
              "      for await (const message of channel.messages) {\n",
              "        // Send a message to notify the kernel that we're ready.\n",
              "        channel.send({})\n",
              "        if (message.buffers) {\n",
              "          for (const buffer of message.buffers) {\n",
              "            buffers.push(buffer);\n",
              "            downloaded += buffer.byteLength;\n",
              "            progress.value = downloaded;\n",
              "          }\n",
              "        }\n",
              "      }\n",
              "      const blob = new Blob(buffers, {type: 'application/binary'});\n",
              "      const a = document.createElement('a');\n",
              "      a.href = window.URL.createObjectURL(blob);\n",
              "      a.download = filename;\n",
              "      div.appendChild(a);\n",
              "      a.click();\n",
              "      div.remove();\n",
              "    }\n",
              "  "
            ]
          },
          "metadata": {}
        },
        {
          "output_type": "display_data",
          "data": {
            "text/plain": [
              "<IPython.core.display.Javascript object>"
            ],
            "application/javascript": [
              "download(\"download_feb1d22b-203e-474c-8e22-f67d87fcc6bd\", \"output.csv\", 1359)"
            ]
          },
          "metadata": {}
        }
      ],
      "source": [
        "with open('output.csv', 'a') as f:#creating text file \n",
        "   output.to_csv(f, index=False, header=True)\n",
        "files.download('output.csv')"
      ]
    },
    {
      "cell_type": "code",
      "source": [],
      "metadata": {
        "id": "75a5SH0jGOM2"
      },
      "execution_count": null,
      "outputs": []
    }
  ],
  "metadata": {
    "colab": {
      "provenance": [],
      "include_colab_link": true
    },
    "kernelspec": {
      "display_name": "Python 3 (ipykernel)",
      "language": "python",
      "name": "python3"
    },
    "language_info": {
      "codemirror_mode": {
        "name": "ipython",
        "version": 3
      },
      "file_extension": ".py",
      "mimetype": "text/x-python",
      "name": "python",
      "nbconvert_exporter": "python",
      "pygments_lexer": "ipython3",
      "version": "3.9.12"
    }
  },
  "nbformat": 4,
  "nbformat_minor": 0
}